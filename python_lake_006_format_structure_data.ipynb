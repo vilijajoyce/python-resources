{
  "nbformat": 4,
  "nbformat_minor": 0,
  "metadata": {
    "colab": {
      "name": "python_lake_006_format_structure_data.ipynb",
      "provenance": [],
      "collapsed_sections": [],
      "authorship_tag": "ABX9TyP5J/sEpqQotNUlGBzecNxz",
      "include_colab_link": true
    },
    "kernelspec": {
      "name": "python3",
      "display_name": "Python 3"
    },
    "language_info": {
      "name": "python"
    }
  },
  "cells": [
    {
      "cell_type": "markdown",
      "metadata": {
        "id": "view-in-github",
        "colab_type": "text"
      },
      "source": [
        "<a href=\"https://colab.research.google.com/github/vilijajoyce/python-resources/blob/main/python_lake_006_format_structure_data.ipynb\" target=\"_parent\"><img src=\"https://colab.research.google.com/assets/colab-badge.svg\" alt=\"Open In Colab\"/></a>"
      ]
    },
    {
      "cell_type": "markdown",
      "source": [
        "# Format and structure of digital data\n",
        "Record info about research participants. We get a measurement, a value, a single piece of data. Multiple measurements across subject, time, trials. Stacks of data. Need to keep it organized. How do we organize data to do analysis? Good data organizing principles. Focus on Pandas library - data manipulation tool for Python. Clean, organize, enter, reorganize, explore-->all using Python."
      ],
      "metadata": {
        "id": "wL5PIWHXSXaZ"
      }
    },
    {
      "cell_type": "markdown",
      "source": [
        "## Tabular data\n",
        "Spreadsheet. 2-D tabular representation of data (e.g. A1, B2, etc.). Cells. Metadata = data that describes other data (e.g. take a pic - not just the pic saved, but also date, filesize, etc.). Think of columns as metadata. Rows are observations.  Restart at 6:06."
      ],
      "metadata": {
        "id": "_BJmu1tYT5C3"
      }
    },
    {
      "cell_type": "code",
      "execution_count": null,
      "metadata": {
        "id": "ktzTOiOMSBs5"
      },
      "outputs": [],
      "source": [
        ""
      ]
    }
  ]
}