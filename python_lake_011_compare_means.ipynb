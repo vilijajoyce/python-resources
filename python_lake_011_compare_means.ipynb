{
  "nbformat": 4,
  "nbformat_minor": 0,
  "metadata": {
    "colab": {
      "name": "python_lake_011_compare_means.ipynb",
      "provenance": [],
      "authorship_tag": "ABX9TyNvwqFYiw+kIT+Y8u/zDcNv",
      "include_colab_link": true
    },
    "kernelspec": {
      "name": "python3",
      "display_name": "Python 3"
    },
    "language_info": {
      "name": "python"
    }
  },
  "cells": [
    {
      "cell_type": "markdown",
      "metadata": {
        "id": "view-in-github",
        "colab_type": "text"
      },
      "source": [
        "<a href=\"https://colab.research.google.com/github/vilijajoyce/python-resources/blob/main/python_lake_011_compare_means.ipynb\" target=\"_parent\"><img src=\"https://colab.research.google.com/assets/colab-badge.svg\" alt=\"Open In Colab\"/></a>"
      ]
    },
    {
      "cell_type": "code",
      "execution_count": null,
      "metadata": {
        "id": "JVzDSIXKbn1S"
      },
      "outputs": [],
      "source": [
        ""
      ]
    },
    {
      "cell_type": "markdown",
      "source": [
        "# Comparing one or two means"
      ],
      "metadata": {
        "id": "FT7_Tzbpbtbe"
      }
    }
  ]
}