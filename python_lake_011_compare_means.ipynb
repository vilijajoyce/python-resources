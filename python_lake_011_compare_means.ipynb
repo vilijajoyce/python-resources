{
  "nbformat": 4,
  "nbformat_minor": 0,
  "metadata": {
    "colab": {
      "name": "python_lake_011_compare_means.ipynb",
      "provenance": [],
      "collapsed_sections": [],
      "authorship_tag": "ABX9TyNE1X1xavSTxPOmNoREDC54",
      "include_colab_link": true
    },
    "kernelspec": {
      "name": "python3",
      "display_name": "Python 3"
    },
    "language_info": {
      "name": "python"
    }
  },
  "cells": [
    {
      "cell_type": "markdown",
      "metadata": {
        "id": "view-in-github",
        "colab_type": "text"
      },
      "source": [
        "<a href=\"https://colab.research.google.com/github/vilijajoyce/python-resources/blob/main/python_lake_011_compare_means.ipynb\" target=\"_parent\"><img src=\"https://colab.research.google.com/assets/colab-badge.svg\" alt=\"Open In Colab\"/></a>"
      ]
    },
    {
      "cell_type": "markdown",
      "source": [
        "# Comparing one or two means\n",
        "## Datasets\n",
        "https://cims.nyu.edu/~brenden/courses/labincp/data/\n",
        "\n",
        "## One-sample z test\n",
        "Almost never used IRL.\n",
        "\n",
        "Requires normality, independence, known SD (in no real world data anslysis problem do you know the SD)."
      ],
      "metadata": {
        "id": "FT7_Tzbpbtbe"
      }
    },
    {
      "cell_type": "code",
      "source": [
        "from IPython.core.display import HTML, Markdown, display\n",
        "\n",
        "import numpy.random as npr\n",
        "import numpy as np\n",
        "import pandas as pd\n",
        "import pingouin as pg\n",
        "import seaborn as sns\n",
        "#from cycler import cycler\n",
        "import matplotlib.pyplot as plt\n",
        "import scipy.stats as stats\n",
        "#import statsmodels.formula.api as smf\n",
        "import ipywidgets as widgets\n",
        "# from matplotlib.patches import Polygon\n",
        "# from matplotlib.gridspec import GridSpec\n",
        "\n",
        "!pip install myst_nb\n",
        "from myst_nb import glue # for the Jupyter book chapter\n",
        "\n",
        "# Average grade in Zeppo's class is 67.5\n",
        "# Here is a subset of that population - just the psych students\n",
        "zeppo_df=pd.read_csv('/content/zeppo.csv')\n",
        "zeppo_df.columns=[\"grades\"]\n",
        "zeppo_df.grades"
      ],
      "metadata": {
        "colab": {
          "base_uri": "https://localhost:8080/",
          "height": 1000
        },
        "id": "TbDVcLI-y_KZ",
        "outputId": "4674f10d-3b29-44cd-cf38-361a5def2513"
      },
      "execution_count": 16,
      "outputs": [
        {
          "output_type": "stream",
          "name": "stdout",
          "text": [
            "Looking in indexes: https://pypi.org/simple, https://us-python.pkg.dev/colab-wheels/public/simple/\n",
            "Collecting myst_nb\n",
            "  Downloading myst_nb-0.16.0-py3-none-any.whl (76 kB)\n",
            "\u001b[K     |████████████████████████████████| 76 kB 3.3 MB/s \n",
            "\u001b[?25hCollecting sphinx<6,>=4\n",
            "  Downloading Sphinx-5.0.2-py3-none-any.whl (3.1 MB)\n",
            "\u001b[K     |████████████████████████████████| 3.1 MB 11.6 MB/s \n",
            "\u001b[?25hRequirement already satisfied: typing-extensions in /usr/local/lib/python3.7/dist-packages (from myst_nb) (4.1.1)\n",
            "Requirement already satisfied: ipython in /usr/local/lib/python3.7/dist-packages (from myst_nb) (5.5.0)\n",
            "Requirement already satisfied: nbclient in /usr/local/lib/python3.7/dist-packages (from myst_nb) (0.6.4)\n",
            "Requirement already satisfied: ipykernel in /usr/local/lib/python3.7/dist-packages (from myst_nb) (4.10.1)\n",
            "Requirement already satisfied: importlib_metadata in /usr/local/lib/python3.7/dist-packages (from myst_nb) (4.11.4)\n",
            "Requirement already satisfied: nbformat~=5.0 in /usr/local/lib/python3.7/dist-packages (from myst_nb) (5.4.0)\n",
            "Collecting jupyter-cache~=0.5.0\n",
            "  Downloading jupyter_cache-0.5.0-py3-none-any.whl (34 kB)\n",
            "Collecting myst-parser~=0.18.0\n",
            "  Downloading myst_parser-0.18.0-py3-none-any.whl (57 kB)\n",
            "\u001b[K     |████████████████████████████████| 57 kB 5.8 MB/s \n",
            "\u001b[?25hCollecting sphinx-togglebutton~=0.3.0\n",
            "  Downloading sphinx_togglebutton-0.3.1-py3-none-any.whl (8.0 kB)\n",
            "Requirement already satisfied: pyyaml in /usr/local/lib/python3.7/dist-packages (from myst_nb) (3.13)\n",
            "Requirement already satisfied: tabulate in /usr/local/lib/python3.7/dist-packages (from jupyter-cache~=0.5.0->myst_nb) (0.8.9)\n",
            "Collecting nbclient\n",
            "  Downloading nbclient-0.5.13-py3-none-any.whl (70 kB)\n",
            "\u001b[K     |████████████████████████████████| 70 kB 7.4 MB/s \n",
            "\u001b[?25hRequirement already satisfied: attrs in /usr/local/lib/python3.7/dist-packages (from jupyter-cache~=0.5.0->myst_nb) (21.4.0)\n",
            "Requirement already satisfied: click in /usr/local/lib/python3.7/dist-packages (from jupyter-cache~=0.5.0->myst_nb) (7.1.2)\n",
            "Requirement already satisfied: sqlalchemy<1.5,>=1.3.12 in /usr/local/lib/python3.7/dist-packages (from jupyter-cache~=0.5.0->myst_nb) (1.4.37)\n",
            "Requirement already satisfied: docutils<0.19,>=0.15 in /usr/local/lib/python3.7/dist-packages (from myst-parser~=0.18.0->myst_nb) (0.17.1)\n",
            "Collecting mdit-py-plugins~=0.3.0\n",
            "  Downloading mdit_py_plugins-0.3.0-py3-none-any.whl (43 kB)\n",
            "\u001b[K     |████████████████████████████████| 43 kB 1.5 MB/s \n",
            "\u001b[?25hRequirement already satisfied: jinja2 in /usr/local/lib/python3.7/dist-packages (from myst-parser~=0.18.0->myst_nb) (2.11.3)\n",
            "Collecting markdown-it-py<3.0.0,>=1.0.0\n",
            "  Downloading markdown_it_py-2.1.0-py3-none-any.whl (84 kB)\n",
            "\u001b[K     |████████████████████████████████| 84 kB 3.0 MB/s \n",
            "\u001b[?25hCollecting mdurl~=0.1\n",
            "  Downloading mdurl-0.1.1-py3-none-any.whl (10 kB)\n",
            "Requirement already satisfied: traitlets>=5.0.0 in /usr/local/lib/python3.7/dist-packages (from nbclient->myst_nb) (5.1.1)\n",
            "Requirement already satisfied: nest-asyncio in /usr/local/lib/python3.7/dist-packages (from nbclient->myst_nb) (1.5.5)\n",
            "Collecting jupyter-client>=6.1.5\n",
            "  Downloading jupyter_client-7.3.4-py3-none-any.whl (132 kB)\n",
            "\u001b[K     |████████████████████████████████| 132 kB 50.6 MB/s \n",
            "\u001b[?25hRequirement already satisfied: entrypoints in /usr/local/lib/python3.7/dist-packages (from jupyter-client>=6.1.5->nbclient->myst_nb) (0.4)\n",
            "Requirement already satisfied: pyzmq>=23.0 in /usr/local/lib/python3.7/dist-packages (from jupyter-client>=6.1.5->nbclient->myst_nb) (23.1.0)\n",
            "Collecting tornado>=6.0\n",
            "  Downloading tornado-6.1-cp37-cp37m-manylinux2010_x86_64.whl (428 kB)\n",
            "\u001b[K     |████████████████████████████████| 428 kB 53.0 MB/s \n",
            "\u001b[?25hRequirement already satisfied: python-dateutil>=2.8.2 in /usr/local/lib/python3.7/dist-packages (from jupyter-client>=6.1.5->nbclient->myst_nb) (2.8.2)\n",
            "Requirement already satisfied: jupyter-core>=4.9.2 in /usr/local/lib/python3.7/dist-packages (from jupyter-client>=6.1.5->nbclient->myst_nb) (4.10.0)\n",
            "Requirement already satisfied: fastjsonschema in /usr/local/lib/python3.7/dist-packages (from nbformat~=5.0->myst_nb) (2.15.3)\n",
            "Requirement already satisfied: jsonschema>=2.6 in /usr/local/lib/python3.7/dist-packages (from nbformat~=5.0->myst_nb) (4.3.3)\n",
            "Requirement already satisfied: importlib-resources>=1.4.0 in /usr/local/lib/python3.7/dist-packages (from jsonschema>=2.6->nbformat~=5.0->myst_nb) (5.7.1)\n",
            "Requirement already satisfied: pyrsistent!=0.17.0,!=0.17.1,!=0.17.2,>=0.14.0 in /usr/local/lib/python3.7/dist-packages (from jsonschema>=2.6->nbformat~=5.0->myst_nb) (0.18.1)\n",
            "Requirement already satisfied: zipp>=3.1.0 in /usr/local/lib/python3.7/dist-packages (from importlib-resources>=1.4.0->jsonschema>=2.6->nbformat~=5.0->myst_nb) (3.8.0)\n",
            "Requirement already satisfied: six>=1.5 in /usr/local/lib/python3.7/dist-packages (from python-dateutil>=2.8.2->jupyter-client>=6.1.5->nbclient->myst_nb) (1.15.0)\n",
            "Collecting sphinxcontrib-htmlhelp>=2.0.0\n",
            "  Downloading sphinxcontrib_htmlhelp-2.0.0-py2.py3-none-any.whl (100 kB)\n",
            "\u001b[K     |████████████████████████████████| 100 kB 10.2 MB/s \n",
            "\u001b[?25hRequirement already satisfied: alabaster<0.8,>=0.7 in /usr/local/lib/python3.7/dist-packages (from sphinx<6,>=4->myst_nb) (0.7.12)\n",
            "Collecting sphinxcontrib-applehelp\n",
            "  Downloading sphinxcontrib_applehelp-1.0.2-py2.py3-none-any.whl (121 kB)\n",
            "\u001b[K     |████████████████████████████████| 121 kB 65.2 MB/s \n",
            "\u001b[?25hCollecting sphinxcontrib-jsmath\n",
            "  Downloading sphinxcontrib_jsmath-1.0.1-py2.py3-none-any.whl (5.1 kB)\n",
            "Collecting sphinxcontrib-qthelp\n",
            "  Downloading sphinxcontrib_qthelp-1.0.3-py2.py3-none-any.whl (90 kB)\n",
            "\u001b[K     |████████████████████████████████| 90 kB 9.8 MB/s \n",
            "\u001b[?25hCollecting sphinxcontrib-devhelp\n",
            "  Downloading sphinxcontrib_devhelp-1.0.2-py2.py3-none-any.whl (84 kB)\n",
            "\u001b[K     |████████████████████████████████| 84 kB 3.8 MB/s \n",
            "\u001b[?25hRequirement already satisfied: packaging in /usr/local/lib/python3.7/dist-packages (from sphinx<6,>=4->myst_nb) (21.3)\n",
            "Requirement already satisfied: imagesize in /usr/local/lib/python3.7/dist-packages (from sphinx<6,>=4->myst_nb) (1.3.0)\n",
            "Requirement already satisfied: Pygments>=2.0 in /usr/local/lib/python3.7/dist-packages (from sphinx<6,>=4->myst_nb) (2.6.1)\n",
            "Requirement already satisfied: babel>=1.3 in /usr/local/lib/python3.7/dist-packages (from sphinx<6,>=4->myst_nb) (2.10.2)\n",
            "Requirement already satisfied: sphinxcontrib-serializinghtml>=1.1.5 in /usr/local/lib/python3.7/dist-packages (from sphinx<6,>=4->myst_nb) (1.1.5)\n",
            "Requirement already satisfied: snowballstemmer>=1.1 in /usr/local/lib/python3.7/dist-packages (from sphinx<6,>=4->myst_nb) (2.2.0)\n",
            "Requirement already satisfied: requests>=2.5.0 in /usr/local/lib/python3.7/dist-packages (from sphinx<6,>=4->myst_nb) (2.23.0)\n",
            "Requirement already satisfied: pytz>=2015.7 in /usr/local/lib/python3.7/dist-packages (from babel>=1.3->sphinx<6,>=4->myst_nb) (2022.1)\n",
            "Requirement already satisfied: MarkupSafe>=0.23 in /usr/local/lib/python3.7/dist-packages (from jinja2->myst-parser~=0.18.0->myst_nb) (2.0.1)\n",
            "Requirement already satisfied: chardet<4,>=3.0.2 in /usr/local/lib/python3.7/dist-packages (from requests>=2.5.0->sphinx<6,>=4->myst_nb) (3.0.4)\n",
            "Requirement already satisfied: certifi>=2017.4.17 in /usr/local/lib/python3.7/dist-packages (from requests>=2.5.0->sphinx<6,>=4->myst_nb) (2022.6.15)\n",
            "Requirement already satisfied: idna<3,>=2.5 in /usr/local/lib/python3.7/dist-packages (from requests>=2.5.0->sphinx<6,>=4->myst_nb) (2.10)\n",
            "Requirement already satisfied: urllib3!=1.25.0,!=1.25.1,<1.26,>=1.21.1 in /usr/local/lib/python3.7/dist-packages (from requests>=2.5.0->sphinx<6,>=4->myst_nb) (1.24.3)\n",
            "Requirement already satisfied: wheel in /usr/local/lib/python3.7/dist-packages (from sphinx-togglebutton~=0.3.0->myst_nb) (0.37.1)\n",
            "Requirement already satisfied: setuptools in /usr/local/lib/python3.7/dist-packages (from sphinx-togglebutton~=0.3.0->myst_nb) (57.4.0)\n",
            "Requirement already satisfied: greenlet!=0.4.17 in /usr/local/lib/python3.7/dist-packages (from sqlalchemy<1.5,>=1.3.12->jupyter-cache~=0.5.0->myst_nb) (1.1.2)\n",
            "Requirement already satisfied: simplegeneric>0.8 in /usr/local/lib/python3.7/dist-packages (from ipython->myst_nb) (0.8.1)\n",
            "Requirement already satisfied: prompt-toolkit<2.0.0,>=1.0.4 in /usr/local/lib/python3.7/dist-packages (from ipython->myst_nb) (1.0.18)\n",
            "Requirement already satisfied: decorator in /usr/local/lib/python3.7/dist-packages (from ipython->myst_nb) (4.4.2)\n",
            "Requirement already satisfied: pickleshare in /usr/local/lib/python3.7/dist-packages (from ipython->myst_nb) (0.7.5)\n",
            "Requirement already satisfied: pexpect in /usr/local/lib/python3.7/dist-packages (from ipython->myst_nb) (4.8.0)\n",
            "Requirement already satisfied: wcwidth in /usr/local/lib/python3.7/dist-packages (from prompt-toolkit<2.0.0,>=1.0.4->ipython->myst_nb) (0.2.5)\n",
            "Requirement already satisfied: pyparsing!=3.0.5,>=2.0.2 in /usr/local/lib/python3.7/dist-packages (from packaging->sphinx<6,>=4->myst_nb) (3.0.9)\n",
            "Requirement already satisfied: ptyprocess>=0.5 in /usr/local/lib/python3.7/dist-packages (from pexpect->ipython->myst_nb) (0.7.0)\n",
            "Installing collected packages: tornado, mdurl, sphinxcontrib-qthelp, sphinxcontrib-jsmath, sphinxcontrib-htmlhelp, sphinxcontrib-devhelp, sphinxcontrib-applehelp, markdown-it-py, jupyter-client, sphinx, nbclient, mdit-py-plugins, sphinx-togglebutton, myst-parser, jupyter-cache, myst-nb\n",
            "  Attempting uninstall: tornado\n",
            "    Found existing installation: tornado 5.1.1\n",
            "    Uninstalling tornado-5.1.1:\n",
            "      Successfully uninstalled tornado-5.1.1\n",
            "  Attempting uninstall: jupyter-client\n",
            "    Found existing installation: jupyter-client 5.3.5\n",
            "    Uninstalling jupyter-client-5.3.5:\n",
            "      Successfully uninstalled jupyter-client-5.3.5\n",
            "  Attempting uninstall: sphinx\n",
            "    Found existing installation: Sphinx 1.8.6\n",
            "    Uninstalling Sphinx-1.8.6:\n",
            "      Successfully uninstalled Sphinx-1.8.6\n",
            "  Attempting uninstall: nbclient\n",
            "    Found existing installation: nbclient 0.6.4\n",
            "    Uninstalling nbclient-0.6.4:\n",
            "      Successfully uninstalled nbclient-0.6.4\n",
            "\u001b[31mERROR: pip's dependency resolver does not currently take into account all the packages that are installed. This behaviour is the source of the following dependency conflicts.\n",
            "google-colab 1.0.0 requires tornado~=5.1.0; python_version >= \"3.0\", but you have tornado 6.1 which is incompatible.\n",
            "datascience 0.10.6 requires folium==0.2.1, but you have folium 0.8.3 which is incompatible.\u001b[0m\n",
            "Successfully installed jupyter-cache-0.5.0 jupyter-client-7.3.4 markdown-it-py-2.1.0 mdit-py-plugins-0.3.0 mdurl-0.1.1 myst-nb-0.16.0 myst-parser-0.18.0 nbclient-0.5.13 sphinx-5.0.2 sphinx-togglebutton-0.3.1 sphinxcontrib-applehelp-1.0.2 sphinxcontrib-devhelp-1.0.2 sphinxcontrib-htmlhelp-2.0.0 sphinxcontrib-jsmath-1.0.1 sphinxcontrib-qthelp-1.0.3 tornado-6.1\n"
          ]
        },
        {
          "output_type": "display_data",
          "data": {
            "application/vnd.colab-display-data+json": {
              "pip_warning": {
                "packages": [
                  "sphinxcontrib",
                  "tornado"
                ]
              }
            }
          },
          "metadata": {}
        },
        {
          "output_type": "execute_result",
          "data": {
            "text/plain": [
              "0     60\n",
              "1     60\n",
              "2     64\n",
              "3     66\n",
              "4     66\n",
              "5     67\n",
              "6     69\n",
              "7     70\n",
              "8     74\n",
              "9     76\n",
              "10    76\n",
              "11    77\n",
              "12    79\n",
              "13    79\n",
              "14    79\n",
              "15    81\n",
              "16    82\n",
              "17    82\n",
              "18    89\n",
              "Name: grades, dtype: int64"
            ]
          },
          "metadata": {},
          "execution_count": 16
        }
      ]
    },
    {
      "cell_type": "code",
      "source": [
        "# Calculate mean for psych students - appears to be higher than average, but perhaps just by chance\n",
        "zeppo_df.grades.mean()"
      ],
      "metadata": {
        "colab": {
          "base_uri": "https://localhost:8080/"
        },
        "id": "pbuI0tU10fbr",
        "outputId": "7f2a22dd-bde9-4d59-a5d7-bf7637fffd70"
      },
      "execution_count": 6,
      "outputs": [
        {
          "output_type": "execute_result",
          "data": {
            "text/plain": [
              "73.47368421052632"
            ]
          },
          "metadata": {},
          "execution_count": 6
        }
      ]
    },
    {
      "cell_type": "code",
      "source": [
        "# Hypothesized population mean of 67.5 with pop SD 9.5\n",
        "sns_fig=sns.displot(zeppo_df.grades,bins=np.arange(31,101,5),kde=False)\n",
        "\n",
        "x=np.arange(20,101)\n",
        "y=stats.norm.pdf(x,67.5,9.5)\n",
        "plt.plot(x,y*100)  # just for display purposes scaling the size of the normal distribution\n",
        "#plt.show()\n",
        "\n",
        "glue(\"zeppo_fig\",sns_fig.fig,display=False)"
      ],
      "metadata": {
        "colab": {
          "base_uri": "https://localhost:8080/",
          "height": 552
        },
        "id": "yNJJVRZ_1ODF",
        "outputId": "5ec1ab83-4fa6-4c14-885c-ab15f8895a5b"
      },
      "execution_count": 12,
      "outputs": [
        {
          "output_type": "error",
          "ename": "NameError",
          "evalue": "ignored",
          "traceback": [
            "\u001b[0;31m---------------------------------------------------------------------------\u001b[0m",
            "\u001b[0;31mNameError\u001b[0m                                 Traceback (most recent call last)",
            "\u001b[0;32m<ipython-input-12-9460f694ba03>\u001b[0m in \u001b[0;36m<module>\u001b[0;34m()\u001b[0m\n\u001b[1;32m      7\u001b[0m \u001b[0;31m#plt.show()\u001b[0m\u001b[0;34m\u001b[0m\u001b[0;34m\u001b[0m\u001b[0;34m\u001b[0m\u001b[0m\n\u001b[1;32m      8\u001b[0m \u001b[0;34m\u001b[0m\u001b[0m\n\u001b[0;32m----> 9\u001b[0;31m \u001b[0mglue\u001b[0m\u001b[0;34m(\u001b[0m\u001b[0;34m\"zeppo_fig\"\u001b[0m\u001b[0;34m,\u001b[0m\u001b[0msns_fig\u001b[0m\u001b[0;34m.\u001b[0m\u001b[0mfig\u001b[0m\u001b[0;34m,\u001b[0m\u001b[0mdisplay\u001b[0m\u001b[0;34m=\u001b[0m\u001b[0;32mFalse\u001b[0m\u001b[0;34m)\u001b[0m\u001b[0;34m\u001b[0m\u001b[0;34m\u001b[0m\u001b[0m\n\u001b[0m",
            "\u001b[0;31mNameError\u001b[0m: name 'glue' is not defined"
          ]
        },
        {
          "output_type": "display_data",
          "data": {
            "text/plain": [
              "<Figure size 360x360 with 1 Axes>"
            ],
            "image/png": "[encoded data removed]"
          },
          "metadata": {
            "needs_background": "light"
          }
        }
      ]
    },
    {
      "cell_type": "markdown",
      "source": [
        "## Constructing the hypothesis test\n",
        "Null H0: True population mean for psych student grades is 67.5\n",
        "\n",
        "Alt H1:  Not 67.5\n",
        "\n",
        "Psych grades are normally distributed and true SD is 9.5.\n",
        "\n"
      ],
      "metadata": {
        "id": "uOU_jS_h2MEw"
      }
    },
    {
      "cell_type": "code",
      "source": [
        "# Graphical illustration of the null and alternative hypotheses assumed by the one sample $z$-test (the two sided version, that is). \n",
        "# The null and alternative hypotheses both assume that the population distribution is normal, and additionally assumes that the \n",
        "# population standard deviation is known (fixed at some value $\\\\sigma_0$). The null hypothesis (left) is that the population mean $\\mu$ is \n",
        "#equal to some specified value $\\mu_0$. The alternative hypothesis is that the population mean differs from this value, $\\mu \\neq \\mu_0$.\n",
        "\n",
        "fig, ax = plt.subplots(1,2,figsize=(10,4))\n",
        "\n",
        "\n",
        "x = np.linspace(-5,30,100)\n",
        "x2 = np.linspace(-5,30,100)\n",
        "y=stats.norm.pdf(x, 12,3.5)\n",
        "y2=stats.norm.pdf(x2,15,3.5)\n",
        "\n",
        "ax[0].plot(x,y)\n",
        "ax[0].set_ylabel(\"probability\")\n",
        "ax[0].set_xlabel(\"value of X\")\n",
        "ax[0].set_title(\"null hypothesis\")\n",
        "ax[0].set_ylim(0,0.13)\n",
        "ax[0].fill_between(x,y, where=y>0.0,interpolate=True,facecolor='lightblue',alpha=0.2)\n",
        "ax[0].plot([12,12],[0,0.113],color='k')\n",
        "ax[0].plot([8,12],[0.06,0.06],color='r')\n",
        "ax[0].set_xticklabels([])\n",
        "ax[0].set_yticklabels([])\n",
        "ax[0].annotate(\"$\\sigma$ = $\\sigma_0$\", xy=(2,0.06),xytext=(2,0.06))\n",
        "ax[0].annotate(\"$\\mu$ = $\\mu_0$\", xy=(10,0.12),xytext=(10,0.12))\n",
        "\n",
        "\n",
        "\n",
        "\n",
        "\n",
        "ax[1].plot(x,y)\n",
        "ax[1].set_ylabel(\"probability\")\n",
        "ax[1].set_xlabel(\"value of X\")\n",
        "ax[1].set_title(\"alternative hypothesis\")\n",
        "ax[1].set_ylim(0,0.13)\n",
        "ax[1].fill_between(x,y, where=y>0.0,interpolate=True,facecolor='lightblue',alpha=0.2)\n",
        "ax[1].plot([8,12],[0.06,0.06],color='r')\n",
        "ax[1].plot([18,18],[0,0.113],color='k')\n",
        "ax[1].annotate(\"$\\sigma$ = $\\sigma_0$\", xy=(2,0.06),xytext=(2,0.06))\n",
        "ax[1].annotate(\"$\\mu \\\\neq \\mu_0$\", xy=(16,0.12),xytext=(16,0.12))\n",
        "ax[1].set_xticklabels([])\n",
        "ax[1].set_yticklabels([])\n",
        "\n",
        "sns.despine(top=True, right=True)\n",
        "\n",
        "#plt.show()\n",
        "glue(\"ztest_hypo_fig\",fig,display=False)"
      ],
      "metadata": {
        "colab": {
          "base_uri": "https://localhost:8080/",
          "height": 468
        },
        "id": "xbN8bUJZ2n-2",
        "outputId": "a879fdec-537a-4a80-a24f-292a7bf65be7"
      },
      "execution_count": 14,
      "outputs": [
        {
          "output_type": "error",
          "ename": "NameError",
          "evalue": "ignored",
          "traceback": [
            "\u001b[0;31m---------------------------------------------------------------------------\u001b[0m",
            "\u001b[0;31mNameError\u001b[0m                                 Traceback (most recent call last)",
            "\u001b[0;32m<ipython-input-14-5a4d6a898ff0>\u001b[0m in \u001b[0;36m<module>\u001b[0;34m()\u001b[0m\n\u001b[1;32m     42\u001b[0m \u001b[0;34m\u001b[0m\u001b[0m\n\u001b[1;32m     43\u001b[0m \u001b[0;31m#plt.show()\u001b[0m\u001b[0;34m\u001b[0m\u001b[0;34m\u001b[0m\u001b[0;34m\u001b[0m\u001b[0m\n\u001b[0;32m---> 44\u001b[0;31m \u001b[0mglue\u001b[0m\u001b[0;34m(\u001b[0m\u001b[0;34m\"ztest_hypo_fig\"\u001b[0m\u001b[0;34m,\u001b[0m\u001b[0mfig\u001b[0m\u001b[0;34m,\u001b[0m\u001b[0mdisplay\u001b[0m\u001b[0;34m=\u001b[0m\u001b[0;32mFalse\u001b[0m\u001b[0;34m)\u001b[0m\u001b[0;34m\u001b[0m\u001b[0;34m\u001b[0m\u001b[0m\n\u001b[0m",
            "\u001b[0;31mNameError\u001b[0m: name 'glue' is not defined"
          ]
        },
        {
          "output_type": "display_data",
          "data": {
            "text/plain": [
              "<Figure size 720x288 with 2 Axes>"
            ],
            "image/png": "[encoded data removed]"
          },
          "metadata": {
            "needs_background": "light"
          }
        }
      ]
    },
    {
      "cell_type": "markdown",
      "source": [
        "Look at difference between sample mean and the value the null hypothesis predicts.\n",
        "\n",
        "Z-statistic: equal to the number of SEs that separate hte observed sample mean from the pop mean predicted by the null hypothesis."
      ],
      "metadata": {
        "id": "gOm8j-PS3FHQ"
      }
    },
    {
      "cell_type": "code",
      "source": [
        "fig, ax = plt.subplots(1,1,figsize=(10,6))\n",
        "x=np.linspace(-3.5,3.5,100)\n",
        "y=stats.norm.pdf(x,0,1.0)\n",
        "\n",
        "ax.plot(x,y)\n",
        "ax.set_ylabel(\"probability\")\n",
        "ax.set_xlabel(\"value of z statistic\")\n",
        "ax.set_title(\"Two Sided Test\")\n",
        "#ax.set_ylim(0,0.5)\n",
        "#ax.set_xlim(-3,3)\n",
        "ax.fill_between(x,y,where=x<-1.96,interpolate=True,facecolor='lightblue',alpha=0.2,hatch='/',edgecolor='b')\n",
        "ax.fill_between(x,y,where=x>1.96,interpolate=True,facecolor='lightblue',alpha=0.2,hatch='/',edgecolor='b')\n",
        "ax.set_xticks([-1.96, 0, 1.96])\n",
        "#ax.set_yticklabels([])\n",
        "\n",
        "\n",
        "sns.despine(top=True, right=True, left=True)\n",
        "\n",
        "#plt.show()\n",
        "glue(\"ztest_twoside_fig\",fig,display=False)"
      ],
      "metadata": {
        "colab": {
          "base_uri": "https://localhost:8080/",
          "height": 587
        },
        "id": "qmsNC27337gV",
        "outputId": "d6eac7bd-4fb0-4103-8391-8b6e5bf25325"
      },
      "execution_count": 15,
      "outputs": [
        {
          "output_type": "error",
          "ename": "NameError",
          "evalue": "ignored",
          "traceback": [
            "\u001b[0;31m---------------------------------------------------------------------------\u001b[0m",
            "\u001b[0;31mNameError\u001b[0m                                 Traceback (most recent call last)",
            "\u001b[0;32m<ipython-input-15-e40ce3a1da35>\u001b[0m in \u001b[0;36m<module>\u001b[0;34m()\u001b[0m\n\u001b[1;32m     18\u001b[0m \u001b[0;34m\u001b[0m\u001b[0m\n\u001b[1;32m     19\u001b[0m \u001b[0;31m#plt.show()\u001b[0m\u001b[0;34m\u001b[0m\u001b[0;34m\u001b[0m\u001b[0;34m\u001b[0m\u001b[0m\n\u001b[0;32m---> 20\u001b[0;31m \u001b[0mglue\u001b[0m\u001b[0;34m(\u001b[0m\u001b[0;34m\"ztest_twoside_fig\"\u001b[0m\u001b[0;34m,\u001b[0m\u001b[0mfig\u001b[0m\u001b[0;34m,\u001b[0m\u001b[0mdisplay\u001b[0m\u001b[0;34m=\u001b[0m\u001b[0;32mFalse\u001b[0m\u001b[0;34m)\u001b[0m\u001b[0;34m\u001b[0m\u001b[0;34m\u001b[0m\u001b[0m\n\u001b[0m",
            "\u001b[0;31mNameError\u001b[0m: name 'glue' is not defined"
          ]
        },
        {
          "output_type": "display_data",
          "data": {
            "text/plain": [
              "<Figure size 720x432 with 1 Axes>"
            ],
            "image/png": "[encoded data removed]"
          },
          "metadata": {
            "needs_background": "light"
          }
        }
      ]
    },
    {
      "cell_type": "code",
      "source": [
        "# Worked example using Python\n",
        "# Mean of grades data\n",
        "zeppo_df=pd.read_csv('/content/zeppo.csv')\n",
        "zeppo_df.columns=[\"grades\"]\n",
        "sample_mean = zeppo_df.grades.mean()\n",
        "print(sample_mean)"
      ],
      "metadata": {
        "colab": {
          "base_uri": "https://localhost:8080/"
        },
        "id": "sGnkgU594JsF",
        "outputId": "8d250d6d-f668-4fbc-88cf-837af016c52f"
      },
      "execution_count": 16,
      "outputs": [
        {
          "output_type": "stream",
          "name": "stdout",
          "text": [
            "73.47368421052632\n"
          ]
        }
      ]
    },
    {
      "cell_type": "code",
      "source": [
        "# Create vars corresponding to know pop mean and SD\n",
        "mu_null = 67.5\n",
        "sd_true = 9.5\n",
        "# Create variable for sample size\n",
        "N = len( zeppo_df.grades )\n",
        "print( N )"
      ],
      "metadata": {
        "colab": {
          "base_uri": "https://localhost:8080/"
        },
        "id": "gitpaoTd4Y_d",
        "outputId": "8f1a9d07-c2b3-47a3-eaec-487e2f90d13e"
      },
      "execution_count": 17,
      "outputs": [
        {
          "output_type": "stream",
          "name": "stdout",
          "text": [
            "19\n"
          ]
        }
      ]
    },
    {
      "cell_type": "code",
      "source": [
        "# Calculate true standard error of the mean\n",
        "sem_true = sd_true / np.sqrt(N)\n",
        "print(sem_true)"
      ],
      "metadata": {
        "colab": {
          "base_uri": "https://localhost:8080/"
        },
        "id": "rvEJkpJ84qFN",
        "outputId": "d87729ae-888f-4e25-9159-452e89a0116f"
      },
      "execution_count": 18,
      "outputs": [
        {
          "output_type": "stream",
          "name": "stdout",
          "text": [
            "2.1794494717703365\n"
          ]
        }
      ]
    },
    {
      "cell_type": "code",
      "source": [
        "# Calculate z-score\n",
        "z_score = (sample_mean - mu_null)/sem_true\n",
        "print(z_score)"
      ],
      "metadata": {
        "colab": {
          "base_uri": "https://localhost:8080/"
        },
        "id": "dXLLMjQp4zEt",
        "outputId": "a90e0381-9b4b-4e12-e306-ef54ad41ddba"
      },
      "execution_count": 20,
      "outputs": [
        {
          "output_type": "stream",
          "name": "stdout",
          "text": [
            "2.740914294137764\n"
          ]
        }
      ]
    },
    {
      "cell_type": "code",
      "source": [
        "# Get p-value\n",
        "upper_area = 1.0-stats.norm.cdf(z_score)\n",
        "print(upper_area)\n",
        "lower_area = stats.norm.cdf(-z_score)\n",
        "print(lower_area)\n",
        "p_value = lower_area+upper_area\n",
        "print(p_value)"
      ],
      "metadata": {
        "colab": {
          "base_uri": "https://localhost:8080/"
        },
        "id": "W9_Y2V2n5LfU",
        "outputId": "a950aee1-8d6e-49b3-d55d-aa2362c24f73"
      },
      "execution_count": 25,
      "outputs": [
        {
          "output_type": "stream",
          "name": "stdout",
          "text": [
            "0.003063424338282439\n",
            "0.003063424338282457\n",
            "0.006126848676564896\n"
          ]
        }
      ]
    },
    {
      "cell_type": "markdown",
      "source": [
        "## One-sample $t$-test\n",
        "Raw data gives an estimate of the population SD. Student's t-test orginated from Gosset - a chemist working at the Guinness brewery who published under a pseudonym. \n",
        "\n",
        "Instead of true SD, use our estimate of SD. \n",
        "\n",
        "Sampling distribution = $t$-distribution. Has heavier tails, but as degrees of freedom get larger, $t$-distribution looks identical to standard normal distribution. For large $N$, the $t$-test behaves exactly the same as a $z$-test.\n",
        "\n",
        "Requires normality and independence."
      ],
      "metadata": {
        "id": "1JjEySYr6If2"
      }
    },
    {
      "cell_type": "code",
      "source": [
        "zeppo_df['grades'].std(ddof=1)"
      ],
      "metadata": {
        "colab": {
          "base_uri": "https://localhost:8080/"
        },
        "id": "QAz3DLiK6dif",
        "outputId": "62ecd0ea-626a-4dc1-cd3f-9116710aa0e2"
      },
      "execution_count": 26,
      "outputs": [
        {
          "output_type": "execute_result",
          "data": {
            "text/plain": [
              "8.16066732737404"
            ]
          },
          "metadata": {},
          "execution_count": 26
        }
      ]
    },
    {
      "cell_type": "code",
      "source": [
        "!pip install pingouin --upgrade"
      ],
      "metadata": {
        "colab": {
          "base_uri": "https://localhost:8080/"
        },
        "id": "otHC89vr9w10",
        "outputId": "538fc1ee-13ab-4f39-93a0-c5d3ec7b9723"
      },
      "execution_count": 1,
      "outputs": [
        {
          "output_type": "stream",
          "name": "stdout",
          "text": [
            "Looking in indexes: https://pypi.org/simple, https://us-python.pkg.dev/colab-wheels/public/simple/\n",
            "Requirement already satisfied: pingouin in /usr/local/lib/python3.7/dist-packages (0.5.2)\n",
            "Requirement already satisfied: tabulate in /usr/local/lib/python3.7/dist-packages (from pingouin) (0.8.9)\n",
            "Requirement already satisfied: pandas>=1.0 in /usr/local/lib/python3.7/dist-packages (from pingouin) (1.3.5)\n",
            "Requirement already satisfied: matplotlib>=3.0.2 in /usr/local/lib/python3.7/dist-packages (from pingouin) (3.2.2)\n",
            "Requirement already satisfied: numpy>=1.19 in /usr/local/lib/python3.7/dist-packages (from pingouin) (1.21.6)\n",
            "Requirement already satisfied: scikit-learn<1.1.0 in /usr/local/lib/python3.7/dist-packages (from pingouin) (1.0.2)\n",
            "Requirement already satisfied: seaborn>=0.11 in /usr/local/lib/python3.7/dist-packages (from pingouin) (0.11.2)\n",
            "Requirement already satisfied: outdated in /usr/local/lib/python3.7/dist-packages (from pingouin) (0.2.1)\n",
            "Requirement already satisfied: scipy>=1.7 in /usr/local/lib/python3.7/dist-packages (from pingouin) (1.7.3)\n",
            "Requirement already satisfied: statsmodels>=0.13 in /usr/local/lib/python3.7/dist-packages (from pingouin) (0.13.2)\n",
            "Requirement already satisfied: pandas-flavor>=0.2.0 in /usr/local/lib/python3.7/dist-packages (from pingouin) (0.2.0)\n",
            "Requirement already satisfied: kiwisolver>=1.0.1 in /usr/local/lib/python3.7/dist-packages (from matplotlib>=3.0.2->pingouin) (1.4.3)\n",
            "Requirement already satisfied: pyparsing!=2.0.4,!=2.1.2,!=2.1.6,>=2.0.1 in /usr/local/lib/python3.7/dist-packages (from matplotlib>=3.0.2->pingouin) (3.0.9)\n",
            "Requirement already satisfied: python-dateutil>=2.1 in /usr/local/lib/python3.7/dist-packages (from matplotlib>=3.0.2->pingouin) (2.8.2)\n",
            "Requirement already satisfied: cycler>=0.10 in /usr/local/lib/python3.7/dist-packages (from matplotlib>=3.0.2->pingouin) (0.11.0)\n",
            "Requirement already satisfied: typing-extensions in /usr/local/lib/python3.7/dist-packages (from kiwisolver>=1.0.1->matplotlib>=3.0.2->pingouin) (4.1.1)\n",
            "Requirement already satisfied: pytz>=2017.3 in /usr/local/lib/python3.7/dist-packages (from pandas>=1.0->pingouin) (2022.1)\n",
            "Requirement already satisfied: xarray in /usr/local/lib/python3.7/dist-packages (from pandas-flavor>=0.2.0->pingouin) (0.20.2)\n",
            "Requirement already satisfied: six>=1.5 in /usr/local/lib/python3.7/dist-packages (from python-dateutil>=2.1->matplotlib>=3.0.2->pingouin) (1.15.0)\n",
            "Requirement already satisfied: threadpoolctl>=2.0.0 in /usr/local/lib/python3.7/dist-packages (from scikit-learn<1.1.0->pingouin) (3.1.0)\n",
            "Requirement already satisfied: joblib>=0.11 in /usr/local/lib/python3.7/dist-packages (from scikit-learn<1.1.0->pingouin) (1.1.0)\n",
            "Requirement already satisfied: packaging>=21.3 in /usr/local/lib/python3.7/dist-packages (from statsmodels>=0.13->pingouin) (21.3)\n",
            "Requirement already satisfied: patsy>=0.5.2 in /usr/local/lib/python3.7/dist-packages (from statsmodels>=0.13->pingouin) (0.5.2)\n",
            "Requirement already satisfied: requests in /usr/local/lib/python3.7/dist-packages (from outdated->pingouin) (2.23.0)\n",
            "Requirement already satisfied: littleutils in /usr/local/lib/python3.7/dist-packages (from outdated->pingouin) (0.2.2)\n",
            "Requirement already satisfied: chardet<4,>=3.0.2 in /usr/local/lib/python3.7/dist-packages (from requests->outdated->pingouin) (3.0.4)\n",
            "Requirement already satisfied: certifi>=2017.4.17 in /usr/local/lib/python3.7/dist-packages (from requests->outdated->pingouin) (2022.6.15)\n",
            "Requirement already satisfied: idna<3,>=2.5 in /usr/local/lib/python3.7/dist-packages (from requests->outdated->pingouin) (2.10)\n",
            "Requirement already satisfied: urllib3!=1.25.0,!=1.25.1,<1.26,>=1.21.1 in /usr/local/lib/python3.7/dist-packages (from requests->outdated->pingouin) (1.24.3)\n",
            "Requirement already satisfied: importlib-metadata in /usr/local/lib/python3.7/dist-packages (from xarray->pandas-flavor>=0.2.0->pingouin) (4.11.4)\n",
            "Requirement already satisfied: zipp>=0.5 in /usr/local/lib/python3.7/dist-packages (from importlib-metadata->xarray->pandas-flavor>=0.2.0->pingouin) (3.8.0)\n"
          ]
        }
      ]
    },
    {
      "cell_type": "code",
      "source": [
        "!pip install scipy"
      ],
      "metadata": {
        "colab": {
          "base_uri": "https://localhost:8080/"
        },
        "id": "7OyCn7rRAsBH",
        "outputId": "ee684820-94d0-425d-84af-e3d2e783e3ea"
      },
      "execution_count": 2,
      "outputs": [
        {
          "output_type": "stream",
          "name": "stdout",
          "text": [
            "Looking in indexes: https://pypi.org/simple, https://us-python.pkg.dev/colab-wheels/public/simple/\n",
            "Requirement already satisfied: scipy in /usr/local/lib/python3.7/dist-packages (1.7.3)\n",
            "Requirement already satisfied: numpy<1.23.0,>=1.16.5 in /usr/local/lib/python3.7/dist-packages (from scipy) (1.21.6)\n"
          ]
        }
      ]
    },
    {
      "cell_type": "code",
      "source": [
        "import pingouin as pg"
      ],
      "metadata": {
        "id": "9Qj50R7wAPCm"
      },
      "execution_count": 3,
      "outputs": []
    },
    {
      "cell_type": "code",
      "source": [
        "pg.ttest(x=zeppo_df.grades, y=67.5)\n",
        "# Left to right-->T-statistic (3.19), degrees of freedom (1 less than the number of obs or 18), \n",
        "# two-sided test, p-value of 0.005 (null rejected), CI around mean,  \n",
        "# estimate effect size (cohen's d is0.73), Bayes Factor, pos-hoc power\n",
        "# With a mean grade of 73.5, the psych students scored slightly higher than the average\n",
        "# grade of 67.5(t(18)=3.19, p<0.01"
      ],
      "metadata": {
        "colab": {
          "base_uri": "https://localhost:8080/",
          "height": 81
        },
        "id": "L41JvquV-laF",
        "outputId": "509f56d6-96a1-458c-8929-5e8d29c05106"
      },
      "execution_count": 7,
      "outputs": [
        {
          "output_type": "execute_result",
          "data": {
            "text/plain": [
              "               T  dof alternative     p-val           CI95%   cohen-d   BF10  \\\n",
              "T-test  3.190754   18   two-sided  0.005064  [69.54, 77.41]  0.732009  9.203   \n",
              "\n",
              "           power  \n",
              "T-test  0.854662  "
            ],
            "text/html": [
              "\n",
              "  <div id=\"df-58907316-96c5-44fd-9a13-e4ad5b16bb3d\">\n",
              "    <div class=\"colab-df-container\">\n",
              "      <div>\n",
              "<style scoped>\n",
              "    .dataframe tbody tr th:only-of-type {\n",
              "        vertical-align: middle;\n",
              "    }\n",
              "\n",
              "    .dataframe tbody tr th {\n",
              "        vertical-align: top;\n",
              "    }\n",
              "\n",
              "    .dataframe thead th {\n",
              "        text-align: right;\n",
              "    }\n",
              "</style>\n",
              "<table border=\"1\" class=\"dataframe\">\n",
              "  <thead>\n",
              "    <tr style=\"text-align: right;\">\n",
              "      <th></th>\n",
              "      <th>T</th>\n",
              "      <th>dof</th>\n",
              "      <th>alternative</th>\n",
              "      <th>p-val</th>\n",
              "      <th>CI95%</th>\n",
              "      <th>cohen-d</th>\n",
              "      <th>BF10</th>\n",
              "      <th>power</th>\n",
              "    </tr>\n",
              "  </thead>\n",
              "  <tbody>\n",
              "    <tr>\n",
              "      <th>T-test</th>\n",
              "      <td>3.190754</td>\n",
              "      <td>18</td>\n",
              "      <td>two-sided</td>\n",
              "      <td>0.005064</td>\n",
              "      <td>[69.54, 77.41]</td>\n",
              "      <td>0.732009</td>\n",
              "      <td>9.203</td>\n",
              "      <td>0.854662</td>\n",
              "    </tr>\n",
              "  </tbody>\n",
              "</table>\n",
              "</div>\n",
              "      <button class=\"colab-df-convert\" onclick=\"convertToInteractive('df-58907316-96c5-44fd-9a13-e4ad5b16bb3d')\"\n",
              "              title=\"Convert this dataframe to an interactive table.\"\n",
              "              style=\"display:none;\">\n",
              "        \n",
              "  <svg xmlns=\"http://www.w3.org/2000/svg\" height=\"24px\"viewBox=\"0 0 24 24\"\n",
              "       width=\"24px\">\n",
              "    <path d=\"M0 0h24v24H0V0z\" fill=\"none\"/>\n",
              "    <path d=\"M18.56 5.44l.94 2.06.94-2.06 2.06-.94-2.06-.94-.94-2.06-.94 2.06-2.06.94zm-11 1L8.5 8.5l.94-2.06 2.06-.94-2.06-.94L8.5 2.5l-.94 2.06-2.06.94zm10 10l.94 2.06.94-2.06 2.06-.94-2.06-.94-.94-2.06-.94 2.06-2.06.94z\"/><path d=\"M17.41 7.96l-1.37-1.37c-.4-.4-.92-.59-1.43-.59-.52 0-1.04.2-1.43.59L10.3 9.45l-7.72 7.72c-.78.78-.78 2.05 0 2.83L4 21.41c.39.39.9.59 1.41.59.51 0 1.02-.2 1.41-.59l7.78-7.78 2.81-2.81c.8-.78.8-2.07 0-2.86zM5.41 20L4 18.59l7.72-7.72 1.47 1.35L5.41 20z\"/>\n",
              "  </svg>\n",
              "      </button>\n",
              "      \n",
              "  <style>\n",
              "    .colab-df-container {\n",
              "      display:flex;\n",
              "      flex-wrap:wrap;\n",
              "      gap: 12px;\n",
              "    }\n",
              "\n",
              "    .colab-df-convert {\n",
              "      background-color: #E8F0FE;\n",
              "      border: none;\n",
              "      border-radius: 50%;\n",
              "      cursor: pointer;\n",
              "      display: none;\n",
              "      fill: #1967D2;\n",
              "      height: 32px;\n",
              "      padding: 0 0 0 0;\n",
              "      width: 32px;\n",
              "    }\n",
              "\n",
              "    .colab-df-convert:hover {\n",
              "      background-color: #E2EBFA;\n",
              "      box-shadow: 0px 1px 2px rgba(60, 64, 67, 0.3), 0px 1px 3px 1px rgba(60, 64, 67, 0.15);\n",
              "      fill: #174EA6;\n",
              "    }\n",
              "\n",
              "    [theme=dark] .colab-df-convert {\n",
              "      background-color: #3B4455;\n",
              "      fill: #D2E3FC;\n",
              "    }\n",
              "\n",
              "    [theme=dark] .colab-df-convert:hover {\n",
              "      background-color: #434B5C;\n",
              "      box-shadow: 0px 1px 3px 1px rgba(0, 0, 0, 0.15);\n",
              "      filter: drop-shadow(0px 1px 2px rgba(0, 0, 0, 0.3));\n",
              "      fill: #FFFFFF;\n",
              "    }\n",
              "  </style>\n",
              "\n",
              "      <script>\n",
              "        const buttonEl =\n",
              "          document.querySelector('#df-58907316-96c5-44fd-9a13-e4ad5b16bb3d button.colab-df-convert');\n",
              "        buttonEl.style.display =\n",
              "          google.colab.kernel.accessAllowed ? 'block' : 'none';\n",
              "\n",
              "        async function convertToInteractive(key) {\n",
              "          const element = document.querySelector('#df-58907316-96c5-44fd-9a13-e4ad5b16bb3d');\n",
              "          const dataTable =\n",
              "            await google.colab.kernel.invokeFunction('convertToInteractive',\n",
              "                                                     [key], {});\n",
              "          if (!dataTable) return;\n",
              "\n",
              "          const docLinkHtml = 'Like what you see? Visit the ' +\n",
              "            '<a target=\"_blank\" href=https://colab.research.google.com/notebooks/data_table.ipynb>data table notebook</a>'\n",
              "            + ' to learn more about interactive tables.';\n",
              "          element.innerHTML = '';\n",
              "          dataTable['output_type'] = 'display_data';\n",
              "          await google.colab.output.renderOutput(dataTable, element);\n",
              "          const docLink = document.createElement('div');\n",
              "          docLink.innerHTML = docLinkHtml;\n",
              "          element.appendChild(docLink);\n",
              "        }\n",
              "      </script>\n",
              "    </div>\n",
              "  </div>\n",
              "  "
            ]
          },
          "metadata": {},
          "execution_count": 7
        }
      ]
    },
    {
      "cell_type": "markdown",
      "source": [
        "# Independent samples $t$-test (Student test)\n",
        "Two different groups of observations - do the 2 groups have the same pop mean?\n",
        "\n",
        "Requires normality, independence, homogeneity of variance (pop SD is the same in both groups)"
      ],
      "metadata": {
        "id": "zzNQkS_WCn_f"
      }
    },
    {
      "cell_type": "code",
      "source": [
        "# Who's the better tutor - Anastasia or Bernadette?\n",
        "harpo_df=pd.read_csv('/content/harpo.csv',index_col=0)\n",
        "harpo_df.head() #Show first 5 rows"
      ],
      "metadata": {
        "colab": {
          "base_uri": "https://localhost:8080/",
          "height": 206
        },
        "id": "y5HA0kXuC_y0",
        "outputId": "14c0b499-5982-474b-8295-89ef6235a1d5"
      },
      "execution_count": 11,
      "outputs": [
        {
          "output_type": "execute_result",
          "data": {
            "text/plain": [
              "   grade       tutor\n",
              "1     65   Anastasia\n",
              "2     72  Bernadette\n",
              "3     66  Bernadette\n",
              "4     74   Anastasia\n",
              "5     73   Anastasia"
            ],
            "text/html": [
              "\n",
              "  <div id=\"df-22133776-46b0-40bf-ad9d-846ddea996dd\">\n",
              "    <div class=\"colab-df-container\">\n",
              "      <div>\n",
              "<style scoped>\n",
              "    .dataframe tbody tr th:only-of-type {\n",
              "        vertical-align: middle;\n",
              "    }\n",
              "\n",
              "    .dataframe tbody tr th {\n",
              "        vertical-align: top;\n",
              "    }\n",
              "\n",
              "    .dataframe thead th {\n",
              "        text-align: right;\n",
              "    }\n",
              "</style>\n",
              "<table border=\"1\" class=\"dataframe\">\n",
              "  <thead>\n",
              "    <tr style=\"text-align: right;\">\n",
              "      <th></th>\n",
              "      <th>grade</th>\n",
              "      <th>tutor</th>\n",
              "    </tr>\n",
              "  </thead>\n",
              "  <tbody>\n",
              "    <tr>\n",
              "      <th>1</th>\n",
              "      <td>65</td>\n",
              "      <td>Anastasia</td>\n",
              "    </tr>\n",
              "    <tr>\n",
              "      <th>2</th>\n",
              "      <td>72</td>\n",
              "      <td>Bernadette</td>\n",
              "    </tr>\n",
              "    <tr>\n",
              "      <th>3</th>\n",
              "      <td>66</td>\n",
              "      <td>Bernadette</td>\n",
              "    </tr>\n",
              "    <tr>\n",
              "      <th>4</th>\n",
              "      <td>74</td>\n",
              "      <td>Anastasia</td>\n",
              "    </tr>\n",
              "    <tr>\n",
              "      <th>5</th>\n",
              "      <td>73</td>\n",
              "      <td>Anastasia</td>\n",
              "    </tr>\n",
              "  </tbody>\n",
              "</table>\n",
              "</div>\n",
              "      <button class=\"colab-df-convert\" onclick=\"convertToInteractive('df-22133776-46b0-40bf-ad9d-846ddea996dd')\"\n",
              "              title=\"Convert this dataframe to an interactive table.\"\n",
              "              style=\"display:none;\">\n",
              "        \n",
              "  <svg xmlns=\"http://www.w3.org/2000/svg\" height=\"24px\"viewBox=\"0 0 24 24\"\n",
              "       width=\"24px\">\n",
              "    <path d=\"M0 0h24v24H0V0z\" fill=\"none\"/>\n",
              "    <path d=\"M18.56 5.44l.94 2.06.94-2.06 2.06-.94-2.06-.94-.94-2.06-.94 2.06-2.06.94zm-11 1L8.5 8.5l.94-2.06 2.06-.94-2.06-.94L8.5 2.5l-.94 2.06-2.06.94zm10 10l.94 2.06.94-2.06 2.06-.94-2.06-.94-.94-2.06-.94 2.06-2.06.94z\"/><path d=\"M17.41 7.96l-1.37-1.37c-.4-.4-.92-.59-1.43-.59-.52 0-1.04.2-1.43.59L10.3 9.45l-7.72 7.72c-.78.78-.78 2.05 0 2.83L4 21.41c.39.39.9.59 1.41.59.51 0 1.02-.2 1.41-.59l7.78-7.78 2.81-2.81c.8-.78.8-2.07 0-2.86zM5.41 20L4 18.59l7.72-7.72 1.47 1.35L5.41 20z\"/>\n",
              "  </svg>\n",
              "      </button>\n",
              "      \n",
              "  <style>\n",
              "    .colab-df-container {\n",
              "      display:flex;\n",
              "      flex-wrap:wrap;\n",
              "      gap: 12px;\n",
              "    }\n",
              "\n",
              "    .colab-df-convert {\n",
              "      background-color: #E8F0FE;\n",
              "      border: none;\n",
              "      border-radius: 50%;\n",
              "      cursor: pointer;\n",
              "      display: none;\n",
              "      fill: #1967D2;\n",
              "      height: 32px;\n",
              "      padding: 0 0 0 0;\n",
              "      width: 32px;\n",
              "    }\n",
              "\n",
              "    .colab-df-convert:hover {\n",
              "      background-color: #E2EBFA;\n",
              "      box-shadow: 0px 1px 2px rgba(60, 64, 67, 0.3), 0px 1px 3px 1px rgba(60, 64, 67, 0.15);\n",
              "      fill: #174EA6;\n",
              "    }\n",
              "\n",
              "    [theme=dark] .colab-df-convert {\n",
              "      background-color: #3B4455;\n",
              "      fill: #D2E3FC;\n",
              "    }\n",
              "\n",
              "    [theme=dark] .colab-df-convert:hover {\n",
              "      background-color: #434B5C;\n",
              "      box-shadow: 0px 1px 3px 1px rgba(0, 0, 0, 0.15);\n",
              "      filter: drop-shadow(0px 1px 2px rgba(0, 0, 0, 0.3));\n",
              "      fill: #FFFFFF;\n",
              "    }\n",
              "  </style>\n",
              "\n",
              "      <script>\n",
              "        const buttonEl =\n",
              "          document.querySelector('#df-22133776-46b0-40bf-ad9d-846ddea996dd button.colab-df-convert');\n",
              "        buttonEl.style.display =\n",
              "          google.colab.kernel.accessAllowed ? 'block' : 'none';\n",
              "\n",
              "        async function convertToInteractive(key) {\n",
              "          const element = document.querySelector('#df-22133776-46b0-40bf-ad9d-846ddea996dd');\n",
              "          const dataTable =\n",
              "            await google.colab.kernel.invokeFunction('convertToInteractive',\n",
              "                                                     [key], {});\n",
              "          if (!dataTable) return;\n",
              "\n",
              "          const docLinkHtml = 'Like what you see? Visit the ' +\n",
              "            '<a target=\"_blank\" href=https://colab.research.google.com/notebooks/data_table.ipynb>data table notebook</a>'\n",
              "            + ' to learn more about interactive tables.';\n",
              "          element.innerHTML = '';\n",
              "          dataTable['output_type'] = 'display_data';\n",
              "          await google.colab.output.renderOutput(dataTable, element);\n",
              "          const docLink = document.createElement('div');\n",
              "          docLink.innerHTML = docLinkHtml;\n",
              "          element.appendChild(docLink);\n",
              "        }\n",
              "      </script>\n",
              "    </div>\n",
              "  </div>\n",
              "  "
            ]
          },
          "metadata": {},
          "execution_count": 11
        }
      ]
    },
    {
      "cell_type": "code",
      "source": [
        "# Calculate mean and SD by tutor\n",
        "harpo_df.groupby('tutor').describe()"
      ],
      "metadata": {
        "colab": {
          "base_uri": "https://localhost:8080/",
          "height": 175
        },
        "id": "RFA2FFnFD9JA",
        "outputId": "21019c40-39ea-4e33-ee76-702b67153cee"
      },
      "execution_count": 12,
      "outputs": [
        {
          "output_type": "execute_result",
          "data": {
            "text/plain": [
              "           grade                                                    \n",
              "           count       mean       std   min    25%   50%   75%   max\n",
              "tutor                                                               \n",
              "Anastasia   15.0  74.533333  8.998942  55.0  69.00  76.0  79.0  90.0\n",
              "Bernadette  18.0  69.055556  5.774918  56.0  66.25  69.0  73.0  79.0"
            ],
            "text/html": [
              "\n",
              "  <div id=\"df-e3b358e9-eb81-4ddf-804d-8a80d8f8bdc4\">\n",
              "    <div class=\"colab-df-container\">\n",
              "      <div>\n",
              "<style scoped>\n",
              "    .dataframe tbody tr th:only-of-type {\n",
              "        vertical-align: middle;\n",
              "    }\n",
              "\n",
              "    .dataframe tbody tr th {\n",
              "        vertical-align: top;\n",
              "    }\n",
              "\n",
              "    .dataframe thead tr th {\n",
              "        text-align: left;\n",
              "    }\n",
              "\n",
              "    .dataframe thead tr:last-of-type th {\n",
              "        text-align: right;\n",
              "    }\n",
              "</style>\n",
              "<table border=\"1\" class=\"dataframe\">\n",
              "  <thead>\n",
              "    <tr>\n",
              "      <th></th>\n",
              "      <th colspan=\"8\" halign=\"left\">grade</th>\n",
              "    </tr>\n",
              "    <tr>\n",
              "      <th></th>\n",
              "      <th>count</th>\n",
              "      <th>mean</th>\n",
              "      <th>std</th>\n",
              "      <th>min</th>\n",
              "      <th>25%</th>\n",
              "      <th>50%</th>\n",
              "      <th>75%</th>\n",
              "      <th>max</th>\n",
              "    </tr>\n",
              "    <tr>\n",
              "      <th>tutor</th>\n",
              "      <th></th>\n",
              "      <th></th>\n",
              "      <th></th>\n",
              "      <th></th>\n",
              "      <th></th>\n",
              "      <th></th>\n",
              "      <th></th>\n",
              "      <th></th>\n",
              "    </tr>\n",
              "  </thead>\n",
              "  <tbody>\n",
              "    <tr>\n",
              "      <th>Anastasia</th>\n",
              "      <td>15.0</td>\n",
              "      <td>74.533333</td>\n",
              "      <td>8.998942</td>\n",
              "      <td>55.0</td>\n",
              "      <td>69.00</td>\n",
              "      <td>76.0</td>\n",
              "      <td>79.0</td>\n",
              "      <td>90.0</td>\n",
              "    </tr>\n",
              "    <tr>\n",
              "      <th>Bernadette</th>\n",
              "      <td>18.0</td>\n",
              "      <td>69.055556</td>\n",
              "      <td>5.774918</td>\n",
              "      <td>56.0</td>\n",
              "      <td>66.25</td>\n",
              "      <td>69.0</td>\n",
              "      <td>73.0</td>\n",
              "      <td>79.0</td>\n",
              "    </tr>\n",
              "  </tbody>\n",
              "</table>\n",
              "</div>\n",
              "      <button class=\"colab-df-convert\" onclick=\"convertToInteractive('df-e3b358e9-eb81-4ddf-804d-8a80d8f8bdc4')\"\n",
              "              title=\"Convert this dataframe to an interactive table.\"\n",
              "              style=\"display:none;\">\n",
              "        \n",
              "  <svg xmlns=\"http://www.w3.org/2000/svg\" height=\"24px\"viewBox=\"0 0 24 24\"\n",
              "       width=\"24px\">\n",
              "    <path d=\"M0 0h24v24H0V0z\" fill=\"none\"/>\n",
              "    <path d=\"M18.56 5.44l.94 2.06.94-2.06 2.06-.94-2.06-.94-.94-2.06-.94 2.06-2.06.94zm-11 1L8.5 8.5l.94-2.06 2.06-.94-2.06-.94L8.5 2.5l-.94 2.06-2.06.94zm10 10l.94 2.06.94-2.06 2.06-.94-2.06-.94-.94-2.06-.94 2.06-2.06.94z\"/><path d=\"M17.41 7.96l-1.37-1.37c-.4-.4-.92-.59-1.43-.59-.52 0-1.04.2-1.43.59L10.3 9.45l-7.72 7.72c-.78.78-.78 2.05 0 2.83L4 21.41c.39.39.9.59 1.41.59.51 0 1.02-.2 1.41-.59l7.78-7.78 2.81-2.81c.8-.78.8-2.07 0-2.86zM5.41 20L4 18.59l7.72-7.72 1.47 1.35L5.41 20z\"/>\n",
              "  </svg>\n",
              "      </button>\n",
              "      \n",
              "  <style>\n",
              "    .colab-df-container {\n",
              "      display:flex;\n",
              "      flex-wrap:wrap;\n",
              "      gap: 12px;\n",
              "    }\n",
              "\n",
              "    .colab-df-convert {\n",
              "      background-color: #E8F0FE;\n",
              "      border: none;\n",
              "      border-radius: 50%;\n",
              "      cursor: pointer;\n",
              "      display: none;\n",
              "      fill: #1967D2;\n",
              "      height: 32px;\n",
              "      padding: 0 0 0 0;\n",
              "      width: 32px;\n",
              "    }\n",
              "\n",
              "    .colab-df-convert:hover {\n",
              "      background-color: #E2EBFA;\n",
              "      box-shadow: 0px 1px 2px rgba(60, 64, 67, 0.3), 0px 1px 3px 1px rgba(60, 64, 67, 0.15);\n",
              "      fill: #174EA6;\n",
              "    }\n",
              "\n",
              "    [theme=dark] .colab-df-convert {\n",
              "      background-color: #3B4455;\n",
              "      fill: #D2E3FC;\n",
              "    }\n",
              "\n",
              "    [theme=dark] .colab-df-convert:hover {\n",
              "      background-color: #434B5C;\n",
              "      box-shadow: 0px 1px 3px 1px rgba(0, 0, 0, 0.15);\n",
              "      filter: drop-shadow(0px 1px 2px rgba(0, 0, 0, 0.3));\n",
              "      fill: #FFFFFF;\n",
              "    }\n",
              "  </style>\n",
              "\n",
              "      <script>\n",
              "        const buttonEl =\n",
              "          document.querySelector('#df-e3b358e9-eb81-4ddf-804d-8a80d8f8bdc4 button.colab-df-convert');\n",
              "        buttonEl.style.display =\n",
              "          google.colab.kernel.accessAllowed ? 'block' : 'none';\n",
              "\n",
              "        async function convertToInteractive(key) {\n",
              "          const element = document.querySelector('#df-e3b358e9-eb81-4ddf-804d-8a80d8f8bdc4');\n",
              "          const dataTable =\n",
              "            await google.colab.kernel.invokeFunction('convertToInteractive',\n",
              "                                                     [key], {});\n",
              "          if (!dataTable) return;\n",
              "\n",
              "          const docLinkHtml = 'Like what you see? Visit the ' +\n",
              "            '<a target=\"_blank\" href=https://colab.research.google.com/notebooks/data_table.ipynb>data table notebook</a>'\n",
              "            + ' to learn more about interactive tables.';\n",
              "          element.innerHTML = '';\n",
              "          dataTable['output_type'] = 'display_data';\n",
              "          await google.colab.output.renderOutput(dataTable, element);\n",
              "          const docLink = document.createElement('div');\n",
              "          docLink.innerHTML = docLinkHtml;\n",
              "          element.appendChild(docLink);\n",
              "        }\n",
              "      </script>\n",
              "    </div>\n",
              "  </div>\n",
              "  "
            ]
          },
          "metadata": {},
          "execution_count": 12
        }
      ]
    },
    {
      "cell_type": "code",
      "source": [
        "# Plot histograms showing distribution of grades for both tutors\n",
        "p1=sns.displot(harpo_df[harpo_df['tutor']==\"Anastasia\"].grade,bins=np.arange(40,100,5))\n",
        "p1.ax.set_title(\"Anastasias students\")\n",
        "glue(\"anastasia_fig\",p1.fig,display=False)"
      ],
      "metadata": {
        "colab": {
          "base_uri": "https://localhost:8080/",
          "height": 385
        },
        "id": "unRhysTWEJRE",
        "outputId": "13efa5d1-8967-45a4-f9ed-09d99b4006af"
      },
      "execution_count": 17,
      "outputs": [
        {
          "output_type": "display_data",
          "data": {
            "application/papermill.record/text/plain": "<Figure size 360x360 with 1 Axes>",
            "application/papermill.record/image/png": "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\n"
          },
          "metadata": {
            "scrapbook": {
              "name": "anastasia_fig",
              "mime_prefix": "application/papermill.record/"
            }
          }
        },
        {
          "output_type": "display_data",
          "data": {
            "text/plain": [
              "<Figure size 360x360 with 1 Axes>"
            ],
            "image/png": "[encoded data removed]"
          },
          "metadata": {
            "needs_background": "light"
          }
        }
      ]
    },
    {
      "cell_type": "code",
      "source": [
        "p1=sns.displot(harpo_df[harpo_df['tutor']==\"Bernadette\"].grade,bins=np.arange(40,100,5))\n",
        "p1.ax.set_title(\"Bernadettes students\")\n",
        "glue(\"bernadette_fig\",p1.fig,display=False)"
      ],
      "metadata": {
        "colab": {
          "base_uri": "https://localhost:8080/",
          "height": 385
        },
        "id": "xCH4CTIjE4hY",
        "outputId": "faee54c6-86cb-4b2a-d63b-27550b603463"
      },
      "execution_count": 18,
      "outputs": [
        {
          "output_type": "display_data",
          "data": {
            "application/papermill.record/text/plain": "<Figure size 360x360 with 1 Axes>",
            "application/papermill.record/image/png": "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\n"
          },
          "metadata": {
            "scrapbook": {
              "name": "bernadette_fig",
              "mime_prefix": "application/papermill.record/"
            }
          }
        },
        {
          "output_type": "display_data",
          "data": {
            "text/plain": [
              "<Figure size 360x360 with 1 Axes>"
            ],
            "image/png": "[encoded data removed]"
          },
          "metadata": {
            "needs_background": "light"
          }
        }
      ]
    },
    {
      "cell_type": "code",
      "source": [
        "# Alternative simpler plot\n",
        "p1=sns.catplot(x=\"tutor\", y=\"grade\", data=harpo_df, kind='bar', ci=95)\n",
        "glue(\"tutors_fig\",p1.fig,display=False)"
      ],
      "metadata": {
        "colab": {
          "base_uri": "https://localhost:8080/",
          "height": 369
        },
        "id": "zUswUi6UE_Ab",
        "outputId": "613714fd-9125-4b0a-a303-60a84cb88029"
      },
      "execution_count": 19,
      "outputs": [
        {
          "output_type": "display_data",
          "data": {
            "application/papermill.record/text/plain": "<Figure size 360x360 with 1 Axes>",
            "application/papermill.record/image/png": "iVBORw0KGgoAAAANSUhEUgAAAWAAAAFgCAYAAACFYaNMAAAABHNCSVQICAgIfAhkiAAAAAlwSFlzAAALEgAACxIB0t1+/AAAADh0RVh0U29mdHdhcmUAbWF0cGxvdGxpYiB2ZXJzaW9uMy4yLjIsIGh0dHA6Ly9tYXRwbG90bGliLm9yZy+WH4yJAAAV1UlEQVR4nO3df7RdZX3n8feniQgiJQQu4ZeZZCojQ+sQ5ZZiUcuPSulYSv5gscxoTafMRNuOCqsVsdPROsNMAVsdbeusiaXTaBGkUFcojChNsTMyTCRAkJ8ufihISEgQUHCsNfCdP85Oub1NwiFmn+fk3vdrrbv2z+fsb5JzP3nuc/Z+bqoKSdLo/UjrAiRptjKAJakRA1iSGjGAJakRA1iSGpnbuoBhnHbaaXXddde1LkOSdlW2t3OP6AE//vjjrUuQpN1ujwhgSZqJDGBJasQAlqRGDGBJasQAlqRGDGBJaqTXAE5ybpK7ktyZ5LIkeydZnGRtkvuTfDbJXn3WIEnjqrcATnI48G5gsqp+ApgDvAW4CPhoVb0SeBI4u68aJGmc9T0EMRfYJ8lc4GXARuBk4Mru+Cpgac81SNJY6i2Aq2oD8HvAwwyC99vALcBTVbW1O+0R4PC+apCkcdbnEMQBwBnAYuAwYF/gtBfRfkWSdUnWbdmypacqJamdPocgfhb4elVtqaofAH8BnADM64YkAI4ANmyvcVWtrKrJqpqcmJjosUxJaqPP2dAeBo5P8jLge8ApwDrgBuBM4HJgObC6xxpmnfPOO49NmzZxyCGHcPHFF7cuR9JO9BbAVbU2yZXArcBW4DZgJXAtcHmSC7p9l/RVw2y0adMmNmzY7g8VksZMr/MBV9UHgQ9O2/0gcFyf15WkPYFPwklSIwawJDViAEtSIwawJDViAEtSIwawJDViAEtSIwawJDViAEtSIwawJDViAEtSIwawJDViAEtSIwawJDViAEtSI73OBzwOjn3vp1qXMFL7Pf40c4CHH396Vv3Zb/nw21uXIL1o9oAlqREDWJIaMYAlqREDWJIaMYAlqREDWJIaMYAlqREDWJIaMYAlqZEZ/yScpN3nvPPOY9OmTRxyyCFcfPHFrcvZ4xnAkoa2adMmNmzY0LqMGcMhCElqpLcATvKqJOunfH0nyTlJ5ie5Psl93fKAvmqQpHHWWwBX1deqaklVLQGOBf4f8DngfGBNVR0JrOm2JWnWGdUQxCnAA1X1EHAGsKrbvwpYOqIaJGmsjOpDuLcAl3XrC6pqY7e+CVgwohpmhef22vcfLCWNr94DOMlewC8C759+rKoqSe2g3QpgBcDChQt7rXEm+e6Rp7YuQdKQRjEE8fPArVX1WLf9WJJDAbrl5u01qqqVVTVZVZMTExMjKFOSRmsUAbyM54cfAK4Glnfry4HVI6hBksZOr0MQSfYF3gS8Y8ruC4ErkpwNPASc1WcNUp8e/o+vbl3CSG19Yj4wl61PPDSr/uwLP3BHL6/bawBX1XeBA6ft+xaDuyIkaVbzSThJasQAlqRGDGBJasQAlqRGDGBJasQAlqRGDGBJasQAlqRGDGBJasTfCSdpaAft/RywtVvqh2UASxrab/6Lp1qXMKM4BCFJjRjAktSIASxJjRjAktSIASxJjRjAktSIASxJjRjAktSIASxJjRjAktSIASxJjRjAktSIASxJjRjAktSIASxJjRjAktSIASxJjfQawEnmJbkyyb1J7knyuiTzk1yf5L5ueUCfNUjSuOq7B/wx4LqqOgo4BrgHOB9YU1VHAmu6bUmadXoL4CT7A28ELgGoqr+rqqeAM4BV3WmrgKV91SBJ46zPHvBiYAvwP5LcluSPk+wLLKiqjd05m4AFPdYgSWOrzwCeC7wW+G9V9Rrgu0wbbqiqAmp7jZOsSLIuybotW7b0WKYktdFnAD8CPFJVa7vtKxkE8mNJDgXolpu317iqVlbVZFVNTkxM9FimJLXRWwBX1Sbgm0le1e06BbgbuBpY3u1bDqzuqwZJGmdze379dwGXJtkLeBD41wxC/4okZwMPAWf1XIMkjaVeA7iq1gOT2zl0Sp/XlaQ9gU/CSVIjBrAkNWIAS1IjBrAkNWIAS1IjBrAkNWIAS1IjBrAkNWIAS1IjBrAkNWIAS1IjBrAkNWIAS1IjBrAkNWIAS1IjBrAkNWIAS1IjBrAkNWIAS1IjBrAkNWIAS1IjBrAkNWIAS1IjBrAkNWIAS1IjBrAkNWIAS1IjBrAkNTK3zxdP8g3gaeBZYGtVTSaZD3wWWAR8Azirqp7ssw5JGkej6AGfVFVLqmqy2z4fWFNVRwJrum1JmnVaDEGcAazq1lcBSxvUIEnN9R3ABXwxyS1JVnT7FlTVxm59E7Cg5xokaSz1OgYMvL6qNiQ5GLg+yb1TD1ZVJantNewCewXAwoULey5Tkkav1x5wVW3olpuBzwHHAY8lORSgW27eQduVVTVZVZMTExN9lilJTfQWwEn2TbLftnXgVOBO4GpgeXfacmB1XzVI0jjrcwhiAfC5JNuu85mqui7JzcAVSc4GHgLO6rEGSRpbvQVwVT0IHLOd/d8CTunrupK0p/BJOElqxACWpEYMYElqxACWpEYMYElqxACWpEYMYElqxACWpEYMYElqxACWpEYMYElqxACWpEYMYElqxACWpEaGCuAMvC3JB7rthUmO67c0SZrZhu0BfwJ4HbCs234a+KNeKpKkWWLYCdl/qqpem+Q2gKp6MslePdYlSTPesD3gHySZw+DXzJNkAniut6okaRYYNoA/zuC3Gh+c5D8DXwb+S29VSdIsMNQQRFVdmuQWBr/LLcDSqrqn18okaYbbaQAnmT9lczNw2dRjVfVEX4VJ0kz3Qj3gWxiM+wZYCDzZrc8DHgYW91qdJM1gOx0DrqrFVfVPgb8CTq+qg6rqQOAXgC+OokBJmqmG/RDu+Kr6n9s2qurzwE/3U5IkzQ7D3gf8aJLfBv6s234r8Gg/JUnS7DBsD3gZMMHgVrTPAQfz/FNxkqRdMOxtaE8A7+m5FkmaVYYK4O7Jt/OAHwf23ra/qk7uqS5JmvGGHYK4FLiXwW1nHwK+Adw8TMMkc5LcluSabntxkrVJ7k/yWeeUkDRbDRvAB1bVJcAPqupvqupXgGF7v+8Bpj41dxHw0ap6JYP7is8eulpJmkGGnoynW25M8uYkrwHm76wBQJIjgDcDf9xth0FwX9mdsgpY+qIqlqQZYtjb0C5Isj/wG8AfAD8KnDtEu//KYOx4v277QOCpqtrabT8CHD58uZI0c7xgAHfTUB5ZVdcA3wZOGuaFk/wCsLmqbkly4ostLMkKYAXAwoULX2xzSRp7LzgEUVXPsmv3/J4A/GKSbwCXMxh6+BgwL8m24D8C2LCD666sqsmqmpyYmNiFy0vSeBt2DPjGJH+Y5A1JXrvta2cNqur9VXVEVS0C3gL8dVW9FbgBOLM7bTmweleLl6Q92bBjwEu65Ye6ZRjMkrYr9wG/D7g8yQXAbcAlu/AakrTHGzaAr+H5aSnp1r+TZElVrX+hxlX1JeBL3fqDgL9RWdKsN+wQxLHAO4FDgcOAdwA/B3wyyXk91SZJM9qwPeAjgNdW1TMAST4IXAu8kcGk7Rf3U54kzVzD9oAPBr4/ZfsHwIKq+t60/ZKkIQ3bA74UWJtk2x0LpwOfSbIvcHcvlUnSDDfsdJT/KcnnGdzbC/DOqlrXrb+1l8okaYYbtgdMF7jrXvBESdJQhh0DliTtZgawJDViAEtSIwawJDViAEtSIwawJDViAEtSIwawJDViAEtSIwawJDViAEtSIwawJDViAEtSIwawJDViAEtSIwawJDViAEtSIwawJDViAEtSIwawJDViAEtSIwawJDViAEtSI70FcJK9k3wlye1J7kryoW7/4iRrk9yf5LNJ9uqrBkkaZ332gL8PnFxVxwBLgNOSHA9cBHy0ql4JPAmc3WMNkjS2egvgGnim23xJ91XAycCV3f5VwNK+apCkcdbrGHCSOUnWA5uB64EHgKeqamt3yiPA4TtouyLJuiTrtmzZ0meZktRErwFcVc9W1RLgCOA44KgX0XZlVU1W1eTExERvNUpSKyO5C6KqngJuAF4HzEsytzt0BLBhFDVI0rjp8y6IiSTzuvV9gDcB9zAI4jO705YDq/uqQZLG2dwXPmWXHQqsSjKHQdBfUVXXJLkbuDzJBcBtwCU91iBJY6u3AK6qrwKv2c7+BxmMB0vSrOaTcJLUiAEsSY0YwJLUiAEsSY0YwJLUiAEsSY0YwJLUiAEsSY0YwJLUiAEsSY0YwJLUiAEsSY0YwJLUiAEsSY0YwJLUiAEsSY0YwJLUiAEsSY0YwJLUiAEsSY0YwJLUiAEsSY0YwJLUiAEsSY0YwJLUiAEsSY0YwJLUiAEsSY30FsBJXpHkhiR3J7kryXu6/fOTXJ/kvm55QF81SNI467MHvBX4jao6Gjge+PUkRwPnA2uq6khgTbctSbNObwFcVRur6tZu/WngHuBw4AxgVXfaKmBpXzVI0jgbyRhwkkXAa4C1wIKq2tgd2gQs2EGbFUnWJVm3ZcuWUZQpSSPVewAneTlwFXBOVX1n6rGqKqC2166qVlbVZFVNTkxM9F2mJI1crwGc5CUMwvfSqvqLbvdjSQ7tjh8KbO6zBkkaV33eBRHgEuCeqvrIlENXA8u79eXA6r5qkKRxNrfH1z4B+CXgjiTru32/BVwIXJHkbOAh4Kwea5CksdVbAFfVl4Hs4PApfV1XkvYUPgknSY0YwJLUiAEsSY0YwJLUiAEsSY0YwJLUiAEsSY0YwJLUiAEsSY0YwJLUiAEsSY0YwJLUiAEsSY0YwJLUiAEsSY0YwJLUiAEsSY0YwJLUiAEsSY0YwJLUiAEsSY0YwJLUiAEsSY0YwJLUiAEsSY0YwJLUiAEsSY0YwJLUSG8BnORPkmxOcueUffOTXJ/kvm55QF/Xl6Rx12cP+E+B06btOx9YU1VHAmu6bUmalXoL4Kr6X8AT03afAazq1lcBS/u6viSNu1GPAS+oqo3d+iZgwY5OTLIiybok67Zs2TKa6iRphJp9CFdVBdROjq+sqsmqmpyYmBhhZZI0GqMO4MeSHArQLTeP+PqSNDZGHcBXA8u79eXA6hFfX5LGRp+3oV0G3AS8KskjSc4GLgTelOQ+4Ge7bUmaleb29cJVtWwHh07p65qStCfxSThJasQAlqRGDGBJasQAlqRGDGBJasQAlqRGDGBJasQAlqRGDGBJasQAlqRGDGBJasQAlqRGDGBJasQAlqRGDGBJasQAlqRGDGBJasQAlqRGDGBJasQAlqRGDGBJasQAlqRGDGBJasQAlqRGDGBJasQAlqRGDGBJasQAlqRGmgRwktOSfC3J/UnOb1GDJLU28gBOMgf4I+DngaOBZUmOHnUdktRaix7wccD9VfVgVf0dcDlwRoM6JKmpuQ2ueTjwzSnbjwA/Nf2kJCuAFd3mM0m+NoLaZoqDgMdbFzFK+b3lrUuYTWbd+4sP5od9heuq6rTpO1sE8FCqaiWwsnUde6Ik66pqsnUdmpl8f+0+LYYgNgCvmLJ9RLdPkmaVFgF8M3BkksVJ9gLeAlzdoA5JamrkQxBVtTXJvwO+AMwB/qSq7hp1HTOcQzfqk++v3SRV1boGSZqVfBJOkhoxgCWpEQO4oSRLk1SSo3bz656Y5Kd3se1hSa7cnfWof0meTbI+ye1Jbt3Vf/8fsoZnXuD4vCS/NmV7UZJ/1X9l48sAbmsZ8OVuuTudCOzSN2BVPVpVZ+7ecjQC36uqJVV1DPB+4HeHbZiBUWTBPODXpmwvAgxgjV6SlwOvB85mcCvetp7rl5JcmeTeJJcmSXfsA0luTnJnkpVT9r87yd1Jvprk8iSLgHcC53Y9ojckOT3J2iS3JfmrJAu6tj/TnbO+O7Zf1yu5szu+KMn/7npUTXpV2iU/Cjy5bSPJe7v3zleTfKjbt6ibEOtTwJ3AG5Lck+STSe5K8sUk+3Tn/tuu/e1Jrkrysm7/4iQ3JbkjyQVTC9jeNYELgR/r3m8f7rbf0G2fm2ROkg9PafeO3v+mWqsqvxp8AW8FLunW/w9wLIOe67cZPJzyI8BNwOu7c+ZPaftp4PRu/VHgpd36vG75O8BvTjn/AJ6/4+XfAL/frf8lcEK3/nIGtyUuAu7s9r0M2LtbPxJY1/rvza8dvp+eBdYD93bvoWO7/acyuG0s3XvqGuCN3b/zc8Dx3XmLgK3Akm77CuBt3fqBU65zAfCubv1q4O3d+q8DzwxxzTunvNaJwDVTtlcAv92tvxRYByxu/Xfb55c94HaWMZiIiG65bRjiK1X1SFU9x+AbalG3/6SuF3sHcDLw493+rwKXJnkbg2+g7TkC+ELX9r1T2t4IfCTJuxmE9/T2LwE+2bX7cwaz12k8bRuCOAo4DfhU91PSqd3XbcCtwFEM/jMFeKiq/u+U1/h6Va3v1m/h+ffeT3Q/Cd3BoOOw7f1zAnBZt/7pKa+zs2vuzKnA25OsB9YCBw7Zbo81tnNBzGRJ5jMI0VcnKQYPpBRwLfD9Kac+C8xNsjfwCWCyqr6Z5HeAvbtz3sygd3E68O+TvHo7l/wD4CNVdXWSExn0kKmqC5NcC/xL4MYkPwf87ZR25wKPAccw6MlMPaYxVVU3JTkImGDQC/3dqvrvU8/phqq+O63p9PfePt36nwJLq+r2JL/MoOf695fbTgk7u+bOhEHv+gsvcN6MYQ+4jTOBT1fVP6mqRVX1CuDrwBt2cP62sH28Gzs+E6D74OQVVXUD8D5gfwZDCU8D+01pvz/Pz7fx99OGJfmxqrqjqi5i8Ij49Lsx9gc2dr3xX2LwH4XGXHdXzRzgWwyeOP2V7n1DksOTHPwiX3I/YGOSlzDoAW9zI93nF9P27+ia09+X07e/APxqdx2S/LMk+77IWvco9oDbWAZcNG3fVcCvAg9MP7mqnkrySQYflmxiEJYw+Cb7syT7M+g9fLw79y+BK5OcAbyLQY/3z5M8Cfw1sLhrf06SkxiMBd4FfB44dMqlPwFcleTtwHX84x6Txsc+3Y/uMHgvLK+qZ4EvJvnnwE3d57bPAG9j0MMd1n9gMCSwpVtuC833AJ9J8j5g9baTq2q716yqB5Lc2H3I+3ngt4Bnk9zOoJf9MQbDHrd2wydbgKUv6m9hD+OjyJLUiEMQktSIASxJjRjAktSIASxJjRjAktSIAawZJ9Nm3drJeedsm9dAasEA1kw0fdatHTmHwXwXQ0viwyjabQxgzURTZ926Ock12w4k+cMkv9zNf3EYcEOSG7pjy7qZve5MctGUNs8k+f3ugYHXjfoPo5nLANZMdD7wQFUtYTD50D9SVR9nMJPcSVV1UpLDGDydeDKwBPjJJNuewtoXWFtVx1TVl/svX7OFASwN/CTwpara0s0KdymDSY5g8NjuVc0q04xlAGum28o/fJ/vvaMTd+Jvu3kVpN3KANZMNHWWrYeAo5O8NMk84JQdnPcV4GeSHNR90LYM+JtRFazZydnQNONU1bemzbp1BYOZ5L7OYJLwbVYC1yV5tBsHPh+4gcFsYtdW1erpry3tTs6GJkmNOAQhSY0YwJLUiAEsSY0YwJLUiAEsSY0YwJLUiAEsSY38f5a6TmY37aOrAAAAAElFTkSuQmCC\n"
          },
          "metadata": {
            "scrapbook": {
              "name": "tutors_fig",
              "mime_prefix": "application/papermill.record/"
            }
          }
        },
        {
          "output_type": "display_data",
          "data": {
            "text/plain": [
              "<Figure size 360x360 with 1 Axes>"
            ],
            "image/png": "[encoded data removed]"
          },
          "metadata": {
            "needs_background": "light"
          }
        }
      ]
    },
    {
      "cell_type": "markdown",
      "source": [
        ""
      ],
      "metadata": {
        "id": "GP-fv_3oIa7x"
      }
    },
    {
      "cell_type": "code",
      "source": [
        "# Independent samples t-test (Student's)\n",
        "anas_group = harpo_df[harpo_df['tutor']==\"Anastasia\"].grade\n",
        "bern_group = harpo_df[harpo_df['tutor']==\"Bernadette\"].grade\n",
        "pg.ttest(x=bern_group, y=anas_group, correction=False).round(2)\n",
        "# The mean grade in Anastasia's class was 74.5 (SD 9) while in Bernadette's class the mean was 69.1 (SD 5.8). \n",
        "# A Student's independent sample t-test showed that this 5.4 point difference was significant\n",
        "# (t(31)=2.1, p<0.05, CI(95)=0.2,10.8, Cohen's d=.74)\n",
        "# Don't worry about positive and negative t-values"
      ],
      "metadata": {
        "colab": {
          "base_uri": "https://localhost:8080/",
          "height": 81
        },
        "id": "lzp5G6BPFks6",
        "outputId": "f9c7c868-0159-4d6d-e0f1-3b143c67ec52"
      },
      "execution_count": 24,
      "outputs": [
        {
          "output_type": "execute_result",
          "data": {
            "text/plain": [
              "           T  dof alternative  p-val           CI95%  cohen-d   BF10  power\n",
              "T-test -2.12   31   two-sided   0.04  [-10.76, -0.2]     0.74  1.755   0.54"
            ],
            "text/html": [
              "\n",
              "  <div id=\"df-eac5a44a-e78a-4184-933f-c04eb0601cd8\">\n",
              "    <div class=\"colab-df-container\">\n",
              "      <div>\n",
              "<style scoped>\n",
              "    .dataframe tbody tr th:only-of-type {\n",
              "        vertical-align: middle;\n",
              "    }\n",
              "\n",
              "    .dataframe tbody tr th {\n",
              "        vertical-align: top;\n",
              "    }\n",
              "\n",
              "    .dataframe thead th {\n",
              "        text-align: right;\n",
              "    }\n",
              "</style>\n",
              "<table border=\"1\" class=\"dataframe\">\n",
              "  <thead>\n",
              "    <tr style=\"text-align: right;\">\n",
              "      <th></th>\n",
              "      <th>T</th>\n",
              "      <th>dof</th>\n",
              "      <th>alternative</th>\n",
              "      <th>p-val</th>\n",
              "      <th>CI95%</th>\n",
              "      <th>cohen-d</th>\n",
              "      <th>BF10</th>\n",
              "      <th>power</th>\n",
              "    </tr>\n",
              "  </thead>\n",
              "  <tbody>\n",
              "    <tr>\n",
              "      <th>T-test</th>\n",
              "      <td>-2.12</td>\n",
              "      <td>31</td>\n",
              "      <td>two-sided</td>\n",
              "      <td>0.04</td>\n",
              "      <td>[-10.76, -0.2]</td>\n",
              "      <td>0.74</td>\n",
              "      <td>1.755</td>\n",
              "      <td>0.54</td>\n",
              "    </tr>\n",
              "  </tbody>\n",
              "</table>\n",
              "</div>\n",
              "      <button class=\"colab-df-convert\" onclick=\"convertToInteractive('df-eac5a44a-e78a-4184-933f-c04eb0601cd8')\"\n",
              "              title=\"Convert this dataframe to an interactive table.\"\n",
              "              style=\"display:none;\">\n",
              "        \n",
              "  <svg xmlns=\"http://www.w3.org/2000/svg\" height=\"24px\"viewBox=\"0 0 24 24\"\n",
              "       width=\"24px\">\n",
              "    <path d=\"M0 0h24v24H0V0z\" fill=\"none\"/>\n",
              "    <path d=\"M18.56 5.44l.94 2.06.94-2.06 2.06-.94-2.06-.94-.94-2.06-.94 2.06-2.06.94zm-11 1L8.5 8.5l.94-2.06 2.06-.94-2.06-.94L8.5 2.5l-.94 2.06-2.06.94zm10 10l.94 2.06.94-2.06 2.06-.94-2.06-.94-.94-2.06-.94 2.06-2.06.94z\"/><path d=\"M17.41 7.96l-1.37-1.37c-.4-.4-.92-.59-1.43-.59-.52 0-1.04.2-1.43.59L10.3 9.45l-7.72 7.72c-.78.78-.78 2.05 0 2.83L4 21.41c.39.39.9.59 1.41.59.51 0 1.02-.2 1.41-.59l7.78-7.78 2.81-2.81c.8-.78.8-2.07 0-2.86zM5.41 20L4 18.59l7.72-7.72 1.47 1.35L5.41 20z\"/>\n",
              "  </svg>\n",
              "      </button>\n",
              "      \n",
              "  <style>\n",
              "    .colab-df-container {\n",
              "      display:flex;\n",
              "      flex-wrap:wrap;\n",
              "      gap: 12px;\n",
              "    }\n",
              "\n",
              "    .colab-df-convert {\n",
              "      background-color: #E8F0FE;\n",
              "      border: none;\n",
              "      border-radius: 50%;\n",
              "      cursor: pointer;\n",
              "      display: none;\n",
              "      fill: #1967D2;\n",
              "      height: 32px;\n",
              "      padding: 0 0 0 0;\n",
              "      width: 32px;\n",
              "    }\n",
              "\n",
              "    .colab-df-convert:hover {\n",
              "      background-color: #E2EBFA;\n",
              "      box-shadow: 0px 1px 2px rgba(60, 64, 67, 0.3), 0px 1px 3px 1px rgba(60, 64, 67, 0.15);\n",
              "      fill: #174EA6;\n",
              "    }\n",
              "\n",
              "    [theme=dark] .colab-df-convert {\n",
              "      background-color: #3B4455;\n",
              "      fill: #D2E3FC;\n",
              "    }\n",
              "\n",
              "    [theme=dark] .colab-df-convert:hover {\n",
              "      background-color: #434B5C;\n",
              "      box-shadow: 0px 1px 3px 1px rgba(0, 0, 0, 0.15);\n",
              "      filter: drop-shadow(0px 1px 2px rgba(0, 0, 0, 0.3));\n",
              "      fill: #FFFFFF;\n",
              "    }\n",
              "  </style>\n",
              "\n",
              "      <script>\n",
              "        const buttonEl =\n",
              "          document.querySelector('#df-eac5a44a-e78a-4184-933f-c04eb0601cd8 button.colab-df-convert');\n",
              "        buttonEl.style.display =\n",
              "          google.colab.kernel.accessAllowed ? 'block' : 'none';\n",
              "\n",
              "        async function convertToInteractive(key) {\n",
              "          const element = document.querySelector('#df-eac5a44a-e78a-4184-933f-c04eb0601cd8');\n",
              "          const dataTable =\n",
              "            await google.colab.kernel.invokeFunction('convertToInteractive',\n",
              "                                                     [key], {});\n",
              "          if (!dataTable) return;\n",
              "\n",
              "          const docLinkHtml = 'Like what you see? Visit the ' +\n",
              "            '<a target=\"_blank\" href=https://colab.research.google.com/notebooks/data_table.ipynb>data table notebook</a>'\n",
              "            + ' to learn more about interactive tables.';\n",
              "          element.innerHTML = '';\n",
              "          dataTable['output_type'] = 'display_data';\n",
              "          await google.colab.output.renderOutput(dataTable, element);\n",
              "          const docLink = document.createElement('div');\n",
              "          docLink.innerHTML = docLinkHtml;\n",
              "          element.appendChild(docLink);\n",
              "        }\n",
              "      </script>\n",
              "    </div>\n",
              "  </div>\n",
              "  "
            ]
          },
          "metadata": {},
          "execution_count": 24
        }
      ]
    },
    {
      "cell_type": "code",
      "source": [
        "anas_group.mean(), bern_group.mean()"
      ],
      "metadata": {
        "colab": {
          "base_uri": "https://localhost:8080/"
        },
        "id": "GYcGqgA1GJSc",
        "outputId": "3000cadc-0d22-45f6-ff72-a17c7d243d44"
      },
      "execution_count": 27,
      "outputs": [
        {
          "output_type": "execute_result",
          "data": {
            "text/plain": [
              "(74.53333333333333, 69.05555555555556)"
            ]
          },
          "metadata": {},
          "execution_count": 27
        }
      ]
    },
    {
      "cell_type": "code",
      "source": [
        "anas_group.std(), bern_group.std()"
      ],
      "metadata": {
        "colab": {
          "base_uri": "https://localhost:8080/"
        },
        "id": "GCZigQb_HZxU",
        "outputId": "61c9ee19-6443-4ebb-c966-3e912bc25274"
      },
      "execution_count": 29,
      "outputs": [
        {
          "output_type": "execute_result",
          "data": {
            "text/plain": [
              "(8.998941736723957, 5.774917592711985)"
            ]
          },
          "metadata": {},
          "execution_count": 29
        }
      ]
    },
    {
      "cell_type": "markdown",
      "source": [
        "# Independent samples $t$-test (Welch test)\n",
        "Two different groups of observations - do the 2 groups have the same pop mean?\n",
        "\n",
        "In contrast to Student's, does not require homogenity of variance assumption."
      ],
      "metadata": {
        "id": "sf1PLF3FIf2E"
      }
    },
    {
      "cell_type": "code",
      "source": [
        "# Independent samples t-test (Welch)\n",
        "pg.ttest(x=bern_group, y=anas_group, correction=True).round(3)\n",
        "# Note - no longer significant"
      ],
      "metadata": {
        "colab": {
          "base_uri": "https://localhost:8080/",
          "height": 81
        },
        "id": "R7ZdDp0vI9XA",
        "outputId": "e62281cc-0a01-4d0e-ec73-8e583a213af0"
      },
      "execution_count": 31,
      "outputs": [
        {
          "output_type": "execute_result",
          "data": {
            "text/plain": [
              "            T     dof alternative  p-val           CI95%  cohen-d   BF10  \\\n",
              "T-test -2.034  23.025   two-sided  0.054  [-11.05, 0.09]     0.74  1.556   \n",
              "\n",
              "        power  \n",
              "T-test  0.536  "
            ],
            "text/html": [
              "\n",
              "  <div id=\"df-37f1f4e1-3b0c-464d-b3dd-530bd61a71a9\">\n",
              "    <div class=\"colab-df-container\">\n",
              "      <div>\n",
              "<style scoped>\n",
              "    .dataframe tbody tr th:only-of-type {\n",
              "        vertical-align: middle;\n",
              "    }\n",
              "\n",
              "    .dataframe tbody tr th {\n",
              "        vertical-align: top;\n",
              "    }\n",
              "\n",
              "    .dataframe thead th {\n",
              "        text-align: right;\n",
              "    }\n",
              "</style>\n",
              "<table border=\"1\" class=\"dataframe\">\n",
              "  <thead>\n",
              "    <tr style=\"text-align: right;\">\n",
              "      <th></th>\n",
              "      <th>T</th>\n",
              "      <th>dof</th>\n",
              "      <th>alternative</th>\n",
              "      <th>p-val</th>\n",
              "      <th>CI95%</th>\n",
              "      <th>cohen-d</th>\n",
              "      <th>BF10</th>\n",
              "      <th>power</th>\n",
              "    </tr>\n",
              "  </thead>\n",
              "  <tbody>\n",
              "    <tr>\n",
              "      <th>T-test</th>\n",
              "      <td>-2.034</td>\n",
              "      <td>23.025</td>\n",
              "      <td>two-sided</td>\n",
              "      <td>0.054</td>\n",
              "      <td>[-11.05, 0.09]</td>\n",
              "      <td>0.74</td>\n",
              "      <td>1.556</td>\n",
              "      <td>0.536</td>\n",
              "    </tr>\n",
              "  </tbody>\n",
              "</table>\n",
              "</div>\n",
              "      <button class=\"colab-df-convert\" onclick=\"convertToInteractive('df-37f1f4e1-3b0c-464d-b3dd-530bd61a71a9')\"\n",
              "              title=\"Convert this dataframe to an interactive table.\"\n",
              "              style=\"display:none;\">\n",
              "        \n",
              "  <svg xmlns=\"http://www.w3.org/2000/svg\" height=\"24px\"viewBox=\"0 0 24 24\"\n",
              "       width=\"24px\">\n",
              "    <path d=\"M0 0h24v24H0V0z\" fill=\"none\"/>\n",
              "    <path d=\"M18.56 5.44l.94 2.06.94-2.06 2.06-.94-2.06-.94-.94-2.06-.94 2.06-2.06.94zm-11 1L8.5 8.5l.94-2.06 2.06-.94-2.06-.94L8.5 2.5l-.94 2.06-2.06.94zm10 10l.94 2.06.94-2.06 2.06-.94-2.06-.94-.94-2.06-.94 2.06-2.06.94z\"/><path d=\"M17.41 7.96l-1.37-1.37c-.4-.4-.92-.59-1.43-.59-.52 0-1.04.2-1.43.59L10.3 9.45l-7.72 7.72c-.78.78-.78 2.05 0 2.83L4 21.41c.39.39.9.59 1.41.59.51 0 1.02-.2 1.41-.59l7.78-7.78 2.81-2.81c.8-.78.8-2.07 0-2.86zM5.41 20L4 18.59l7.72-7.72 1.47 1.35L5.41 20z\"/>\n",
              "  </svg>\n",
              "      </button>\n",
              "      \n",
              "  <style>\n",
              "    .colab-df-container {\n",
              "      display:flex;\n",
              "      flex-wrap:wrap;\n",
              "      gap: 12px;\n",
              "    }\n",
              "\n",
              "    .colab-df-convert {\n",
              "      background-color: #E8F0FE;\n",
              "      border: none;\n",
              "      border-radius: 50%;\n",
              "      cursor: pointer;\n",
              "      display: none;\n",
              "      fill: #1967D2;\n",
              "      height: 32px;\n",
              "      padding: 0 0 0 0;\n",
              "      width: 32px;\n",
              "    }\n",
              "\n",
              "    .colab-df-convert:hover {\n",
              "      background-color: #E2EBFA;\n",
              "      box-shadow: 0px 1px 2px rgba(60, 64, 67, 0.3), 0px 1px 3px 1px rgba(60, 64, 67, 0.15);\n",
              "      fill: #174EA6;\n",
              "    }\n",
              "\n",
              "    [theme=dark] .colab-df-convert {\n",
              "      background-color: #3B4455;\n",
              "      fill: #D2E3FC;\n",
              "    }\n",
              "\n",
              "    [theme=dark] .colab-df-convert:hover {\n",
              "      background-color: #434B5C;\n",
              "      box-shadow: 0px 1px 3px 1px rgba(0, 0, 0, 0.15);\n",
              "      filter: drop-shadow(0px 1px 2px rgba(0, 0, 0, 0.3));\n",
              "      fill: #FFFFFF;\n",
              "    }\n",
              "  </style>\n",
              "\n",
              "      <script>\n",
              "        const buttonEl =\n",
              "          document.querySelector('#df-37f1f4e1-3b0c-464d-b3dd-530bd61a71a9 button.colab-df-convert');\n",
              "        buttonEl.style.display =\n",
              "          google.colab.kernel.accessAllowed ? 'block' : 'none';\n",
              "\n",
              "        async function convertToInteractive(key) {\n",
              "          const element = document.querySelector('#df-37f1f4e1-3b0c-464d-b3dd-530bd61a71a9');\n",
              "          const dataTable =\n",
              "            await google.colab.kernel.invokeFunction('convertToInteractive',\n",
              "                                                     [key], {});\n",
              "          if (!dataTable) return;\n",
              "\n",
              "          const docLinkHtml = 'Like what you see? Visit the ' +\n",
              "            '<a target=\"_blank\" href=https://colab.research.google.com/notebooks/data_table.ipynb>data table notebook</a>'\n",
              "            + ' to learn more about interactive tables.';\n",
              "          element.innerHTML = '';\n",
              "          dataTable['output_type'] = 'display_data';\n",
              "          await google.colab.output.renderOutput(dataTable, element);\n",
              "          const docLink = document.createElement('div');\n",
              "          docLink.innerHTML = docLinkHtml;\n",
              "          element.appendChild(docLink);\n",
              "        }\n",
              "      </script>\n",
              "    </div>\n",
              "  </div>\n",
              "  "
            ]
          },
          "metadata": {},
          "execution_count": 31
        }
      ]
    },
    {
      "cell_type": "markdown",
      "source": [
        "# Paired samples $t$-test\n",
        "Useful for repeated measures design - where each subject appears in both groups (measured at 2 different time periods)"
      ],
      "metadata": {
        "id": "k2gN5Yp7JbOG"
      }
    }
  ]
}