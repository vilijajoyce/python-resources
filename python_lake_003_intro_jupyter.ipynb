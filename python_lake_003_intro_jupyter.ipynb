{
  "nbformat": 4,
  "nbformat_minor": 0,
  "metadata": {
    "colab": {
      "name": "python-lake-003-intro-jupyter.ipynb",
      "provenance": [],
      "authorship_tag": "ABX9TyMySF6FFOJw9Mi8mNGAvW4p",
      "include_colab_link": true
    },
    "kernelspec": {
      "name": "python3",
      "display_name": "Python 3"
    },
    "language_info": {
      "name": "python"
    }
  },
  "cells": [
    {
      "cell_type": "markdown",
      "metadata": {
        "id": "view-in-github",
        "colab_type": "text"
      },
      "source": [
        "<a href=\"https://colab.research.google.com/github/vilijajoyce/python-resources/blob/main/python_lake_003_intro_jupyter.ipynb\" target=\"_parent\"><img src=\"https://colab.research.google.com/assets/colab-badge.svg\" alt=\"Open In Colab\"/></a>"
      ]
    },
    {
      "cell_type": "markdown",
      "source": [
        "# Introduction to Jupyter\n",
        "## 3.1 Video lecture notes\n",
        "\n",
        "* Using cloud-based solution - Jupyter.\n",
        "* Python, R, Matlab \n",
        "* Programming important for replicable research. Can share with another researcher. Transparency. Sharing of ideas.\n",
        "* Think of Jupyter computational notebooks as a lab notebook. Graphics, code, text in same notebook. Code and results all in one file.\n",
        "* Mathematica is an earlier computational notebook.\n",
        "* Jupyter = open source and free.\n",
        "* Can open Jupyter notebooks on iPad\n",
        "* Popular in industry, academia\n",
        "* Every class lecture of this course is a Jupyter notebook. See top-right options to open JupyterHub, fullscreen mode, download .ipnyb or .pdf\n",
        "* Think of notebook as individual cells (VJ - similar to WordPress blocks). Code cells (e.g. Python). Markdown cells (e.g. write text, include pictures, links, YouTube videos). \n",
        "* Code cells can be run as computable cells. \"Executing a cell\" - hit the run button on a code cell. Code is sent to **kernel** and results are sent back to the **notebook** for you to inspect. Sometimes takes hours.\n",
        "* Notebook--> way things look. \n",
        "* Kernel--> does the computation. Can be turned off, turned on, reset.\n",
        "* If you delete the cell, kernel doesn't know. Notebook and the kernel then are out of sync. Make sure that the code that you send to the kernel is in the right order. Think of a recipe and the order of the recipe. Keep track of the order that you send things to the kernel.\n",
        "* Restart the kernel. If you get confused, reset and re-execute all of the cells in the notebook.\n",
        "* In Google collab, see Runtime > Restart runtime - to restart kernel\n",
        "* Makes statistics come alive (I love this!)\n",
        "\n"
      ],
      "metadata": {
        "id": "VJWx1mLOAcOG"
      }
    },
    {
      "cell_type": "code",
      "source": [
        "# Code cell\n",
        "# Execute cell-->SHIFT+ENTER\n",
        "1+1"
      ],
      "metadata": {
        "colab": {
          "base_uri": "https://localhost:8080/"
        },
        "id": "h8NPPRCPGJ8j",
        "outputId": "ddabf38b-d3fc-42d5-fee1-582042ba85e6"
      },
      "execution_count": 1,
      "outputs": [
        {
          "output_type": "execute_result",
          "data": {
            "text/plain": [
              "2"
            ]
          },
          "metadata": {},
          "execution_count": 1
        }
      ]
    },
    {
      "cell_type": "markdown",
      "source": [
        "* Formatting language = markdown\n",
        "* Hit **SHIFT+ENTER** to render this text or markdown cell\n",
        "* Double click to go back to edit mode\n",
        "* Press up and down key to go to different cells\n",
        "* Can press **ESCAPE** key as well\n",
        "* **B** to enter cell below the current cell\n",
        "* CTRL M H for keyboard shortcuts\n",
        "\n"
      ],
      "metadata": {
        "id": "CszNTjUCGpUi"
      }
    },
    {
      "cell_type": "code",
      "source": [
        "# Define variables\n",
        "# Note what happens if you skip the next cell (b=2) and try to run the following cell (c=a+b). You didn't run the code cell. You didn't send it to the kernel.\n",
        "# If confused, try restarting the kernel using Runtime > Restart runtime \n",
        "a=1"
      ],
      "metadata": {
        "id": "e5SKk7ISHYsX"
      },
      "execution_count": 4,
      "outputs": []
    },
    {
      "cell_type": "code",
      "source": [
        "b=2"
      ],
      "metadata": {
        "id": "YMb2dAALIMxz"
      },
      "execution_count": 5,
      "outputs": []
    },
    {
      "cell_type": "code",
      "source": [
        "c=a+b"
      ],
      "metadata": {
        "id": "txGPP8l6INFK"
      },
      "execution_count": 6,
      "outputs": []
    },
    {
      "cell_type": "code",
      "source": [
        ""
      ],
      "metadata": {
        "id": "KlXMJG3AEoeh"
      },
      "execution_count": null,
      "outputs": []
    },
    {
      "cell_type": "markdown",
      "source": [
        ""
      ],
      "metadata": {
        "id": "PSwav9EAAaGv"
      }
    }
  ]
}