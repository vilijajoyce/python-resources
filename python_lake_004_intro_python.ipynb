{
  "nbformat": 4,
  "nbformat_minor": 0,
  "metadata": {
    "colab": {
      "name": "python-lake-004-intro-python.ipynb",
      "provenance": [],
      "collapsed_sections": [],
      "authorship_tag": "ABX9TyOu1IhbTKBBe7u7mg1dO3KL",
      "include_colab_link": true
    },
    "kernelspec": {
      "name": "python3",
      "display_name": "Python 3"
    },
    "language_info": {
      "name": "python"
    }
  },
  "cells": [
    {
      "cell_type": "markdown",
      "metadata": {
        "id": "view-in-github",
        "colab_type": "text"
      },
      "source": [
        "<a href=\"https://colab.research.google.com/github/vilijajoyce/python-resources/blob/main/python_lake_004_intro_python.ipynb\" target=\"_parent\"><img src=\"https://colab.research.google.com/assets/colab-badge.svg\" alt=\"Open In Colab\"/></a>"
      ]
    },
    {
      "cell_type": "markdown",
      "source": [
        "# [Intro to python](https://cims.nyu.edu/~brenden/courses/labincp/chapters/03/00-python.html)\n",
        "* Programming? Sequence of instructions for computer to follow.\n",
        "* Data analysis pipeline-->Opening data file, processing/cleaning, computing stats, drawing figures/graphs.\n",
        "* Remember **SHIFT+ENTER** to run code"
      ],
      "metadata": {
        "id": "gFSrrHuxLN48"
      }
    },
    {
      "cell_type": "code",
      "execution_count": 1,
      "metadata": {
        "colab": {
          "base_uri": "https://localhost:8080/"
        },
        "id": "uVQ-9pbHLK5X",
        "outputId": "1835317c-7a93-4dbc-be73-6764d487187f"
      },
      "outputs": [
        {
          "output_type": "stream",
          "name": "stdout",
          "text": [
            "#This is not a comment - it's inside quotes\n"
          ]
        }
      ],
      "source": [
        "# Comment 1\n",
        "spam = 1  # Comment 2\n",
        "          # Comment 3\n",
        "text = \"#This is not a comment - it's inside quotes\"\n",
        "print(text)"
      ]
    },
    {
      "cell_type": "code",
      "source": [
        "#Define variables and print them\n",
        "a=1\n",
        "b=2\n",
        "# Functions/methods/procedures - collection of lines of codes. name(\"argument\")\n",
        "print(a,b)"
      ],
      "metadata": {
        "colab": {
          "base_uri": "https://localhost:8080/"
        },
        "id": "4Hph_madNCAw",
        "outputId": "3300cfde-4bc2-444c-b0b1-e10e3f856e59"
      },
      "execution_count": 4,
      "outputs": [
        {
          "output_type": "stream",
          "name": "stdout",
          "text": [
            "1 2\n"
          ]
        }
      ]
    },
    {
      "cell_type": "code",
      "source": [
        "abs(2)"
      ],
      "metadata": {
        "colab": {
          "base_uri": "https://localhost:8080/"
        },
        "id": "twtSMA-tNfZD",
        "outputId": "ada6fbb7-1d7d-4a06-9c4c-6782ed4d3575"
      },
      "execution_count": 5,
      "outputs": [
        {
          "output_type": "execute_result",
          "data": {
            "text/plain": [
              "2"
            ]
          },
          "metadata": {},
          "execution_count": 5
        }
      ]
    },
    {
      "cell_type": "code",
      "source": [
        "abs(-1)"
      ],
      "metadata": {
        "colab": {
          "base_uri": "https://localhost:8080/"
        },
        "id": "mc_keFlJNrYz",
        "outputId": "c66eae2e-d426-4947-9293-568319957b5b"
      },
      "execution_count": 6,
      "outputs": [
        {
          "output_type": "execute_result",
          "data": {
            "text/plain": [
              "1"
            ]
          },
          "metadata": {},
          "execution_count": 6
        }
      ]
    },
    {
      "cell_type": "code",
      "source": [
        "# Example of error message e.g. you forgot your paren\n",
        "abs(-1"
      ],
      "metadata": {
        "colab": {
          "base_uri": "https://localhost:8080/",
          "height": 130
        },
        "id": "z0FFW7r5Nv1a",
        "outputId": "2bc4755d-16ad-4e25-9548-32f986134d2e"
      },
      "execution_count": 7,
      "outputs": [
        {
          "output_type": "error",
          "ename": "SyntaxError",
          "evalue": "ignored",
          "traceback": [
            "\u001b[0;36m  File \u001b[0;32m\"<ipython-input-7-ef7205c441a4>\"\u001b[0;36m, line \u001b[0;32m2\u001b[0m\n\u001b[0;31m    abs(-1\u001b[0m\n\u001b[0m          ^\u001b[0m\n\u001b[0;31mSyntaxError\u001b[0m\u001b[0;31m:\u001b[0m unexpected EOF while parsing\n"
          ]
        }
      ]
    },
    {
      "cell_type": "markdown",
      "source": [
        "## Calculator"
      ],
      "metadata": {
        "id": "X_dx1Oc2UIkL"
      }
    },
    {
      "cell_type": "code",
      "source": [
        "# Calculator\n",
        "2+2"
      ],
      "metadata": {
        "colab": {
          "base_uri": "https://localhost:8080/"
        },
        "id": "jR1JxR6tN69j",
        "outputId": "eef6151c-a7bd-470f-deb8-1c9ee1114623"
      },
      "execution_count": 11,
      "outputs": [
        {
          "output_type": "execute_result",
          "data": {
            "text/plain": [
              "20"
            ]
          },
          "metadata": {},
          "execution_count": 11
        }
      ]
    },
    {
      "cell_type": "code",
      "source": [
        "# Calculator\n",
        "50-5*6"
      ],
      "metadata": {
        "colab": {
          "base_uri": "https://localhost:8080/"
        },
        "id": "5WtksN34OJPE",
        "outputId": "2d9207ac-c328-4a72-b058-03a640590c0d"
      },
      "execution_count": 10,
      "outputs": [
        {
          "output_type": "execute_result",
          "data": {
            "text/plain": [
              "20"
            ]
          },
          "metadata": {},
          "execution_count": 10
        }
      ]
    },
    {
      "cell_type": "code",
      "source": [
        "# Python needs to keep track of what type of number it is \n",
        "# integer --> no decimal places after it\n",
        "# floating point number--> w/ decimal places, etc.\n",
        "type(2)"
      ],
      "metadata": {
        "colab": {
          "base_uri": "https://localhost:8080/"
        },
        "id": "JMrQEm0oOK7a",
        "outputId": "03687f3d-9f2b-4ba2-e79d-d0732ca06972"
      },
      "execution_count": 16,
      "outputs": [
        {
          "output_type": "execute_result",
          "data": {
            "text/plain": [
              "int"
            ]
          },
          "metadata": {},
          "execution_count": 16
        }
      ]
    },
    {
      "cell_type": "code",
      "source": [
        "type(2.0)"
      ],
      "metadata": {
        "colab": {
          "base_uri": "https://localhost:8080/"
        },
        "id": "Hh-1yrIAOYqq",
        "outputId": "f17556a0-a8d9-4687-ec0d-c2f238e60d20"
      },
      "execution_count": 14,
      "outputs": [
        {
          "output_type": "execute_result",
          "data": {
            "text/plain": [
              "float"
            ]
          },
          "metadata": {},
          "execution_count": 14
        }
      ]
    },
    {
      "cell_type": "code",
      "source": [
        "type(2.)"
      ],
      "metadata": {
        "colab": {
          "base_uri": "https://localhost:8080/"
        },
        "id": "JEofSkz4Ofcs",
        "outputId": "e0dfa2d9-ba57-4e20-9133-b2672a86be27"
      },
      "execution_count": 15,
      "outputs": [
        {
          "output_type": "execute_result",
          "data": {
            "text/plain": [
              "float"
            ]
          },
          "metadata": {},
          "execution_count": 15
        }
      ]
    },
    {
      "cell_type": "code",
      "source": [
        "# Convert between types\n",
        "8/5"
      ],
      "metadata": {
        "colab": {
          "base_uri": "https://localhost:8080/"
        },
        "id": "dvW3A4tHOg35",
        "outputId": "21c6d807-348e-4d60-9151-29ce93a14422"
      },
      "execution_count": 17,
      "outputs": [
        {
          "output_type": "execute_result",
          "data": {
            "text/plain": [
              "1.6"
            ]
          },
          "metadata": {},
          "execution_count": 17
        }
      ]
    },
    {
      "cell_type": "code",
      "source": [
        "type(8), type(5), type (8/5)"
      ],
      "metadata": {
        "colab": {
          "base_uri": "https://localhost:8080/"
        },
        "id": "w_S7vfVnOv-j",
        "outputId": "b8cfb39e-e3df-410c-b4ba-fbc99e833c3f"
      },
      "execution_count": 18,
      "outputs": [
        {
          "output_type": "execute_result",
          "data": {
            "text/plain": [
              "(int, int, float)"
            ]
          },
          "metadata": {},
          "execution_count": 18
        }
      ]
    },
    {
      "cell_type": "code",
      "source": [
        "# Get left hand side when dividing\n",
        "17//5"
      ],
      "metadata": {
        "colab": {
          "base_uri": "https://localhost:8080/"
        },
        "id": "rkkzta-IO0H5",
        "outputId": "94eebe48-fe81-49b0-a094-76c687d65915"
      },
      "execution_count": 19,
      "outputs": [
        {
          "output_type": "execute_result",
          "data": {
            "text/plain": [
              "3"
            ]
          },
          "metadata": {},
          "execution_count": 19
        }
      ]
    },
    {
      "cell_type": "code",
      "source": [
        "# Get remainder when dividing\n",
        "17%3"
      ],
      "metadata": {
        "colab": {
          "base_uri": "https://localhost:8080/"
        },
        "id": "GNWkDMPgPQ3x",
        "outputId": "2d750be3-5f68-42d8-da40-b4d2faccd310"
      },
      "execution_count": 20,
      "outputs": [
        {
          "output_type": "execute_result",
          "data": {
            "text/plain": [
              "2"
            ]
          },
          "metadata": {},
          "execution_count": 20
        }
      ]
    },
    {
      "cell_type": "code",
      "source": [
        "# Use the last operation (%) for cycling through a list of numbers\n",
        "# Note that when we get to 3, we go back to 0 in the 2nd column\n",
        "numbers = [0,1,2,3,4,5,6,7,8,9,10]\n",
        "for i in numbers:\n",
        "    print(i, i%3)"
      ],
      "metadata": {
        "colab": {
          "base_uri": "https://localhost:8080/"
        },
        "id": "HUzfmxjaPUwq",
        "outputId": "495c0a17-02e9-4bf6-cb5f-9ee32df228ce"
      },
      "execution_count": 21,
      "outputs": [
        {
          "output_type": "stream",
          "name": "stdout",
          "text": [
            "0 0\n",
            "1 1\n",
            "2 2\n",
            "3 0\n",
            "4 1\n",
            "5 2\n",
            "6 0\n",
            "7 1\n",
            "8 2\n",
            "9 0\n",
            "10 1\n"
          ]
        }
      ]
    },
    {
      "cell_type": "code",
      "source": [
        "# Power\n",
        "5**2"
      ],
      "metadata": {
        "colab": {
          "base_uri": "https://localhost:8080/"
        },
        "id": "D1WtxGJFPhOS",
        "outputId": "e46367f7-4a55-4419-e78f-93d5dcc58063"
      },
      "execution_count": 22,
      "outputs": [
        {
          "output_type": "execute_result",
          "data": {
            "text/plain": [
              "25"
            ]
          },
          "metadata": {},
          "execution_count": 22
        }
      ]
    },
    {
      "cell_type": "markdown",
      "source": [
        "## Variables"
      ],
      "metadata": {
        "id": "kbSL9IKVUNrH"
      }
    },
    {
      "cell_type": "code",
      "source": [
        "# Variables - making our code readable\n",
        "# Variable must begin with letter or _\n",
        "# Can only contain A-Z, 0-9, _\n",
        "# Case sensitive (unlike SAS)\n",
        "width = 20\n",
        "height = 5*90\n",
        "area = width * height\n",
        "print(\"area = \", area)"
      ],
      "metadata": {
        "colab": {
          "base_uri": "https://localhost:8080/"
        },
        "id": "LmH4YcYIPxJT",
        "outputId": "3c2cf0d5-f96d-4f6e-fc41-b7372af41041"
      },
      "execution_count": 24,
      "outputs": [
        {
          "output_type": "stream",
          "name": "stdout",
          "text": [
            "area =  9000\n"
          ]
        }
      ]
    },
    {
      "cell_type": "code",
      "source": [
        "n #Try to access an undefined variable"
      ],
      "metadata": {
        "colab": {
          "base_uri": "https://localhost:8080/",
          "height": 165
        },
        "id": "Ih6vQms_QFzJ",
        "outputId": "8f9b2834-4b8a-412c-846e-3c0fb8762ee9"
      },
      "execution_count": 25,
      "outputs": [
        {
          "output_type": "error",
          "ename": "NameError",
          "evalue": "ignored",
          "traceback": [
            "\u001b[0;31m---------------------------------------------------------------------------\u001b[0m",
            "\u001b[0;31mNameError\u001b[0m                                 Traceback (most recent call last)",
            "\u001b[0;32m<ipython-input-25-8d7796ef7e80>\u001b[0m in \u001b[0;36m<module>\u001b[0;34m()\u001b[0m\n\u001b[0;32m----> 1\u001b[0;31m \u001b[0mn\u001b[0m \u001b[0;31m#Try to access an undefined variable\u001b[0m\u001b[0;34m\u001b[0m\u001b[0;34m\u001b[0m\u001b[0m\n\u001b[0m",
            "\u001b[0;31mNameError\u001b[0m: name 'n' is not defined"
          ]
        }
      ]
    },
    {
      "cell_type": "code",
      "source": [
        "# Get list of all current named variables in our Jupyter kernel\n",
        "%whos"
      ],
      "metadata": {
        "colab": {
          "base_uri": "https://localhost:8080/"
        },
        "id": "NvGRQlcfQnnb",
        "outputId": "2d2aed8f-ec9e-4d31-d85c-b34220c3562e"
      },
      "execution_count": 26,
      "outputs": [
        {
          "output_type": "stream",
          "name": "stdout",
          "text": [
            "Variable   Type    Data/Info\n",
            "----------------------------\n",
            "a          int     1\n",
            "area       int     9000\n",
            "b          int     2\n",
            "height     int     450\n",
            "i          int     10\n",
            "numbers    list    n=11\n",
            "spam       int     1\n",
            "text       str     #This is not a comment - it's inside quotes\n",
            "width      int     20\n"
          ]
        }
      ]
    },
    {
      "cell_type": "code",
      "source": [
        "# Strings (text)\n",
        "# e.g. your name\n",
        "'spam eggs' #single quotes\n",
        "\"spam eggs\" #double quotes"
      ],
      "metadata": {
        "colab": {
          "base_uri": "https://localhost:8080/",
          "height": 35
        },
        "id": "0TLlT9DYQtDy",
        "outputId": "89da7394-b4b2-4e0c-9d59-4f87e1488a0d"
      },
      "execution_count": 28,
      "outputs": [
        {
          "output_type": "execute_result",
          "data": {
            "text/plain": [
              "'spam eggs'"
            ],
            "application/vnd.google.colaboratory.intrinsic+json": {
              "type": "string"
            }
          },
          "metadata": {},
          "execution_count": 28
        }
      ]
    },
    {
      "cell_type": "code",
      "source": [
        "# Multiple lines in same string\n",
        "print(\"\"\"\n",
        "Usage: thingy [OPTIONS]\n",
        "  -h                      Display this usage message\n",
        "  -H hostname             Hostname to connect to\n",
        "\"\"\")"
      ],
      "metadata": {
        "colab": {
          "base_uri": "https://localhost:8080/"
        },
        "id": "6XzobrIBQ90x",
        "outputId": "61e6998a-0475-456e-a424-e3b15b5ded6c"
      },
      "execution_count": 29,
      "outputs": [
        {
          "output_type": "stream",
          "name": "stdout",
          "text": [
            "\n",
            "Usage: thingy [OPTIONS]\n",
            "  -h                      Display this usage message\n",
            "  -H hostname             Hostname to connect to\n",
            "\n"
          ]
        }
      ]
    },
    {
      "cell_type": "code",
      "source": [
        "# Concatenate vars using +\n",
        "3 * 'un' + 'ium'"
      ],
      "metadata": {
        "colab": {
          "base_uri": "https://localhost:8080/",
          "height": 35
        },
        "id": "A7zOSYLWRSOa",
        "outputId": "fcafc8ab-a195-4e46-b543-e5e6da56038e"
      },
      "execution_count": 31,
      "outputs": [
        {
          "output_type": "execute_result",
          "data": {
            "text/plain": [
              "'unununium'"
            ],
            "application/vnd.google.colaboratory.intrinsic+json": {
              "type": "string"
            }
          },
          "metadata": {},
          "execution_count": 31
        }
      ]
    },
    {
      "cell_type": "code",
      "source": [
        "# Access individual characters one by one\n",
        "# Note that we start with zero (Python is zero indexed)\n",
        "word = 'Python'\n",
        "word[0] # Character in position 0 "
      ],
      "metadata": {
        "colab": {
          "base_uri": "https://localhost:8080/",
          "height": 35
        },
        "id": "3fM3iTu_RXaa",
        "outputId": "775ea726-153c-4a74-f451-9d3109e43e7b"
      },
      "execution_count": 32,
      "outputs": [
        {
          "output_type": "execute_result",
          "data": {
            "text/plain": [
              "'P'"
            ],
            "application/vnd.google.colaboratory.intrinsic+json": {
              "type": "string"
            }
          },
          "metadata": {},
          "execution_count": 32
        }
      ]
    },
    {
      "cell_type": "code",
      "source": [
        "word[5] # Character in position 5"
      ],
      "metadata": {
        "colab": {
          "base_uri": "https://localhost:8080/",
          "height": 35
        },
        "id": "zXajAReJRzVq",
        "outputId": "3fe9373a-33bb-41b5-a1ee-7b21067ed32e"
      },
      "execution_count": 33,
      "outputs": [
        {
          "output_type": "execute_result",
          "data": {
            "text/plain": [
              "'n'"
            ],
            "application/vnd.google.colaboratory.intrinsic+json": {
              "type": "string"
            }
          },
          "metadata": {},
          "execution_count": 33
        }
      ]
    },
    {
      "cell_type": "code",
      "source": [
        "word[-1] # Last character"
      ],
      "metadata": {
        "colab": {
          "base_uri": "https://localhost:8080/",
          "height": 35
        },
        "id": "IvP8JuTUR2yC",
        "outputId": "1b29ecfd-f159-4d08-bd4a-e883405fcd54"
      },
      "execution_count": 34,
      "outputs": [
        {
          "output_type": "execute_result",
          "data": {
            "text/plain": [
              "'n'"
            ],
            "application/vnd.google.colaboratory.intrinsic+json": {
              "type": "string"
            }
          },
          "metadata": {},
          "execution_count": 34
        }
      ]
    },
    {
      "cell_type": "code",
      "source": [
        "word[-2] # 2nd to last character"
      ],
      "metadata": {
        "colab": {
          "base_uri": "https://localhost:8080/",
          "height": 35
        },
        "id": "3lHa6_feSJti",
        "outputId": "760034e3-5f42-42a7-8d8c-aa7dc46ab615"
      },
      "execution_count": 35,
      "outputs": [
        {
          "output_type": "execute_result",
          "data": {
            "text/plain": [
              "'o'"
            ],
            "application/vnd.google.colaboratory.intrinsic+json": {
              "type": "string"
            }
          },
          "metadata": {},
          "execution_count": 35
        }
      ]
    },
    {
      "cell_type": "code",
      "source": [
        "word[0:2] #Slice (not inclusive-->takes characters from 0 through 1)\n",
        "# See image below for identifying each of the letters in a string-->top row=forwards; bottomr row=backwards"
      ],
      "metadata": {
        "colab": {
          "base_uri": "https://localhost:8080/",
          "height": 35
        },
        "id": "M8SY6P0vSL-J",
        "outputId": "168011f6-e918-4284-c8bc-419e34f67d32"
      },
      "execution_count": 38,
      "outputs": [
        {
          "output_type": "execute_result",
          "data": {
            "text/plain": [
              "'Py'"
            ],
            "application/vnd.google.colaboratory.intrinsic+json": {
              "type": "string"
            }
          },
          "metadata": {},
          "execution_count": 38
        }
      ]
    },
    {
      "cell_type": "markdown",
      "source": [
        "![Screenshot 2022-05-22 220113.png](data:image/png;base64,iVBORw0KGgoAAAANSUhEUgAAAYMAAAC0CAYAAAB2bECzAAAAAXNSR0IArs4c6QAAAARnQU1BAACxjwv8YQUAAAAJcEhZcwAADsMAAA7DAcdvqGQAAFkESURBVHhe7V0HfFRV1j+kQCoptIRAEnrvvQqCIE1X1rWAfemyioqCYttF1w9s6LoWFCm67loBKx0pKr1JLwFCCgmkQCqQ5H33f+bd4WWYVGYm88b7h/ubyZtX7rnn3HvKPe/eapoAKSgoKCj8oeGlfyooKCgo/IGhlIGCgoKCglIGCgoKCgpKGSgoKCgoCChloKCgoKCglIGCgoKCglIGCgoKCgoCShkoKCgoKChloKCgoKCglIGCgoKCgoBSBgoKCgoKShkoKCgoKChloKCgoKAgoJSBgoKCgoJSBgoKCgoKShkoKCgoKAgoZaCgoKCgoJSBgoKCgoJSBgoKCgoKAkoZKCgoKCiQ8zbEL9I/JYTauZh5kXbv2U01a9akdu3akbeXN1XzrqafYF4UXCkgH18fOn/uPB0/fpzycvNo4MCBnqFqwUedjiuXr9Bvv/1Gvj6+1LJVKwoLD7X8YHJohRrLYXZWNh09cpQKiwqpXdt25Fu9Onn7eAATBQ/Rzc+nnafTp+MpPz+f+vbro//oAdBlND83n3bs3EmBgQHUvHlzCgwI9ChzN+18Gp0+dZouXbpEvfr00o86EFAGzsTlS5f1b5p24vgJrWWLVtp9996nHTl8VBOd0CNQcMVCyO5du7Uhg4doHdp35L89AUUFRfo3TcvJztWaNmmqDbt5mLZxw0aP4Z+kIzUlVbv7rjFal85dtAP7D3gOfTrWrVmndevazaPkk6Hz6eKFi1rzZs21O++4k/ui6flnU//jx45ro0aM0lq3bK1lXczSjzoOjtebNh6Bb3Vf/ZvwDC5epKNHj1B8fDwVFhaYX2vD4hJWpURaWjodE57B3n179COeg8KCIsrJyabjJ47TsWPHKCc7x3M8H4FLeZcoPy9fyOZp2rt3H125csVjrEopo+kZ6ZSQkEj79u3lY0bZNSuYBvBJ8DE7W3h2x45SXFycZ/DPpv45OTkUf+YMHTx8UNAnxk8Hw3XNJZjl5+fHXwsLi6hatWrXKA7TQbQewgsIJUAooeC8BF3VfapzSMUTIPwCy2dRIV2+fJn8aviRVqRZj5sdl69cpsKiIqrhX4P/RicDD728vPlv00P0MYS9APAP8PLyoisFVzwiRCtpAxCuBYSRaykeoOyMqF69unV88fER8ung8dP5ykBUGEySDAL8hVLw8fbhp0uGwfK8fOkyn4vvKOWBvK68kOfiuXgW1018L6lwgxuLPYjjBUIR1KhRg+N5GCjtDib2rjfe214RgNUqvxeDOIY6yvaSbYZjoCs3J4//BpiWCoDvJf5D+ADME0j6MD/iK4ptu3M9DSjvM6E48bzytreks6TfK4LqvtWFXFpu5OfvZ/FYdaANjc8w0luR9uT7lAXxHOM9JT+tRkV5aLV3juhj4Bfu5evry4MIBhVv0f9sacA519QV9yyh4HqcjzqC97gex0orRhR7Fu5ZEuQzbYD78TgCCDoxxyMBWo3KTj7bWAfUtzwA38tr3BWjUdzeSqP4bkt/ecB1FP/xfChzGC9WQ8wwepe3fqXB4RPIIBhMQBjhyOEjVM2rGhUUFPBk8en4eLrrzjupa7eu9NSTT1FMbAwPLvAS6tSpQ5ERkeTl7UXxp+N5cAWjvaEBSwG8jcj6kTz5d/78ef3oVVSrVlzfYXDDPdEhgoOC2SpMTk5iawkDuLd4PgDrF5ANLwcMMLdp86b8PIS74LqhCQsLCmnf7/to9j9mU0ZmBq1ZvYY7IeiG9eLj40Pt23fg+yQnJVvuJWhkD6kU4N7R0TGUl5drlz5bgF7QEBgYZJ3gPRl3kttStmlpQJ3BB0wy7kU4QTxfKgGE+YYNG0aNGzemCRMmUP/+/VlJSEXYoEEDvn/mhQvsSaA9pTIpCbiubkRdlpf0tHS2WI2wbR90cilPkBn8npqaynImLd/SgPMbNW7Ek40JCQkcOgGNkIe0tDR6/PHHeZLu/Q/eZzpBHwD6mzVvRrVr1aYzwlWHnOJ5tt3Htr7BwcEUEhLCxyEvtr9LFAk5lB4XJkALhDxF1KvH7YPnoY1xTlnwEfXFdahvQmICh74g7+Dnpk2b6eWXX6Js0dYbN2zgwbMAHoKoE57TskVLllVuT3EMsl5W/0O7RTWI4gHzguB7bu5VA8QeoIwQwgnwD2C+Y7BLSTnL/QeyJ2k0tqvsiwDko1FsIx5jdu/azVEGADKP/jF06FBq3bo1TZ8+nVq1asW/AaCvadOmFBQcxIkeaN/8/GvrastPf1HP8PAwql6jOiWcSeB2NcKWn2gPWd/6UVFsXKA9ATnWlQbIW8OYhtwfIJ9ZYpwBcB+MizNmzqSkxET6/ofvuQ1xv8CgQKavRcsWfG5l4fhsIvBGjKdg1Lhx47jDoMJ4DLJsTpw8waEGDBz+/v78Ozp2586d6bnnnxeDbBZN/dtUbjgM0GVVD/eZKRpogxDuL774wiocEraDETKZIFDNm7eg+fM/oCWLl9Bn//2MMjMziwkdBhf+1K+Xn0FBQfTdd9/Rzp07ac6cOcwwifPn0+jcuXOi416hTh06WVxxcR0UFjrW6jWr6WzyWXr66afp5KmTTH9h4VU31x7QPitWrKADBw7QrFmzuNMAsn6ArJtEkWiDPn37iA7xJHe0qVOn8nNgBWNQKQ1t27YT7TlD1NmfRo0ayZ1T8g+D8JGjR1gIMRBDANFZMKBERtanxx57TCi6JFq8ZAlliEEW1mdZygCKfOnSpfTzzz/TK6+8wgrHCFvaUA8MeHj2D6JD7P99P70kBrjExCTREa/OT5UEdFYoavDpkUcfoYMHD/Jx3A8DJviZJwaJ2JhYlpXLwuICDfAa3nzzTb7+3nvvZd7hGtv62RofLUUHfR5ynZ0tFOhE7tT2AJ5BEbDHJXgeIwyAJ6Y/we08ceJElq2AAMhL6QoBA9e0R6exBQn5zBL9CQoUAzCyUaD8ioRB0rpla5YFtCdoAdatW0f79u6jua/OFe2ZWCZtAOq0bu06ijsZxwOwHPhKAu4pB/xlS5eJwTmYJk+eRIcOHRJKMNBKnzS+AOMYAFrmzn2VwkJDaczYMSzXoA18Af8wp1VN/IuOjuZsIvQT9GsoCCj6kNAQuuuuu/h8AGOMEbbjTe3atdlwjYiMoBlPzaDksxZDTsK2jVAf0ADZmTJlCiv21197nTO50P+g8EoDjEaMZSdOnGA+YpxAn4ds5Obm8LwkxpcO7TsKb8DiJVhkN4/5Vz+qvn6nSkAQ73AguwbZJri9YIwmBnvNq5oXf8cnCn6T31GQ5bBv7+/a6lWrNTHYWK/DZ2mlbZu22oafN2hTJk2x3resgvt27tSZZ+Rfmv2yFhoSqvl4+2o1fGvwb8ZirCOKv58/Zy389MNPnLmAOshzcW/8jvvIZ+F3fFb3qa4lJiRqW7ds5euM9zfSY1twbfypeO0/n/6H7y3vW1ZBxs+hg4e0b5d/W+y4vWcYCzJptm/boZ2JP8N1lvXDJ9oIdcbfuBeOyb+RZbTw44Xac88+z+2J34XS53NKK2LQ1fJy8rRFCxdrdWrVueZ32U6yGGnAdcuXLteiIqP4b9SvrALeZKZncmYbZA7PwHHIHH5DnfFdtheOyXM2bdzM8gn6bOsli7HuKH169+HMFmTy4N5oU3tFXotP0NKsaTOmDdeG1Ayx0m17f9uCcz+a/5H28YKPtdrhtfk61B2/GeuHe8m/Jf2Qz6+/+lpr2KAhX4d64bzSCu5xKf+StnP7Ti0yoj7/XVbBvfEJ+RQKSmvfrr31XvK+OMdewTk/fP+jtn/ffm5P2dfQN0AH6oxP4zW4H/rc+rXruT3RLrIvyTrJgmuNBTSBD3t279EaxTa21k8W2Z6yoE64b2BAkPb+e+9rSxYt4efZO9deQf0xvqA9kfWFvyUN8h44hk8cl5/oO3En4vQRuHJwnGcgFblQtHAZYelAw4UJSwXAY2DFjZswjrp26UozZsygqPpRrLnhBcA6gRsHC3rT5k18fXlc/7p161KTJk3YRT18+Ih+tGTA8sLzoPE7dujIFiK0L7wWPI+zEEoBLIoRw0fwPWBF5ublsjaHNbBu3Vp64403KCU1hX779TfW2AXCmgZgVbVr25bbYd369aK+mXy8LOC6ESOGs9WzcePGMtsD9ZOWZWPRLsBm0Z5wi72FFVSWZwCLpm+fvhQgLJo9e/awFQcLH4CXMVJ4C/Xq1mP+DRgwgC1ehIZg8cAtR5sgVx/1tQ352EOosPDQnknJSbR//35KT8/QfykOe5biyBEjKSs7i61KWM4SxnNtAZ4MGTKEggKD6NTpU8KDyWDrDvVFmGjWrGc5G+yTxZ9Q8xbNmTZY2QEBAdSwYTSH637Z/Au3oxg89LuWjPBa4SQGOz5/165dlJuTq/9iwTWWpWhvWHlRUVEcpoJXuWXLFqbZ6LmWBH9hqbdp04blO+VsCuUIaxKATHz77bcsn5BZYazxvRFrlqGgdqKe4PGhQ4cpR/AVdbbnDRgBr+m20bcxXZDrgjL6D2QCbQo+9OrVi0LDQlmu4RFKLwywDc9KniP0OGjQjVSnbh06eOAgh8EA5l96Gt166638jsFTTz3F/RtyefFiFofqohs25H6LcC4iAbJPlAa0Tffu3fn7tm3brPWQsP0bQFvDY27SpDH/jnePUD+EgBBeLA3wVG6+eRiH05KTz/L4BMCj/H3f7/Tqa69yxpRQbCxbCFdDhlBPePUBgRYvr1IQlXU4jLnpRhw+dBgtp/Xr25+9AM7PN+TS4jqU/Nz8a34rF3C+KPI+9opQVHyOfDcA4GMVhOhEfB3uyRC3W7N6rdakURPW3NbjBuAYaIMlBeAeZRUJWV98llaM11wDne7SSjHgT1kEkIcP/glFo3315Vf83oGk03qt4RZcF+M9SipG2PtdFDxHFtt6yjpIuSmpGO/B9zUAPElKTNK6d+uhBQcGa3v37NV/sdBhpLVCMDxHyl6xYgt7xyoIPIdlTNxL0g4v6ov/fcG8g/cgn2OPpmuOybraKxUE6sKoxLWlQfIP1n2nDp3YC5DPQnsU6xcVeLaxLfBdtqcsOGYs9iDrAdieb1tk3eQYYYU4DplEJATeQEpyCss7XyMA+ozPqQxKV1OVRLGUNWmkiU85sw7rHIXf7kQNDIacII3T/KTGFo3An+UCLhEFzy+pyPceZDoono1j+I5SUkYE19FQT1gcuI5T28RxWHSYNIXlc7nAEsuT2TXyE88HbZiMAnCPsop8JuqLuqFdSiu4BudxWxvqy9/R3MKKsFfk9Vbo5wsZsf4tLVN4H4jHwgoBTWgf5qV+jQSssDJhOJ+Bv+0UIw/xLNAn5QnHQDPa1h5tsshz2RrHfQUkf2ElIt4ruitbzrCIRQfj++K7pJWBtoBM6N9LLeI58lyWPQNNsg62sPIPwD0ErM8rB2CBIj6N+6OtLMWbS15eHs8jyGdLmoyZYHxMfy7DWF/bUkGwnADiw5Ym22y0MmGoI1vHwmtAf4T17ePry8/CM9DunDghz69AvdEWkAMUfL/anpaCY8YCgH8SeD7Ok7A9H/U2FoDrLHjI7SNuhU+MK1ImhNpgDxDyLp+Jfl+s/1YC13d1GRAa+eoTxCfCMEKrMdEIPxgbTRJqnWDTr5PElgdygCitMPR7cwPL5wngWfYYjMLXiGKssy0wcII2H2/BSMEwmbsuPysFva4AD2h6PUosAqCBFYn+N0N8R2ezRxuK8XoJ0AqlZoTknzG/m68H9GdIWJcDKK0IQNiRBlta29qClaUevgKgiNFxbOmyLQzDc+VxTD5jAIWiw6CC9Gd0SLSlVCRG4Bp+8a4MQOYQNrDShg9jsQMr/yTEeXieMVW4TOg0SsiBBuFX0GXb1pBR7q8SNteXBnmdtX+VE7JOEjypa2yb4lW8FoY6InwEWRXc1BNPripU234vUYzeEgAZ4TCoKHJwLqt+clDGc21pvAY41VA4NKfLpLzW+inGT8Dfz5/DTkAxBWp5bKVxnZeXDmkBM0TDIR4NwjBIICOEO5neoGhs/MYWjd7QVqu0nOABooxiBOonj5XJNB1GLW8FmHjlCsfWIdDweqyWSFmlAihvHUtCuZSSXi+0PYQaPJJ8QAobgI6HmK89WJ+B+6CpJJ0lFQEIPixvu21bGgynW63uCgDPlYACQKqlzNzIQ2fT71es3fU645OVXRmAHKCteICQ11YEqINej1LjwbI97TyDrVo99g8lbvESLN6VEcX6awVg9HQrBJ0uCSM/rCiBJnsI0LOikO0GejEHAd7xQA4ZtrkP11vev4RiHZj1YuWHLPagH69wewgUu8bmOZAj0IP5Lh4n9WOOgvMWqrOFaFhM8mJyOCIikidTMXCWOcCV1OCOBphfiWfBwpKD2LnUc5SUlMT58gMHDeRjDkUl61gp4FkCUjzAJ0ykIgUUwohJypCwEP7NIyDozc3Lo8OYjE47T126dKFatWtZf7O2u94uDoMtPx3BY/0ebMnqwECG91uOHj3KA0n3Hj0qrnxdAdv2LW8VxXUIS27YuEGMLxHUonkLi2FS2fs5CtfJTyhyeHK4x4WMC7zcTWZmBg0ceKPD+ecaZaAzBI+CUBoHUCtsmSbhauY5CHZpNCOqujO5EDJ0Ar5ZXHyLZ8QWoURJclpZ2LYn7u+ENpYhMXl/0FcZy9XpuB55k9eWdI2T2taZAN8QOmLP18lwSdNgchWQncrqMhuLyQGmyeIxigAwkuEhJJUEDPzgG/iHgfIaRWBigA7jHJ5bKoLrBWjzMBkF3xCWxbgiIb9L48VRcGmYyNMHEwWTw1ZG7cmsow0X1ScU3ASuE0Ul9AruDlsZVTKr8AeCEncFBQUFBaUMFBQUFBRcOWegoKCgoOC2UJ6BgoKCgoJSBgoKCgoKShkoKCgoKAgoZaCgoKCgoJSBgoKCgoJSBgoKCgoKAkoZKCgoKCi4RhkYF1liFFk2ZbjmeCVRnvtgKVgs1OWoZ5YFLCLFz8JaNsaiUCbQbmg/uXGHXHff0QtzMYx8EZ9Wngk4in/WfQMqef11QTzTKvNGGqqiLi4Et7kn0Wjko5Pg/JfOJEOE2gGD1q9fz5tNtG3XlmrXqu2wVSHRUFW9wmR+bj7t2LmT0tPSqE/fPhQeFu4xq15KrPxpJa8b36JlCy5OA+RGyAwUgFwBFsq8shuwlAj9OQDk88jhI3Q6Pp5aCtoaN2ps+cGISphPkgYYJNhMH1syYj8Pl+wHYeh/FzMv8qb82Fekb7++V/dr8CCs+HEFb3vZVrRv/aj6+lHPAIyjI0ePUEJCInXl/TZqO3R1ZKcrA9kRMFhn52TTDf1v4N153pz3JvXo3sOhyuD3/b/TihUr9CMWgDx/f39q1aoVRUdHU0x0DPkF+DlceeB+8WfO0OTJk+iwGFAWLVpI/fv1r9Tg4c7o07sPXbx4kaY9Oo0eeughpyk75k+1aryWu1xu2agYHAWrHIhBMys7i2bNmkU//vAjzXp2Fj1w/wPXbr5UmcfrCifrYhZ17dqV6tSpQ6+88gr1Fm3paHpsYZTzQwcP0YQJE8RgkkCff/45de/RnY97Enr16MW7uc3+x2waOmyoftTk0OUHm2Y99thjbFC8/a9/0eDBgxxqHDlXEgWwFymArQSvXLlCZ1NSWBixubojFQHu9fvvv9PLL71crMyZM4eefvppGjtmLN166600/8P5PKjY7u17vcD9coSyg9V1+vQpHjA9TREAqampzL+c3BynKQJY0O+++y517daVnn/+ebZoAd4m1YmAfIJvJ0+dpLzcPIfTh/sfPXaUjh8/zt6VsxWBLUDb2bNn6YwwWnJzcvWjnoXEpEQ6fOgwpaWn8bjgScA2nhnpGRR3Mo5yRf9ztJfsdGmUe6/KvXShHCyfglHShb1OoNOC8efOneONorHRfVh4mCUUJVwpuP/oCOiETzwxnV56abbjOqJOA9MlFJykjelzBHB/m3bCYMkoq/0c1L5GFBYKRYpSpM+JOBjg1RVRsPXkzl07hZd1mN1+wHZwhlK/XhiNgsLCQsfzT8JQVbQf7g9a0YbGIgHayrNhe7lheD4sZ4SqnAY8SxTQg9CpI/hUXqAPQl7knuoOh05beWDdrF5eU5lmENdIWSwQ45oEZMjRcK1p4gJcLrhMMTGxNH/+fFq7Zi39vu93OiUs9TfeeIOaNm3K57z11lvsMpsG4JKB99Yt8ErhnnFgcWdgsDACISHshIeOXN2nOncECL4cOCXwnXfMMyEQJsX+3zL8BSVnVXQ6n2GsOHx+xJlAvTFwSR7prPEVdLKhZBJ5LBMliZxOvxG8B7OJ4JreZNNIzoa3sAy8xECBuQF0uoh6ETR27Fi65557yMfHmzIyM+i33367ZiByZ5w7f45WrVxFq1etFq5ipn70WuzYvpMneTF/4nDr1gkAj4DcnDzauGEjffftd/Ttt9/SgQMH2IJNS0vneaBVgu7vvvuO2+D0qXjL4OkA6ZVhTFfBS3jKmAcpKCikk3EnBV2raNHCRVzwHb8Bphw8BT8kX3bt2EU//PgDLV68iD755BNau24th2/M1OfsYe2adbRq9So6dfIUpZ5N5b72yeJP6OOFH9Py5cv5GHvuUjm4eOy7HrhGGQg4xWUrAYjNForOJgEBReZG06bNKCAgkI/BYzDFPrA6h1JTUnlyc8ZTM2jrli1sKdvDo48+Qo8//jitXLmSB1MzAAPfgQP76c0336SZM2bSk089SevWruNQ1Pbt22jm00/TtGmP0rTHHqNHHnmEfhSDjENDKC4EFDRiv/v27aWnnnyKpv5tKk8KouD7nDlzmbdWT8Es0OUU8zvvvfseTZ4yhSZPmiz49ShNmjiJxo0bx5+bf9lsaoUwfvx4ekr0QUQe5sydQ48KufzbI3+jqVOn8ufzL7zAcX1uD5eNro6B86qra0VnT/rZomZQTVY8wcHB/LdRCeXn5wmtfZmtMygCxBVNAdGO9SLqUf3I+rRn7x5asGABDyjyN4lvl31Lv/72q/B8MqlBgwamoA+KAANfeHg4NYptREhXbdu2HYWGhZIm/iETDGmYCPEh3bNz5y4cBkQIxYzWs7fgyYULmZzYAMs5JiaGevbsSb4+vhQXF0dzxfFff/1VP1tA70fW4q4QdQM/Ppj/AT3/3PO0Z/du9nIG3XgjDb5pMCcebNi0gaYIJbFx00brNWbDyVNx7LUiwWHJ4iUU4B9AI0eMpHr16tGZhDP06aefsocHuHKuxBFwie5yZbgiNy+PnyfdbQBWJNKyNm/aLAbRyzxItmnTxjyaW9SzVngtGjp0KAUFBrHLjQlxOZEsvQQoCcTZW7duRT169OBj7g6prJs0bUIvCKvqm6Xf0H//+xndeeedfHzwoMGcBvnjTz9yQcou2gEwnfUsUFAovFbdY/viiy+EB7eKflrxkxhE51Pjxo05/RqDjGkUnWG8Q5bLl19+SekZ6RQdE83hveXfLWelt/SbpRQZUZ/iT8fzOQlnEszT/2wAHmKiGh74zz//TJ9+9il9/9331K9vfzY4Fy1exO1itjmtKq2tM5QE5gSAvXv30ZbfttDWbVtpw4YNNGPGDPpMDDKXrlhemEKOtxk6nLQukPXSXQzw6GSZwvLHgMkTyToHDx44yIKJ8wYOvJEaN2lsus5Ws2ZN/qzuW50nWQFkhxnDXfAIOBPMhFYlAK8UuPfee/k9FAwewE3Cem7VshV5eXnT4SOHmY/WrDE3huzD+Ny5YycdO3aMja0Xnn/BYnDpfELO//333cfnYb7uTPyZEkOd7gy/GpY5roE3DuQ5yJqhFpmNbRTLef++vr60f/9+S98zWf9zSXWNoRpnAxobKaT//OfLdP/999Ntt43m8smST3geoXOnzvTcs89R8xbNTGFZFuoeDgbA2NgYflHPz8+PFgvrUcZevcUAsnTpMqrmVY2iourzwMJKxGQDJnLvAaQG5gkPr4ZvDQoIDChmNFjjzSbraBJFWhHT1blzZ/IP8KfAIMscVmBAIL+MhrAqUqTRFsZ5L3eF9MBz83LpxIkTlHkhk0N8I0aOtMzJGfh095i7OdsvMTGRQ5nOMAadDfClmvjXvHlzqh8VpR+18C+qfhR77pkZmaac03Jel8KdRTHmcQN47wDKwfa4owDh9Pe/OoAEBwexhXL77bfTs889y7G+wTfdZJqB0pheWLtObV5GIDQ0jA4dtHgCwNmUs7R61Sq6cPECtW/Xnlq3bm2xnsED0Gks7gaDBMrMIsiHt7fFw7OFPMes8PH2ZQ8IAz/mCSRgmEA5YLCEIqwuvD4ofXeHnJfCZD/e4AYwzyO9PCNCQkI5jJmVlcUvTbnSSHQUkKUIrzUw0KLEGaJfYbwpFG1QLGnDHftbKTB0RefCnhXgDIUAZkRGRvCgv3btWtqwYSN9883XNO+teTRz5kzq0bMHhYWHupByx2LgwIHUSLik3j7etHDRQvYAtm/bzvFaYMzYsRQkFKDZJq8UzAnpXSODT3p2CJXYe6nTXyg3eH1QHIApsvnKAYxtUGyuTpZxNEw6JJYMWF7Q3EFBQRQREUERkfXYfYNVzTF2IYdmiMWWBMQm+/btxwKIuZD9+3/nxf9SzqZQwwYN6c9/Hs3n8RvfJsy2AeRb6wruDyljUACY6wEsqd3XGiNYwgTvV8Ajkud6EuSb8maFy2pvzyV0hiblbI3CIlYI1pirTiXH8cR3WZec7Bz+NBuG3Xwzxybhbr/33vu0e/du9hQwRwKFB2UHi82YUaVgLphFIUrvHiGtID2dG+seIQzEMOgEvECI/om3kv38zRvusx3LuA0M4wpgb7xzdzhP4iAEotgO+HJtIme5VDJbgxfC8zJYx6IuMv4u45xy8s5sQFZR+w7tedJu6dJvaNv2bfym9R13WNIx5XIV1mwjYzEBiooKOaYOhY6XAzmjSLc0jRkoZgyFQf5ZLvUBxBaYXIbVLPuJu0OGg5AF1a1bV2pQvwEvEoc0Z+DyFctEanZWNr366lz+3qNHd16+3oyQShrKz0o7xjJdFMEzzB3g0wz8M8Ilw4MrGwXZGjIDB5M91owhI6Uuodo5wAAYEOhP48dPIH8/fzp//jwv7Haz8BaaN2umn2VuIIyAnPvAoCDODMOqs8uWLeWlALZs2cqv/AP24tLuDjnBWNILgUh9xgBqtlAZ+hwybFq2asX9fd68eTTvzXn8gtae3Xt4BeHly5Zzama/vv04ycGMqaXW7L4S+AfDBd4PPAOzeQeukzgXPQnZCrAoEb/zxNizHABHj76NB0woP1jSf/rTbaZbGKtECBJbtmhJffv04ewavISFZQAeeuhBuueesbxGkVlDfEhLxMJ7WFnXGEKRgGfgY8gyMgvgdWM+C/t5YN+Q0/Gnafbsl2jYsGH8hu5bb7/F/bJ379503/338XczTiBjgIeyM64gKoHf2GMQXpIZ4ZLR0pUaEqEfpLaVZHk5C1A8zkqXZdgMHOh82CgIllaXLl145yN7g4tZ0aRJE84Ae/utf1GHjh2oVq1aHIvGMhyYC0FYzIxA+AvLq2MwtNf7QkJDKEjIMN5edao8OQmj/zya3zzGJkgIdWHeDt4Q0qGHjxjO4SO8EAmP3YwJDuBfaGiohX92EBIC/gVx2EyGilwZGbkeOE8Z4M6iyMkVDFTGRnG0oEO4pj02jV+FRwwdFoiz5iWKQW9B+SzMVQCOVIDWddENSDufxmu8IDsDa9tgCzwnctPlAD+xbeHfHpnK/Dx2/BidSztHScmJNHHSROu8iCmg94XwWuGUkprCG9zcMOAGy28GvPPvd/j3fb/v4/PZC9SvtRYToGWrlrRp4yZKSUnhBRPxPe7ECfrv//5LsTGxVqPFGsI1EfBOT/LZZHrs8cf0IzodgjcPPPgAL5ePF+/AOxzHOOBKY/h6YBLxqhxcyQRnPssY/sGcASbjsCzwwYMH+Y3jG264gcKEteJJnoGCyWAjexgIMfeDN62xyKB8gc5qKStZdTtUqTJwqhtcBZaU09bGF7dFB9q9azf9W1iP2H8Yq17Kzta9W/cqoVdBoRgg/sYuIGVSFvGb1VJWsup2UCxxMJyi4ASXMOG4bds2XikRXgHcVcTV8VZ1w5iG+okKClULtvyNcwFCAVhTgKVSUKOOW8LpbOFlXCEL4gMby2ByBcslIMZuxtTAa6DLOdIBsV5JYGAABQcFO3xdGXgBDRtG04ABA2jEyBE0d85c+v6H76l7D+EVuBABAZZ1Z0qaQDMbOPPDKp8BvK4VrxskJ6ghosZiVoi6Y48PyCb2/HD48sp6+3Cc3DgXII65sp8jgQSTuMgmRL4/89ZYXA29XaylohDXyBA0Jq6RgYVxFC+ZOhrVhCZ3YqxGQDJAEIU3Y//zn/9wBxw0eBBv1lKpBnIngD5BA3KmL1y4wEtEYNXJm28eRjHR0Q6lD89A20E4IOhVoUw/XfIp7xnRvXs36tipo37UxBD8QxdAm8L72rhxEx0+dIj69e/HL/aZHrp8AmeTU3hxQ+yFMWLEcIpqcHXVTafB8Pxi352EhR8v5EwzrO4bExvDRlQxuL7LXD/QbgIwOFevXk3nz6fxctlYZseR9DhfGQA6MVxx8R0LWnlMTrwUcAONGLQ5tdWRgiefYwDc8WJWmCsg6lFVishZ4HY0xrEFjUhf9ZSF1KzQZQhhG3jmLpUdO/LrLIA+q3ziuUaYVWz19oOswmgxrmbsKLheGXgqDMxCJ3NGh0OKKawevucfoU1dBdGW0juwtqc85mpl6yzYyKfLoD/XZdD7BXgHhe4RngGg0wWa+J2mokKHp1e7RhkoKCgouAL6oFkizKYMDMpNQiapONo7N6ueVFBQUFBwIJQyUFBQUDAREH5GQcjPkVDKQEFBQUFBzRkoKCgouD1KmgtxoDmvPAMFBQUFBaUMFBQUFBSUMrh+lJXKpqDgDlBy6nFwdITfucrAKIDiO89+45ixmBmgSTDEuhAXIL6acTu/8uLyJcuetqCR6TY7D+0BfHVwpkaVwsAjSZdH0WeETiv3QTPIJupoLPZgPI4RWxRedwko6ZpKQE0gXyeKvfqu4BHAQIJuYaoNdEqC7UDi4TBdf7QdzO1V3YaHUOR4i5yXvXHgkinOVwYgBAT+UYSyPMw1OVgI5baiZqdPyucfBBhIsA2lx627JCH4aaq1s8ozXkgZleeK71IhOBLeLwro350DqBpRZ2wHmXnhAr366lyKPx3Pe9rWDKlpOcdDkHAmgRYuWsgrQ/bt39dKuyfhmaefoUOHDlFoWCgvZe2MpXRdChseffD+B/TjDz/yXhGeJp9HjxyjBQs+oi1btvAexZ4mm8Df//53OnbsOEVGRlJwzWD9qBvD1hS3xxN5TJz71ttv8SZXnTp34mW6HQp4Bk5FoeWj4Eqhtmf3HpCuDbhhgHbsyDHLDx6C9LQMbfWq1Vqj2Maat5e3VlRQxMX0AP/0ci71HPOvRfMW2soVK/lns8PKI0GfUOZaz+49mX979+y1HPcgfPG/L7Q6tepoXtW8rvLVQ3Ap/5KWlJjEtLVv117b8tsW/Rc3huSBkRfG7zbYvm2H1qF9R6bx4oWL2uVLl/VfHAPn+1L6E/D69B8NclMKBQV3g+j7li+2YQoF1wFjo7EAxu8uRhU91rNh7WgKbg+n7sOtoGAiOF4ZKEtDeQQKCgqVhxhDkcKdm5OnH3ANnJZNlJyUTJ9++ilnnmBnHn9/f0pKTKJ3332XYhvF0vBhw6l2nTpUWFjA++nWrVuXholjvr4+tHr1Gt4NDRs4YDOX0lDdtzoNGDiAjhw5SkePHuG/SwMmPLF1JCZAhwwdQsePHqc9e/dQUWERZ1mUBWTR3H777RR3Mo5WrlhJ6RnpfLywsJASEhLo+++/p5SUFJo9+yXy9vaiK1dAe4DwFopo4oSJvHXdL5t/YfrK8zy03/ARwyktLZ22btlydW/eElAgnof2jo2JpW7du1FGegb98uuvfBxZFtXLSJcMEHXt0bMn8+Hjjz8WPCiiggJLPTMzM+i111+jwIAgGjVqJHXs2JHp8/Pzp6CgQLrxxkGUm5tDhw8f4fOvXL5c5gQzeD9yxEg6dfoU7dy5k/lQGiCusOZRvzFjxwj6MmnTxo3cntiOE8dLA64fc/cYysrKoi+//JISEhPIx8eX2wXblS5ZsoTbbOrfpvJ+wag/lDtkZszYsVzfnTt3UE52Drezt8yqKgHYT7lnzx7cjpANW9jrfoWivTE5Dz6gXqtWreZ+gmdBjkoD5BN8R/3WrlvLn5AZtM+e3btpzdo1vD3rP//5T3FPy73AM2wCM/3J6YLHmbRzx07Kzsnm35D4YYRtfZGVdPddd/M9161fT/n5pQ9gqF9+fj5fhzEgJCyEfvj+B8GPbKatrOEIdIwcOVK0hTe9/dbbzJ8roo8AkM9/vfMvqh1em/7yl79QvYh6zC/IaK3wWvSn2/7Ef6P/YevP8kzA4vz+/ftTjeo1aOXKlfz80lDNy2II4pm4DrTu2rmLckQb417WLDwdqD9oR//Bvuno73fcdQedOH6Ct7hEPTEG5uTk0mnRR5YtXUZZ2Vk07dFpFBEZwb8HBgTyuDJ+/HiqVbuWfucSYCs+xiYQje8UbNq4WavhW0OrJvQNJuTwiceh4LsYdKx/o3Tr2k377dfftJ9++Emr7lOdj2GixHiOvdKgfgPt++++16Y+PFXz8fa1e46xyHt379ZDy0zP1F6a/bImhIfriuvLKuFhtbQLGRe4ns2aNrPeE8VII87FPUEn6MDvyUlnuV2aN2vOf6Ndyiq4FybeFy1czN/tnWMs8vmDB92k7d+3X1u+dLn1OOqBOpZW2rRuo23dslUTwqj51fCzHvf387feA99Rf3zKe2PifMmiJdpzzz7PbYTf0AbGutkrmNBMO5+mvf/e+5pQMsXqYq/gWbgOn+AfJrKbNGrCdUVbo81LK8GBwVpqSqp2Jv6M1qlDJ74Pii3/5DHcF99xbzwLfA+pGcK0oS3KKl27dGU+QLZxL9zTWKRcyYJjeF50w2jtu2+/44nQ0JBQPobfbdvDtoSFhmkfL/iYC77jmPG+qBM+UeQxWeJPxWtfffmVFhUZxdehvrb0GJ8lz8nLydO2bd3GdTbSYq9I3uFekGv0CckH+XtpBc9ct2adJgZY5qc8Dtkx0mIseBYmXjdu2Kj9uvlXrjOKvN5In22JiY7Rln2zjOmDnMnnlVTkMyFnr/zzFe3Vua9p9erWsx63PR88ksdlm2IiHAkM6FM1g2pazzEW2Z7y2siI+tyWZcI4YW0zUe20ZGNsBj9u/Di29KARoVFhjX319VcUERFBffv0ZesHv0FDY3P8hg0bUu1atenWW29lDevl5cUWWWkICQmhZs2aU2pqKo0efRtfUxZgpUWL+uHZHTq05835YY2VZXUD/kJ7BwcHU3RMNN1zzz2cJuvj68sWacrZFFq1ehXl5ebRuHHj2BqoXbs2WwewMqH9I4U2HzVqFJ0/f561uq2lYA/wmmJjY+jWW24t1fORVgks2Q7tO1BYeBg1825Go28bzbTCki0LMcKjCA8LZ948+MCD1pg66Ab/FixcwHWGF1erVjhbLbBYw8Wz2rZrS0GibYYOHcpWHnhXVsgMz8HzRKejMWPuFq5xrv6LfVwW3gY/U1hUsCrr1atHg2+6ibJF3fCbbIOSAOsrICCALT1Y+gMGDGD+SOt52bKl7BnAsoRsWTwDi0w1a9aMeTZo0GAKDAxga60sT6Rp06bshaL9Ide2no/og/o3C9AXcC4sWaS3wrP48+g/s9cD76AszylA1AvPBJ333nsf1w/tcvnyFToZF0fbd2xnKx5eKjxTWJWS/nDBz8aNG9Mtt9zCdOJ3SbuErWeC3/0C/DhVHHItFK3+i32AP5AX0NigQQPRX72pn7CgQSu8Bdv2sAV+R39Am06ZMoXrDoBeeDMLFiygqKgo6tq1K3/C48E1sJjRLqD9NtEf4CmXp0+EhoZRlKhnVFR9unnYzew9lgY8D/UICgyiTh078TNuvvlmSxuL32DBG4Fj2MoS3g0iIZERkRRZP5JlcdKkiXQ2+SzLRGZGJnv2kE+ci7EHgOcIHoAvAf7+fKyycHiYSGgbfhniihA+CBSYjQrjMXv27BWM78uKAG5qly5dOcsIQocBGnnBcJMQZsEggkGnLFcO90Wnzc7O5gYsS3kAuCcEMiw81FpPXIu6lgV0LnRUwNJhEEZBqMSP1q1dx642wkUoqBuYjY6GkAkGL8QC8/Py6dLlS+yCy8G2JPcf9IA+3CtFKLyywjygAwKI6wKF8vEVigodwOjulzZpitBWnbp1+DtCMBj04PICCCE0btSY3e958+bxoA8lCmWIzoWBCIMO6oA2sVUE9hQD+I7nge+4f1mDHXgHhY+wHAwHAO+vAOUZLDG4QwHJ0AL4wp+ivklJSTR58mTaunUrrVm9hjp1suRyYzCFbEBesA81DA/cBzxHPUoDQlDBwUE80J1LvXYgsQ3DSN6g3SE7eD4MB4mylKuR7zBKLMrM0pcQFnvk0UdYHmRYJg+hNfEc9EEoZfAOBYMXrpXtJGErp1DMrDTFc9PS08rFP5yDZzSMacjjhXGALU02AR9Rp9DQUKYHdQTfjPLZvHlz5tvcOXOpo/j0FrKCZ6Ke2ERe8k8eKwswGvz8/fha9AfIWGkAbahTgFCykBeEZZKSk5gHaGvInhEY5OsLpYWxBP0WnzGx0TxOwPADryA7uPbkyZP04IMP8ufJuJPFlCdowfVlbpRvyx5XhImugXBJ4PrA9RoyeIh28MBB/Qdzg3N9dXcLYYTYmFhwh/8WiobfrzAW+f6BGQrTJYr8G+8ZgH+gEeESPsfs0GlEnrroYFrvXr3ZVUdox/i704ozYXP/L7/4UouoF8FhBUDytbLF6fUvD/R2zM/N5/AK+h5Czvyegf5bsWJSYCxBmAthXPRBhKoxnjgSZcdUHAiLO2OxhvHpCeD1a0Qrpp1PY28DFq4YTFgDw3rBa/HGAq/JLIWtBlGM1qgYBphG8LAsK9UU0GmEdQzrCp9AeUJqbg9BF3gFYM0eWJ2wMCXs8bwihduuqqHzD+EnjC8+3gjZWnjpFvW7TshFMOF5wROF9Q/UDMXb/44l0HnNBRpkAcSTEIJAZ4OrZ4XxvIoWNwJcbMTV4VoLVecRgmgPossxjbwHqwcodNuVVxHTBf/Q8UwPQRdCCQDCJZi3QvjCGh6R/aiyxY3A84tifEEYB2EjhGIRAjYt9DYG34RHw4eQ6YcMMPAPxidCSY6E89YmgtEoCirvpU/qIfaZlpZGPXv2pH79+vFEnjyvUsUNID0BWEqZmRcQIOLJ0NF/Hi2+i/9FwoJGZcFPFDepd4Wgj/mwKhGXbdOmDd005Cbr3IKZwbKJ/+ITcezc3FyeeMSkH69NpNPuNDhTHvR7Q0a9hBV58cJFVuCtWrWkUSNGWax7nFPZ4kaAXYI5hOTkZOrSpQvdOOhGTqC4hn9uVu8SYWjnIjGGgAyekykq4qSU0aNHk3/A9U0Y28Lpq5bykrJCuwF4FCaq8MnuuCdZz0KLG5uSQyj26HMzi6qiQKYEJlPh3cEak5anx6As/phYZmFhInMF/OM+6UH9D7ShzyEHH2MLvFeEaVnhmRn6uIKwrD04MlTkuiWsJXTiTM8kWxgHETN3sjIGQykuJSo7T4BsA0+jz1NktBRYY+wOjqdXKXS+2RuqHTmOOl8ZKCgoKDgLGCg91ShxMcyvDIzWTmWgBKniEG2O9yuQc+5xYSIF0wMhI4RVkOTgcREICTnuOXD8Up6BgoKC+aE8hOuGaj4FBQXzQ41k1w3XegbGkI5inoI7wjbsqOTUvaE8AodBhYkUFBQU3BUuVHZKGSgoKCh4Girh4SoHS0FBQcFdYTuoOxFKGSgoKCi4M1ykEJQyUFBQUFBQcwYKCgoKbgujV2Brupf2WyWgPAMFBQUFN0WJtroTQkdKGSgolAV0PBfFbRUUqgpKGSgolAFYZyqaqlBVcJXsOX3OABtrYDEzbESNrQSxYXRwcDBvMl7D37KFG5/jbWfBM3dUVbqFiGYzLoKFXZVAm1zAjbfeK2tzapMA/EHBtonYj6JWrVrMP+wGxnwTfJJ8dnsI/kmRx2JmeXm5vHMUdsfC5j2gsU6dOry9IDa7Ca4ZzOeaGbyniI9lxyzIbHZWNi9BDp7JDdpNsyQ5+p9eT9QfG9pABjG2YB8D23X/sfug7KemkdESkJ+bz/tRpKSk8MZg4F1gUKCVv8a9YxgV5KdTlQGED4PGocOHaMGCBbRr1y46ePAg1QqvRd26d6O//OUvdOutf2JCzMIouSKisXNlXcyiQ4cO0S+//EKrV6/mQaVFi5b073//2zzrqhuVnD4wnE1OoZ9++pGWL19OBw4coPjT8XS54DKFh9Wizp0705gxd9OoUaOodq3a1yhHdwd4F3/mDH3wwfu0a+cu2rN3D+/EB2WH/WY7duxId9xxh5DPW6lp02bMRyh83vPaxLiYeZEmTZ5Mp0+f4r+fe/Y5GnzTYKtSNxPOpZ6jiRMn0hnBx8KCQgoSRiaUuxEtmregTz/7tJgSMRvAszVr19CXX35J69evp7S0dB70w4VRNnr0bTR50mRq3bq1frYF3IeBitAMZeBIFBWIoVL/zMvJ01atXKX16tlLq+FbQ/Or4ae1btlai6gXwd8bNmiofbL4E010zKvF3aHXE/QJTa2t+HGFNv2J6VrnTp01r2peUKxc8LepYNP+oO/z/36uBfgHaP5+/lpwYLDWtElTTXQuLSw0TAsMCOLfQPvlS5fNwTtAr6cY2LV1a9ZpMdExTEtUZJTWrGkzrUP7jiyXPt6+zMcH7n9QO3H8hOUiM8LA10v5l7R/vvRPrZqwAav7VOc+if5XcMUszCuOhDMJWnTDaB5LQAvkEnJqLBh7jG3g1rBTx5TkFG3unLk8ZkIeIZdNGjXh0qB+A5bV/372P/1sAUmrsRhRym8O9wyMLim2SHz44Yfpm2+W8trir772Kltcp0+dptdef42tzQYNGtDnn39OHTt0tLh6JrG8QOeJEyfo3nvvpX379lL+pXwSzOEww8Xsi9SlcxfasX2H6awR8I0tfGFJvfX2W/TKK6/wfsCDBw2mhtENKTAwiE7GxdH7wqLeuHET+Qpv7p133qGH/vrQ1WvdGYYwEbyBTz/9lKKjo6lD+w4UEhrCx7FP9+JFi+mrr7/iUNjMmTPpscceM2fYT7eIIa/btm4VfPorHT5yiH8SAyh7rw899JCpvDoAspZ8NpkGDhxIx44do3/84x/sBfj5++lnWAD+Yb9u6fm6dX+047189p/PeAzNzcmljp06sRxGN2zIv2VkZtD2bduFZ3cT9e3Thy5fuUzVfYWMGu9he0/ZDkbI36EMHAlYyyjAhp83aKEhoWx5vfH6G2yBoGSmZ2oTxk9gixO/vTT7ZT4f1pqZsHP7Ti02JpatyhdfeFHbumWrNnjQTazBhTK4ViubDLC8jh87rqWmpFo9PvAPnsC3y79l2mFh3jLyFutvZkPWxSwtOyubvVjILXs5AjgGrwFW9N13jdESExL5uOmgswT1v+/e+7i/TZwwyeoZfDT/Iytv3RKliFT8qXgtPKyW5u3lra1etdo6foCHkpcYa0wB0CkKeCH7UXLSWW34sOE8nsATOBN/ho/nZOey3KanZbC3B1rlNcxL/V4M46co+L3YOfJ3AYfrSUwKoyC+unPnTrpw4QJVF9Y+rEsZP9/3+z7WaFeuFFBubg6tXrWKMtIzOVbrtrCjUSPrR9L0J6bT7j276YXnX6AmTZrov1y1Ps2MqPpR1LhRY6pTu47VcgQPEV8GrbGxsezNgZ92LQ4TIDAgkAL8A3i+CpuoYxJSHhfKjjTxLykxkScqzYrcnDxavXoNz/20adOGHnnkbzz34wkyGh4eRkVFRcID8LfOOSK6gDEIchoSJrw9M8gmhkZR0M/kOLl1yxbau2cvCYOEZj07iyIj6/NxzBdATjE5Dm8VtMprrHMFgJFueX/xO4ol0aU4/y13cCT0CuTl5tG2bdu4M3Xr2o0zNDBJjDDKJ598Qnv37eUQQ1BgEGVlZ3HIxS1dVXuCpB+DMpgyZQrVqVuHW9LLnZVZJcE8KUVKwN+IehH8nTMZzNDxDAB9KBhIeDABrYIGTEqeOn1KDCi+VD8qigKEcjAlBD1nzsTT/PkfUHBQMIe88Ck8A/0EcwMZXxjcjh49IgbPrbR50y909MgxSj2bapFdyGMp8uuuEF4NhzETkxN5jESixoULmXTwwEEOr0M+ESZCliZCgBUF+moxxSHgnGYSdYPmyUjP4LgkrEh/f39WBj/++AN999131LRpUxoyZAhl5WRRTk4Oewj43V3BWlS2uaHV0KCoN5jiIyxLT4NwI7lI4DvS26C8T506xd7coMGDrraJCTuecLPpzOkzdPjQYdq2dRt9/8P3bIklJCRQUFAg9ejRnS1Qs2LJkiW0RViZ4FPfvn34GDwDFE8A+ua8efPogQcepMmTJ9GkSRPpxRdfpKXfLDOlPAI5Obk8dwW079Ce9u7dR+PHT+A5ygcefICmTp1KT05/kk7EnaCUlLNXFYItvfb+ti06DF8dBzAHLgwmkBFGgMVVrZoXpWek04fzP+TUSxCG9EQvcRxAyMgtw0Sonmjnayxkg2IAvchLR666xwD0Cdry8vMttOsoErQitW3RosWUmprKoRTw0szwC/Cjf8z+B915553017/+lVP1li1dRo0bN6ann36axowZY9p3RtasXkPvvfceh4ceuP8BTgOGMgfg9SA0Bp5a5dndYOxzEoa6whiDoQnjJD09jdOf9+zZw2mYjz02jV5+6Z98How1t6XRCL2OCK0j/IXxEbQ9/PAUwcvVlJqSyv1uw8YN9IMwrP9y+1/o119/5QSda2Cv7UpBBU8vBSBCFBmHys3LpXPnzvELPbVrCwEUAyUyF2ChDBs2TLg9IzmTCKEVvASD8JFx0HErlNRKOs0eCZ1mo7cDD6ioqJA++uhD9vAADKIxsdH83azA/FZcXBydPn2a9h/Yz1kq8FgxT4DwZmhoqH6mgLvyXK+X0Ys7f+48Pf7440wH3pno268vKwLk5AMYQGCAcbxZ/Hdnz7wYdNnEC1dDhw6lDz/8kHbs2MHZexgkQXNoWCidTT5L8958kzb8vIHj6lIJujV02rLEmJiZkcnjI14yw9zri39/kTZt3sRj6Pvvf8AvnR0/fpzfbYLMXrdsisHbMTDMTmNmO+18mta8WXNIpjZ54mSe7UceMGbFkZsPvPP2O5w3i2ycb75eysdMAwO9nIEiPkGzzCbi9wzwuwcBWQh49wB53chGeXjKw9qFjAv6rzpMSDOyMeJOxHF22Ndffc3vTuCdCmSpIBsOcsrZGqBNFneDXi+ZLQKannj8Cc7Ya9milXb40GHLeQLISkGWFPreooWL3ZOeckDSafsd9Lz773e1mkE1uS/eeced1uNmoRWZRGPvHsv1R0FfMwLZRLP/MZszwvC+wa+bf7X8oNOH9qgodD3kAOBOsgggQwNWFQA3Z9asZ1m73XLLLdSrVy8+nin+hqUZFBzEWk4QwsdNA8e1ntsDbvaqVavowYce5GU3Rv95NE2fPl1YZ0FWixIWttmAusN7jYqKos5dOzNdeB/m22+/pWbNmgsZzeT3DY4dO8p53EYZdyvo9YJ3jbL5l19oxYoVlJefR/fdey8vAYN5kZNxJ3kuBBP/8PoyMzPorLA88ZarW3o8pQB0gncSPr6+FlkU7XDbbaMpOiaaggODaffu3fy2Mo6LMU8/2z0hx8BgMSbCuwGE8UUPPfiQJdQlgHPgMQwePJj/TkhKoIzMTP4uYTs5XB44RazhdmKuAGEguKGY/cZSFF26dKGJkyZSzVDLwI+Xl4Qdw2lhISEh7hsmsgfZcuiAouExYV6am43fkCFgRqDeGBzHTxjP4T+86DNjxgyKbRTLyhzABBanZTpFohwH7mxi0DMqLh5UDHMC4FXLFi3pb1OnctbN8WPH+UVJs8wbgF9HDh/m+DnmBVavWc3zIePHj6dpj07jF7QAKHW8XDdu3DgO4bo776yQSkt8yjED8x7CHraml8IQxfiDOS/M5yUnJ/NxdwfP3whg3MT6Q/jkF1oFLQh1ARhbMacAGr28vUh4r5SRkc4ynZObw+dgPKoonMZ+vPkHArBgG9KjAgMDSLg11FxYWwCYxPnpAohdhula0IyAAHL+vS6I9oDfzDgJiYFx3dp1/CZyYmIi9e3Tl+bMncNvjAPI6Zb0m2Ew4cFD1FO+6S55ho4krTIcw3mwLNE5+a1yUcxiOUPO8Cauf4A/W/9bt26l3377zTrpCI8BwDpMWCts3bq1nMYo6Xd7QM4MCgEFYwiSVCQwR+nt7cPp6xiDOP3ZBPyDQgMwfoaFhjFNmETGfIc0NmF8IgkH677BQ4D3ikl0yDQiMgDuIw2f8tLttO6LivXr28+SByz+ISXqxkE3sgDCioTbjcmPwIAgzipq0vTqC1tmA5gEmiSzjJC/mUEQ7WHf3n305FNP8mDRqVMnTlNEZop0t0GbaQYRAdu6Gr01aWXmZFusKwyg8HzgrqNUxtqqKmCBPXhzP//8M23auIlfXsL3zZs309dff8PnoC9Of3I6H4eyl/S7PcAGjFyigCeSLxyR0D2+bdu38cuCyFJEGnut2rWdONo5DrxgICDq2r1HD6pfP5IH/LVr1rKXgPEEHp2Xlxft3LFTeALZrDSQpIO+KHloVIzlhVObp1HjRtStW3fWZEj3wnsHGETw8sS/3v4Xr7cBICPArIMlhA/ZGvn5eezt2AI0YiVFKEV7ysLdgRACMmywCuu8eW/xirOXBc2gB9kqiDlnZWWZhjbphkMJLF+6nN95QTwZgwZisnhbF/xc8eMKev2111lesXYRirTa3BlseAjUql2LenTvQT169uC5kDbt2vD3Th07UYcO7Tl8hFg0wmF4KbRxk8Z8nSmgj1qfLvlUKLk9nGcvB0GMMYcOHqKvvvqavZ6CwisUG9tIyKdJ5rMMI3LLli1Y7kDDB/M/oCNHj/AgfzHrIp09e5Y+Xvixfl5LaiRoZO9cB75zm1RghHfqEtboWEhDfPnllyldMKl//37Us2dPOnz4CFtd6WlpPKH8wfz5FBYeylYbT3w4VUU5Fhg03n33XX6LGoNiUlIyCyfmQLBwFibGYYG99tprltCKCWjDwI5QCZbaeP2N1zlujpBJ3bp1rcs1SHCISFgsi4XHEFGvnjl4J8ZLvAPz/HPPc6wcRku7tu0oIjKC3/b8ff9+XgoA/AT/kD573333F1sb38xITEjkQQZW6EcffUT33HOPKenq07sPHTt6jJo2a0rt23cQFnIop1hiGRxMkmMVhNtvv53ee/89674UPMaYiNb33n2PnnnmGTZQMH4MHzGcQ0QbN27kVFosY/3srFm82CDelwHQf2GwIUQGHpd7TIUycCaQxvbCcy/wUrN4nCx169TVbh99O6f0IW1PWNhXU79MlAL273/9m9MPkaYHuozLWMuC37f8tkW/ws2htzv48dijjzFdSEMEHWLQv4Y20FunVh1Oq8WiWe4OuaAXFvt6/dXXWS5DaoZwCiboA634ROos0oNFZ+SF+uR1noCkxCSmF+Wz/3xmmr5mCyy8B9mDjGIBPimP+EQKOxbD3LtnL58rZbMyKZdVCSxhjdTmNq3bFBtbwDssa/3q3NeKpQ0DMs0WfZjpLSd/nb7TGYBF6A4fOsRuG+YJYmJjOI6HGHR4WLh9TS09cje3NGFlIVMKFjNm8pHqhngegKaFZsZED174Ca8VzsdNAdH+cSfjmGegrZpXNSooKLT/pqMAljpAbNPoqrojRMdgecNnYlKi8OSS2IrEC2d4/R9WFOKvyNRo27Ytb2yDbBTQhRCMu9NXFmQ4D28mQy47d+lMDaIamMoblzh+9DgdPnKYU9fxVnza+fNUL6Ie1Y+sz/Nabdu1ZU9PAiFCnmjGeGOS8QVAKBph9v3CY42PjyetSOMxFKEhLFWBcQXnsBegj6WQVdlXy+sZuEQZMETjY0ZcZm8wxDE8HgRwR8Mgata+BuESdUcsWmYN8cAjGHEN3SaCkR5Jo5mBTiMziUAPJh8xwINXEuAZjmPyWHYwT1AEEiXRIsODpgBkEdDJQN0RrgSvrN/lIGiUW/nd5np3hZFXkFFOK9X3LDDyS3gC1jARIMceHl/dThmUBiOzFBScDSFv1k5SUSg5dQ+YZDA3E9yjKWUtJIMVFJwJIW/SnVZQULDAPTwDBQUFhYrgejwDo9GpPAsrVFMoKCgoKCjPQEFBwUSAVa9MWKdANauCgoKCglIGCgoKCgpKGSgoKHgiVGZihaGUgYKCgnlgHLHKGvDxu1IK5YZSBgoKCh4HlRdTcShloKCg4JlQo1uFoJpLQUFBQcH5ygALJvFKiXrsDn/Lck1MzxPie6XR4An0CTDvDMBiWgyT0MfyCOj1lfKIReysvwlgkT5bWk0N0FsSj0zCu2IoZfSyLjeizN1ywzUvnQlBw2p7WBjMuB2bdTlZAXQ6s64Xg7rLHbRAk1wqFyhGEzqcBwmncdVEKAQjP90WkgfiE6KP+mLQx7Lj+LuwoPCa1R+xORHk1kyrlhr7E76j/+Xk5FKAvz8vs27WvlYq9HGGl1I38wrIVQTHKgM7g51cMhjrp3/xxRe8w9mZM2f4t4YNG9LkSZNpwsQJ5lo6V6fxxPET9Oyzz/LWllimGp0Ma8QbMWTIEBo7dizVrlPbci1gciH9+quv6fP/fc5bX95x5x00dsxYyw9mokvwIi09jbe95L2BN22mjMxMpgkDZr/+/Wny5Ek06MZBliXIK7JjVBVDKgIo619++YUWLFhA69et593dIJ/od8OHDadHp02jmOho/SodJuOhcXn41atW05dffslbmPbq1Yvuvvsu6w5nCuUAlIHDYGdHnYsXLvKOUrXDa/MuUijYWQoF37Fbz4H9B0y529LO7Tu1yIj6WoB/ANNSM6gm75BlLHfecSfv9gZUZNchdwV2pmsU25h3XQJ9T8982nS7R0ls+HmDFhMdY+VVDd8azEspm+geoC/rYpblAvDOJPwTRpg27q/jrLvTgS7sBoZ+6FfDj49hN7Dvv/vessugGSF4gZ3Ali9drg0cMNDaD0Hz3XeN0RITEvUTFcoDx3kGutUrb8duqDiGPWbnzJ1DqSmp1K59O9bYjRtbNt+Oi4ujUydP0Vtvv8X70JoNu3bsopGjRlHy2SS6eejNvLm4LUAvzqkuvCPrhhuACb0D7Gn9wP330zdLv6GioiLSxD8xWNLLL71surADPFbI3/PPP0/+whOIjYnlPZ6xqQ32sN64cRNt2ryR6tWtRy/NfonGTRhXLPRiBvx59O3CM9hM7dq1p06dOgqPIJp8fLx571zwMPNCJvXu1Zs++eQT3jUL4U0zhcIgj2PHjqFVq1axRxcZEUkXLlzgHQfhjc+ZM4ci60fqZ+uQ3rmECfuh0wBl4DAYrCbsGXvk8FFt8KCb2BIZetNQbdPGzfwbLElpTWKP0rycPFPsn2sLeAbYgzU8rJa28OOFvK+uLYrtnWsiy7IY9Hq//977bHXBM4BVib1nzeoZwBo+l3qOPZ3M9Ez9qEU2IY+QVezTjS7y1wf/yvsGuzXvpGyJIvkBfi1ZtMTqecs+lp2Vrf3fK//HtKFv8j7IAmbyEEAjeALPDtEFeOCfLP5Ea92yNXt58AzA32tgaCcuClY4TS/Cwti3by9bJkWFRTRjxgzq268Pa2ZYV9JzaNe2Hfn5+fE+u2aEaEPKz8/jz4BAf/3oVbClZbRG3NkSsbWaBDAxfPnKZfp9/35asmQJ04lY+jUWlzvATv2vAc4RBXMAtWvVZos4JCTE8psAJiB9q1enbl278h7I8OYwx5Welq6fYR6MGTOG7rnnHmrdqjXLHbYvhUcUGBBIw4ePoKjIKMq/lE8HDhywtIkZ5u10HsPD9vX1ZQ9g/vz5NG/eW3TPffdQRGSE5QQBb8Hja4D+ZywKVji2OQx3y7qYJVztjTxhNWz4MN64mVMQjU8U3zEBhE9ThRl0gQS8hduNgQUKT6Yi2hbQh05oChhoA5CVARf8o48+oi1bttCtt97Kk484JjOmTAOdNig0lkNDkbyCUQIFDr6mpqZyJhGUg9sPlAZaOBQpaMXkKSc04LgAJpR5/2fxN8KWgUGBQnZ9WX5NA1F3OY7UCq/FIcpRt4yiOnXqMP9AL08qC/5hD2uF8kMXk1IgOxAGtQoiKyubM2waN2pM27dtp5dffokGDxpMAwcMpEf+9ggt/WYZnTt3znKyzSBkBmCAqFGjBgvfv955h3r37k1dunShe++9l+dB4k7GiTbIYtrQ4XgQAp0uppV5J58pn2+vAJAI/TtfJ/7+6cefOEujXr0IWrRwkTWNFtCK9Di6vL6KYJVPIz22BRD0SMMjJzvHejwvP5+zbSCPSYlJ9Pe//52OHjlKNYNqUvv27SgqKsrCvypEefsgvBvQicG/hn8N/ajB8hc0Hz16lBISEnjAxLyWPL+qUJHxBcoahhcD8iqAY+Crn5+/kM8iKigo5DRhhQpACLjjUahxHPaGfjdw1smwm4dxXA/xybDQMC00JBSc57+nTJqipaakFo+tuxAyTorn47ttuQaimjImu33bDi26YTRnMCBOiU/Qi4LMlL59+mrLvllWtbHJ63z2wQMHeb4HGTbvvP0Ox5sRg+7apSvTPPOpmZYTq4hGxPcB5lU568D808+VPH5p9sva+HHjOfbcrm07zd/PX6tXtx5n5JyMO8nnVAWNju4XuF9y0llNeHfMv149e2nHjhzTf3U9xKBeYRp57qOESzBHibEFcwbINFIoP8rMJrqYeZHzseF6In4Kt7k0QDPXq1uX0jPSqX+//nT8+HF2s+GWTp48mS3ny5ev0BdffE7r1q3j8Mqzzz1LTz35lFXLuxIIZ6WnZwilKKyJclhG8AQaNGjAVsiRw0fomWdm8d+tW7diLygvN4/WCrqWLv2GX2SC1fXuu+9Ru/Ztre9cuBKwoBITEy0v4nh7UaFo79IQGBhAYWHhbGmhvq+//jrNmjWLbrxxEL8nEhQUSCdOnOBY7a7du0goA3plzisWC7sK+IeMkrNnk/k72tv4UqM9oA0aNGyg/2WBGFhoyNChtHbtGp6/QggM1mWTRk04E270baP5vKp4zwB1iz9zhusE2Ssr9BEUFMRzINV9q5dY1+lPTKf33/+AeY2Mmwfuf8DyQxXwD0hOSrb2Pel1oj+WhNq1a/O8hz1+3DR4CK1Zu5qEMqB5b75JdSPq6r8olIUylcH8Dz4Ug9m7YmC4TF6iI2HwLg1Io3zm6afJP8CfJ+DiT8dzut5LL82maY9OY7cVAn7q9CkaOWIkHTx8kG4ceCN9+OGH1LiJJeXUlXj/vff5pZz8/HyLcNnAtnkChBCuWrmSQsJCWJFkZmRSLSGceFEJ4SIMRkli8P3wo49ozv/9H3fgGTNn0pQpUygsPFS/i+uwaeMmevjhh3myraCgoEyF17VbV5o2bRp16tyJ9u7ZywoddGHyeJTgLSbljh8/RnfeeRft3benypXBxg0b6f9EO0NBYYDAZHdpCAwMEtdssMohBh8ovp/X/cyGC9ISf9n8C61avYrf2O3Xry/L7fARwy2xdRfTuHvXbnrkkUcoMzOT/4Y8IjRXEjCx/+T0J2nosKH6keJAf35a9M+8vFyeXH7llVc49s6oAv4hJIe+Af4Bsr+VRGPNmjXZQOndtzfPHYB3RihlcB2AMigN7/77XQ57IKUQxfjdXoGbnXY+jdMsu3frwa5oi+Yt+MUrGV5hCDfvqSdncGilZYtW/AJQVWDem/OsKYQlFdRRFrzYghfprK6qbdGRnpahdencha+/4y93aOfPnbcfdnIyxGDJIQ+kgUoeyVCWvYIQCVJmwSuEglD/iRMmWVxunT6EjsBbhMIenvKw1c2vCvpWr1rNaa7gDWTNHk22BSFM1Bk0WkNGesHfCD39uvlXfokQ9/3TrX/S4k/F8/NcjT2793DqslEeSytoiy/+9wWHX2zx+X8/t95LGGDcDvbOcyWQ/glZQsgYMlpWgczhJTPAXnhJhYkqjzI9Ayy5sGfPHp6MgeVczUsUOxa0BF786N6jO7u1t99+O61YuYJf6f/8888pPCz8qmsnLMmPF35M48aNo+joaPpAuK0lWTPOxMm4k3To0GHKyc5m2oyQdBrphYWN7AUrbBwlNCesTdD/6KOP0EcLPqK+ffrSt99+VyWegVDMtG7tOqYNXh28u9KAF6/wktKxY0epR88eFBwYzPzs2LEj04RsGyzbsGLFT3Q25Sx17tSZBg++iZc1uO/++ygoOEi/k2sgBhPau3cvTwZjErgsIDsKciknkRlGHhqa59W5r9JTM56i6IbRtHjRYhowYIDLrWfQtX79el5iASnMCEWWBn//AOrevZtl+RMd8AaxHMy0x6bxxHHXrl3ps/98RjGxMS4PW14D0fYIq+YKj4yTLcoA6AMfSupLyjO4DkAZlIprlW+5AOvqgfsfZC0tlAFbxlYrDBCfCz5awJYXXhxZ8eMK/QcXAnURhetVXujnyyLvYbwXLBZ4Rph8BP2YSIanUCWQdSsn5ItJ69euZ48C9YdFBo8C36WXYbS0cbx3r96cCOBqVIh3OiCbVovYtn0M31euWMnyCQ/h66++rvBEpyNQGfoAyUcspfHz+p/ZywOvBtwwgCeMK3tfZ6Ey9bHniSrPoPIol51TkZQz0Zn4fKSxwUIRrjunsOXl5VlOMDzxyJGj/AltjzkGlwN1qailJ86HVQkruZh1qQPHEMfE77t37+Zj9evX54m/irSjQyCsLsFjaxy2PMCLSUDr1q3pmWeeof975f/oxRdfpNn/mE1z58ylmTNn8ktnMTGxPCndo0cPPmfSxEkUEBDA17oS8Nou5V3S/yofsCop6s6wlQHD94MHD/JELNoPnnFVvFdxjYzBiympAPqnfInz5MlTPEewY+cOuuGGG+hNYS1joTrc1+XyWAqEKtC/lQFBHxIbAFO8JGcmQCM4GmxBif+IPSP1Eo8Rg4nlR924SjiTwK+O4zdYzlhUyt2slZKAesK6XLVylXbq5GnrMVmQfollGhAHhSUN2q2LnbkaaG8HFng8hw4e4pREWJrTn5jOtFXFfMH14ELGBW3dmnXalt+2ML9sgbRhpJbCI2rTug3PIVQJ7PCgxGID0NC0SVP25OC5wUMwyqmxeAJAx81Db+Y+h3k6zFOaTS6rEo5dwlpCt06SkpM4E+PLr79kD2H8hPF0222jKT0tjd544w3atn0bBQcH8ws+j0571HKRSZB6NpUmT5lCy5cvo7vuvIvj6ngxCRkpy5Yuoy3btlA18Q/xTWRjNWnSxJLeaZP94HRIi9FRENU/fOgw3X//A4J/Wzmb6JlZz5hnqWDRHsiOwoJmyEKCpdy7dx9hNfenli1bcmrwjp076X//+y9duHiBxMDC2VjwjvDGrstRUf7p4oW5lDvuuIPfGkfKLebyevbsec18H+aQMEf0xOOP2/V03R1CSdPCRQuZb3j7GMuRI60d3k+HDh0oOCiYx5i7x9zNc3dmpNFlYJXgDOjWCl5QGjJ4CL9shkwGWFrQ3MgKwCJv9993f9XF0ysD3QJDFsTo2/7MVheaEVayzIhAnBnLBeOlu59++MlygUBVxJytVqODCmhAzBmZUqDz2VnPih8swG9ub3EKGlAvZIQ99+zzLJfIEAMPwTN8yjkReAb33XufdQnyKoFN+5dVuM3FJzxXeAOgA/Qg0wp9DjwzFvTH2/50m7jYnPjm66XWpatBqyygCzSDn4hOYH5SoXQ4xzOQgFUjLJXjR4/T4iWLKSEhkb0CZEQgX/jGQTfyWjeuzkBxBBBv3bBhI61bt5aSkpIpNTWFY8vIdQ8IDKBmzZrRLbfcwmsyMfS2cDmc4BmcP3ee1yrCy2xDhw6lkaNG6j+aCKJd9uzdQytXruR3YWBNYvmUQuE14F0SyOfgwYOKyae9vHanoxKeAWQTcxzg0aHDh/gw3nfJz8vnTyOwdEWbNm1o/PgJrqfNAdixfSfNn/8BW/9YgqJGjepMP/oivB54DJiPvP3Pt1O37t3UPEMpcK4ysIOEMwkskPyWpD5ZaWZggEBaKsIOCD9AGSCcUCUhBYWKQwy2mOy/mHXRkhRQrRrLJ5SBJ8ingkJ54XJlUGUWsrMgLTdPoumPBIPlja5QLKaueKrwB4LrlYERnqYYFDwHSjYV/mBwrbgbrDCGB3Q2XlvdAK1Q38PAllYF9wT4ZI9XShEo/MFQNWEiQHU2BXeAUREomVT4A8P14o8nqk6noKCg4FZQw7KCgoKCglIGCgoKCgpVnU2koKCgoOAWUJ6BgoKCgoJSBgoKCgoKRP8PZ9EFVypsLLEAAAAASUVORK5CYII=)"
      ],
      "metadata": {
        "id": "t3KM-JFvSitu"
      }
    },
    {
      "cell_type": "code",
      "source": [
        "# Can't modify a string - you must create a new string"
      ],
      "metadata": {
        "id": "dn4X7YNYTAhz"
      },
      "execution_count": null,
      "outputs": []
    },
    {
      "cell_type": "code",
      "source": [
        "# Length of a string\n",
        "s = 'supercalifragilisticexpialidocius'\n",
        "len(s)"
      ],
      "metadata": {
        "colab": {
          "base_uri": "https://localhost:8080/"
        },
        "id": "KXLsOhzHTHtZ",
        "outputId": "364ce279-8a45-4eb3-ecea-309ac12b91f6"
      },
      "execution_count": 40,
      "outputs": [
        {
          "output_type": "execute_result",
          "data": {
            "text/plain": [
              "33"
            ]
          },
          "metadata": {},
          "execution_count": 40
        }
      ]
    },
    {
      "cell_type": "code",
      "source": [
        "# Changing to upper or lower case\n",
        "s = 'Python'\n",
        "s.upper()"
      ],
      "metadata": {
        "colab": {
          "base_uri": "https://localhost:8080/",
          "height": 35
        },
        "id": "PKnUBelfTQm-",
        "outputId": "caa175e6-c363-4b94-f943-860201f1dac2"
      },
      "execution_count": 41,
      "outputs": [
        {
          "output_type": "execute_result",
          "data": {
            "text/plain": [
              "'PYTHON'"
            ],
            "application/vnd.google.colaboratory.intrinsic+json": {
              "type": "string"
            }
          },
          "metadata": {},
          "execution_count": 41
        }
      ]
    },
    {
      "cell_type": "code",
      "source": [
        "# Changing to upper or lower case\n",
        "s = 'Python'\n",
        "s.lower()"
      ],
      "metadata": {
        "colab": {
          "base_uri": "https://localhost:8080/",
          "height": 35
        },
        "id": "I8_3ra4zTcNi",
        "outputId": "d2ba2123-da7e-4d1f-c49c-0b6510b26439"
      },
      "execution_count": 42,
      "outputs": [
        {
          "output_type": "execute_result",
          "data": {
            "text/plain": [
              "'python'"
            ],
            "application/vnd.google.colaboratory.intrinsic+json": {
              "type": "string"
            }
          },
          "metadata": {},
          "execution_count": 42
        }
      ]
    },
    {
      "cell_type": "code",
      "source": [
        "# Test if string is inside larger string\n",
        "'thon' in 'Python'"
      ],
      "metadata": {
        "colab": {
          "base_uri": "https://localhost:8080/"
        },
        "id": "QY2WJ-jITfYR",
        "outputId": "ef4ab088-3094-4315-a060-e088cddfd7b7"
      },
      "execution_count": 44,
      "outputs": [
        {
          "output_type": "execute_result",
          "data": {
            "text/plain": [
              "True"
            ]
          },
          "metadata": {},
          "execution_count": 44
        }
      ]
    },
    {
      "cell_type": "code",
      "source": [
        "# Reverse a string\n",
        "s[::-1]"
      ],
      "metadata": {
        "colab": {
          "base_uri": "https://localhost:8080/",
          "height": 35
        },
        "id": "UGo4AfMmTj5x",
        "outputId": "ed61e0a6-a804-4d6f-fc4f-0eb3b37d044e"
      },
      "execution_count": 45,
      "outputs": [
        {
          "output_type": "execute_result",
          "data": {
            "text/plain": [
              "'nohtyP'"
            ],
            "application/vnd.google.colaboratory.intrinsic+json": {
              "type": "string"
            }
          },
          "metadata": {},
          "execution_count": 45
        }
      ]
    },
    {
      "cell_type": "code",
      "source": [
        "# Break strings up by a certain character, e.g. comma, to create a list\n",
        "s = 'milk, eggs, chocolate'\n",
        "s.split(',')"
      ],
      "metadata": {
        "colab": {
          "base_uri": "https://localhost:8080/"
        },
        "id": "bfd_AkGkTrj7",
        "outputId": "79ae75f7-5b7d-4f20-a349-0106a8dcfeed"
      },
      "execution_count": 46,
      "outputs": [
        {
          "output_type": "execute_result",
          "data": {
            "text/plain": [
              "['milk', ' eggs', ' chocolate']"
            ]
          },
          "metadata": {},
          "execution_count": 46
        }
      ]
    },
    {
      "cell_type": "markdown",
      "source": [
        "## Lists, dictionaries, and sets\n",
        "### Lists"
      ],
      "metadata": {
        "id": "FuSuCN-FUVS7"
      }
    },
    {
      "cell_type": "code",
      "source": [
        "# Deal with collections of numbers (0, 1, 2, 3-->maintain order of items)\n",
        "# Create an empty list...squares\n",
        "squares = []\n",
        "squares"
      ],
      "metadata": {
        "colab": {
          "base_uri": "https://localhost:8080/"
        },
        "id": "GFQr5XpuT4Gx",
        "outputId": "e8ebff15-f7e8-40cb-a730-c4890741baac"
      },
      "execution_count": 47,
      "outputs": [
        {
          "output_type": "execute_result",
          "data": {
            "text/plain": [
              "[]"
            ]
          },
          "metadata": {},
          "execution_count": 47
        }
      ]
    },
    {
      "cell_type": "code",
      "source": [
        "# Add list of numbers\n",
        "squares = [1, 4, 9, 16, 25]\n",
        "squares"
      ],
      "metadata": {
        "colab": {
          "base_uri": "https://localhost:8080/"
        },
        "id": "KFRClWGtUu0S",
        "outputId": "8e749c17-4752-4e58-92a6-892e12b91131"
      },
      "execution_count": 48,
      "outputs": [
        {
          "output_type": "execute_result",
          "data": {
            "text/plain": [
              "[1, 4, 9, 16, 25]"
            ]
          },
          "metadata": {},
          "execution_count": 48
        }
      ]
    },
    {
      "cell_type": "code",
      "source": [
        "# Mix of numbers of strings\n",
        "squares_mixed = [\"one\", 4, 9, \"sixteen\", 25]\n",
        "squares_mixed"
      ],
      "metadata": {
        "colab": {
          "base_uri": "https://localhost:8080/"
        },
        "id": "9jxzLUnUU09p",
        "outputId": "2fb62808-6c14-4a92-a366-e335027147a8"
      },
      "execution_count": 49,
      "outputs": [
        {
          "output_type": "execute_result",
          "data": {
            "text/plain": [
              "['one', 4, 9, 'sixteen', 25]"
            ]
          },
          "metadata": {},
          "execution_count": 49
        }
      ]
    },
    {
      "cell_type": "code",
      "source": [
        "# Return certain items in a list\n",
        "squares[0]"
      ],
      "metadata": {
        "colab": {
          "base_uri": "https://localhost:8080/"
        },
        "id": "cdo3SmniVASZ",
        "outputId": "0c8417ed-ffc4-4915-c43f-51a0788a4e9b"
      },
      "execution_count": 51,
      "outputs": [
        {
          "output_type": "execute_result",
          "data": {
            "text/plain": [
              "1"
            ]
          },
          "metadata": {},
          "execution_count": 51
        }
      ]
    },
    {
      "cell_type": "code",
      "source": [
        "squares[-1]"
      ],
      "metadata": {
        "colab": {
          "base_uri": "https://localhost:8080/"
        },
        "id": "y322jPi1VFmJ",
        "outputId": "c8a86d01-519e-4499-e39d-da33f80235a7"
      },
      "execution_count": 52,
      "outputs": [
        {
          "output_type": "execute_result",
          "data": {
            "text/plain": [
              "25"
            ]
          },
          "metadata": {},
          "execution_count": 52
        }
      ]
    },
    {
      "cell_type": "code",
      "source": [
        "squares[-3:] # Get last 3 elements of the list"
      ],
      "metadata": {
        "colab": {
          "base_uri": "https://localhost:8080/"
        },
        "id": "04AcjsHVVLdJ",
        "outputId": "87d8f241-0fd9-4054-c178-f1d6a59e9f57"
      },
      "execution_count": 54,
      "outputs": [
        {
          "output_type": "execute_result",
          "data": {
            "text/plain": [
              "[9, 16, 25]"
            ]
          },
          "metadata": {},
          "execution_count": 54
        }
      ]
    },
    {
      "cell_type": "code",
      "source": [
        "# Concatenate (add on to your existing list)\n",
        "squares + [36, 49, 64, 81, 100]"
      ],
      "metadata": {
        "colab": {
          "base_uri": "https://localhost:8080/"
        },
        "id": "IxsmNVHrVNpw",
        "outputId": "9b2b89d7-9633-47d5-d62b-78c115c9780e"
      },
      "execution_count": 56,
      "outputs": [
        {
          "output_type": "execute_result",
          "data": {
            "text/plain": [
              "[1, 4, 9, 16, 25, 36, 49, 64, 81, 100]"
            ]
          },
          "metadata": {},
          "execution_count": 56
        }
      ]
    },
    {
      "cell_type": "code",
      "source": [
        "# Recall that strings can't be changed\n",
        "# BUT, lists can be changed\n",
        "cubes = [1, 8, 27, 65, 125]\n",
        "4**3 # 4 raised to 3"
      ],
      "metadata": {
        "colab": {
          "base_uri": "https://localhost:8080/"
        },
        "id": "02OieGVpVgKy",
        "outputId": "1f714f2b-c7f4-4705-9ca8-c96d44d7b167"
      },
      "execution_count": 59,
      "outputs": [
        {
          "output_type": "execute_result",
          "data": {
            "text/plain": [
              "64"
            ]
          },
          "metadata": {},
          "execution_count": 59
        }
      ]
    },
    {
      "cell_type": "code",
      "source": [
        "# We want to replace the 65 w/ 64. We want to fix the cubes list.\n",
        "cubes[3] = 64\n",
        "cubes"
      ],
      "metadata": {
        "colab": {
          "base_uri": "https://localhost:8080/"
        },
        "id": "JDAmmw-1Voep",
        "outputId": "a23f71fa-132a-44cb-f9c4-38732d00915e"
      },
      "execution_count": 61,
      "outputs": [
        {
          "output_type": "execute_result",
          "data": {
            "text/plain": [
              "[1, 8, 27, 64, 125]"
            ]
          },
          "metadata": {},
          "execution_count": 61
        }
      ]
    },
    {
      "cell_type": "code",
      "source": [
        "# Append - add items to the end of your list\n",
        "cubes.append(216)\n",
        "cubes"
      ],
      "metadata": {
        "colab": {
          "base_uri": "https://localhost:8080/"
        },
        "id": "f2fwtFgFV0C5",
        "outputId": "ae53cc5e-c410-4769-9ff2-bc9b6214863d"
      },
      "execution_count": 62,
      "outputs": [
        {
          "output_type": "execute_result",
          "data": {
            "text/plain": [
              "[1, 8, 27, 64, 125, 216]"
            ]
          },
          "metadata": {},
          "execution_count": 62
        }
      ]
    },
    {
      "cell_type": "code",
      "source": [
        "# How many items in a list\n",
        "letters = ['a', 'b', 'c', 'd']\n",
        "len(letters)"
      ],
      "metadata": {
        "colab": {
          "base_uri": "https://localhost:8080/"
        },
        "id": "GVRy49E1WI0W",
        "outputId": "5e7344bf-e00c-431d-c212-779237342209"
      },
      "execution_count": 63,
      "outputs": [
        {
          "output_type": "execute_result",
          "data": {
            "text/plain": [
              "4"
            ]
          },
          "metadata": {},
          "execution_count": 63
        }
      ]
    },
    {
      "cell_type": "code",
      "source": [
        "# Nest lists (lists that contains other lists) Notice the double brackets\n",
        "a = ['a','b','c']\n",
        "n = [1, 2, 3]\n",
        "x = [a, n]\n",
        "x"
      ],
      "metadata": {
        "colab": {
          "base_uri": "https://localhost:8080/"
        },
        "id": "he5pUFUbWYRJ",
        "outputId": "3432671e-313d-46b8-cb3b-352a85fba895"
      },
      "execution_count": 65,
      "outputs": [
        {
          "output_type": "execute_result",
          "data": {
            "text/plain": [
              "[['a', 'b', 'c'], [1, 2, 3]]"
            ]
          },
          "metadata": {},
          "execution_count": 65
        }
      ]
    },
    {
      "cell_type": "code",
      "source": [
        "# First list\n",
        "x[0]"
      ],
      "metadata": {
        "colab": {
          "base_uri": "https://localhost:8080/"
        },
        "id": "NuEA6mbKWjux",
        "outputId": "881986de-bc43-43c2-b0bb-2240bd34f5a6"
      },
      "execution_count": 66,
      "outputs": [
        {
          "output_type": "execute_result",
          "data": {
            "text/plain": [
              "['a', 'b', 'c']"
            ]
          },
          "metadata": {},
          "execution_count": 66
        }
      ]
    },
    {
      "cell_type": "code",
      "source": [
        "# First list, with first item\n",
        "x[0][0]"
      ],
      "metadata": {
        "colab": {
          "base_uri": "https://localhost:8080/",
          "height": 35
        },
        "id": "c2ImYs2bWp_b",
        "outputId": "e8ae7d91-a522-45fe-cb19-d20ce95ca816"
      },
      "execution_count": 68,
      "outputs": [
        {
          "output_type": "execute_result",
          "data": {
            "text/plain": [
              "'a'"
            ],
            "application/vnd.google.colaboratory.intrinsic+json": {
              "type": "string"
            }
          },
          "metadata": {},
          "execution_count": 68
        }
      ]
    },
    {
      "cell_type": "code",
      "source": [
        "# Get list of numbers 0 through 10\n",
        "list(range(10))"
      ],
      "metadata": {
        "colab": {
          "base_uri": "https://localhost:8080/"
        },
        "id": "L1rAm5ViW1Gw",
        "outputId": "138ac853-df23-4d39-affd-605a43c45584"
      },
      "execution_count": 69,
      "outputs": [
        {
          "output_type": "execute_result",
          "data": {
            "text/plain": [
              "[0, 1, 2, 3, 4, 5, 6, 7, 8, 9]"
            ]
          },
          "metadata": {},
          "execution_count": 69
        }
      ]
    },
    {
      "cell_type": "code",
      "source": [
        "# Create list by repeating a list\n",
        "[1]*10"
      ],
      "metadata": {
        "colab": {
          "base_uri": "https://localhost:8080/"
        },
        "id": "CGmf9rRTXA2Z",
        "outputId": "900d2313-df6c-4140-85f6-088a3045ca4e"
      },
      "execution_count": 70,
      "outputs": [
        {
          "output_type": "execute_result",
          "data": {
            "text/plain": [
              "[1, 1, 1, 1, 1, 1, 1, 1, 1, 1]"
            ]
          },
          "metadata": {},
          "execution_count": 70
        }
      ]
    },
    {
      "cell_type": "code",
      "source": [
        "[1,2]*10"
      ],
      "metadata": {
        "colab": {
          "base_uri": "https://localhost:8080/"
        },
        "id": "IwMSRiWGXLbN",
        "outputId": "3fd43661-2058-4ace-b8ee-4e9013273003"
      },
      "execution_count": 71,
      "outputs": [
        {
          "output_type": "execute_result",
          "data": {
            "text/plain": [
              "[1, 2, 1, 2, 1, 2, 1, 2, 1, 2, 1, 2, 1, 2, 1, 2, 1, 2, 1, 2]"
            ]
          },
          "metadata": {},
          "execution_count": 71
        }
      ]
    },
    {
      "cell_type": "markdown",
      "source": [
        "### Dictionaries\n",
        "Begin with minute 30"
      ],
      "metadata": {
        "id": "SBQ1jHlLXVWC"
      }
    },
    {
      "cell_type": "code",
      "source": [
        ""
      ],
      "metadata": {
        "id": "-BS_8Y4AXNRJ"
      },
      "execution_count": null,
      "outputs": []
    }
  ]
}