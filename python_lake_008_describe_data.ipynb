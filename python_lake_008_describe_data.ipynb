{
  "nbformat": 4,
  "nbformat_minor": 0,
  "metadata": {
    "colab": {
      "name": "python_lake_008_describe_data.ipynb",
      "provenance": [],
      "authorship_tag": "ABX9TyMplT5+rbSVpCteI21yELXy",
      "include_colab_link": true
    },
    "kernelspec": {
      "name": "python3",
      "display_name": "Python 3"
    },
    "language_info": {
      "name": "python"
    }
  },
  "cells": [
    {
      "cell_type": "markdown",
      "metadata": {
        "id": "view-in-github",
        "colab_type": "text"
      },
      "source": [
        "<a href=\"https://colab.research.google.com/github/vilijajoyce/python-resources/blob/main/python_lake_008_describe_data.ipynb\" target=\"_parent\"><img src=\"https://colab.research.google.com/assets/colab-badge.svg\" alt=\"Open In Colab\"/></a>"
      ]
    },
    {
      "cell_type": "markdown",
      "source": [
        "## Describing Data\n",
        "Many different descriptive statistics - most appropriate depends on nature of  data and what you want to communicate. A descriptive statistic is a number, computed on a collection of numbers (data), that captures something important about the data."
      ],
      "metadata": {
        "id": "tWHoWOk3Td_2"
      }
    },
    {
      "cell_type": "markdown",
      "source": [
        "OMNI project dataset (45 Lithuanian-English vocab words - judgement of learning rating). Kaip idomu!\n",
        "\n",
        "delay_group (test period e.g. immediate recall, 24 hour, 48 hour, etc.)\n",
        "\n",
        "*_start (numeric timestamps for start time of study trial, etc.)"
      ],
      "metadata": {
        "id": "Ii5Zcb7CVBIj"
      }
    },
    {
      "cell_type": "code",
      "execution_count": null,
      "metadata": {
        "id": "GV8i8P6GBDYy"
      },
      "outputs": [],
      "source": [
        "# Import libraries and dataset\n",
        "import numpy as np\n",
        "import pandas as pd\n",
        "import seaborn as sns\n",
        "import matplotlib.pyplot as plt\n",
        "\n",
        "%matplotlib inline"
      ]
    },
    {
      "cell_type": "code",
      "source": [
        "df = pd.read_csv('https://tinyurl.com/yya6yyt8')"
      ],
      "metadata": {
        "id": "TXOOLMpdVuHz"
      },
      "execution_count": null,
      "outputs": []
    },
    {
      "cell_type": "code",
      "source": [
        "# Review first 5 rows\n",
        "df.head()"
      ],
      "metadata": {
        "colab": {
          "base_uri": "https://localhost:8080/",
          "height": 270
        },
        "id": "APF_lA9VVwMA",
        "outputId": "189912cb-bdb3-4b5c-a4aa-cf4c96254d0f"
      },
      "execution_count": null,
      "outputs": [
        {
          "output_type": "execute_result",
          "data": {
            "text/plain": [
              "  lith_word_studied eng_word_studied participant_id delay_group  study1_start  \\\n",
              "0          pastatas         building             A1           A    1461597222   \n",
              "1              mesa             meat             A1           A    1461597234   \n",
              "2            kreida            chalk             A1           A    1461597248   \n",
              "3            bugnas             drum             A1           A    1461597262   \n",
              "4            muilas             soap             A1           A    1461597274   \n",
              "\n",
              "   study2_start  study3_start  study4_start  study5_start   jol_start  \\\n",
              "0    1461598097    1461598653    1461599383    1461599951  1461600711   \n",
              "1    1461598070    1461598710    1461599353    1461599975  1461600707   \n",
              "2    1461598054    1461598669    1461599403    1461599965  1461600699   \n",
              "3    1461598085    1461598683    1461599393    1461599985  1461600719   \n",
              "4    1461598111    1461598700    1461599369    1461599995  1461600716   \n",
              "\n",
              "   recall_start  jol_value eng_word_response  recall_accuracy  study_test_lag  \n",
              "0    1461601222        100          building                1       21.183333  \n",
              "1    1461601232        100              meat                1       20.950000  \n",
              "2    1461601238         75             sword                0       21.216667  \n",
              "3    1461601235        100              drum                1       20.833333  \n",
              "4    1461601249        100              soap                1       20.900000  "
            ],
            "text/html": [
              "\n",
              "  <div id=\"df-ee1d581c-cf76-431b-8000-48e78f06d769\">\n",
              "    <div class=\"colab-df-container\">\n",
              "      <div>\n",
              "<style scoped>\n",
              "    .dataframe tbody tr th:only-of-type {\n",
              "        vertical-align: middle;\n",
              "    }\n",
              "\n",
              "    .dataframe tbody tr th {\n",
              "        vertical-align: top;\n",
              "    }\n",
              "\n",
              "    .dataframe thead th {\n",
              "        text-align: right;\n",
              "    }\n",
              "</style>\n",
              "<table border=\"1\" class=\"dataframe\">\n",
              "  <thead>\n",
              "    <tr style=\"text-align: right;\">\n",
              "      <th></th>\n",
              "      <th>lith_word_studied</th>\n",
              "      <th>eng_word_studied</th>\n",
              "      <th>participant_id</th>\n",
              "      <th>delay_group</th>\n",
              "      <th>study1_start</th>\n",
              "      <th>study2_start</th>\n",
              "      <th>study3_start</th>\n",
              "      <th>study4_start</th>\n",
              "      <th>study5_start</th>\n",
              "      <th>jol_start</th>\n",
              "      <th>recall_start</th>\n",
              "      <th>jol_value</th>\n",
              "      <th>eng_word_response</th>\n",
              "      <th>recall_accuracy</th>\n",
              "      <th>study_test_lag</th>\n",
              "    </tr>\n",
              "  </thead>\n",
              "  <tbody>\n",
              "    <tr>\n",
              "      <th>0</th>\n",
              "      <td>pastatas</td>\n",
              "      <td>building</td>\n",
              "      <td>A1</td>\n",
              "      <td>A</td>\n",
              "      <td>1461597222</td>\n",
              "      <td>1461598097</td>\n",
              "      <td>1461598653</td>\n",
              "      <td>1461599383</td>\n",
              "      <td>1461599951</td>\n",
              "      <td>1461600711</td>\n",
              "      <td>1461601222</td>\n",
              "      <td>100</td>\n",
              "      <td>building</td>\n",
              "      <td>1</td>\n",
              "      <td>21.183333</td>\n",
              "    </tr>\n",
              "    <tr>\n",
              "      <th>1</th>\n",
              "      <td>mesa</td>\n",
              "      <td>meat</td>\n",
              "      <td>A1</td>\n",
              "      <td>A</td>\n",
              "      <td>1461597234</td>\n",
              "      <td>1461598070</td>\n",
              "      <td>1461598710</td>\n",
              "      <td>1461599353</td>\n",
              "      <td>1461599975</td>\n",
              "      <td>1461600707</td>\n",
              "      <td>1461601232</td>\n",
              "      <td>100</td>\n",
              "      <td>meat</td>\n",
              "      <td>1</td>\n",
              "      <td>20.950000</td>\n",
              "    </tr>\n",
              "    <tr>\n",
              "      <th>2</th>\n",
              "      <td>kreida</td>\n",
              "      <td>chalk</td>\n",
              "      <td>A1</td>\n",
              "      <td>A</td>\n",
              "      <td>1461597248</td>\n",
              "      <td>1461598054</td>\n",
              "      <td>1461598669</td>\n",
              "      <td>1461599403</td>\n",
              "      <td>1461599965</td>\n",
              "      <td>1461600699</td>\n",
              "      <td>1461601238</td>\n",
              "      <td>75</td>\n",
              "      <td>sword</td>\n",
              "      <td>0</td>\n",
              "      <td>21.216667</td>\n",
              "    </tr>\n",
              "    <tr>\n",
              "      <th>3</th>\n",
              "      <td>bugnas</td>\n",
              "      <td>drum</td>\n",
              "      <td>A1</td>\n",
              "      <td>A</td>\n",
              "      <td>1461597262</td>\n",
              "      <td>1461598085</td>\n",
              "      <td>1461598683</td>\n",
              "      <td>1461599393</td>\n",
              "      <td>1461599985</td>\n",
              "      <td>1461600719</td>\n",
              "      <td>1461601235</td>\n",
              "      <td>100</td>\n",
              "      <td>drum</td>\n",
              "      <td>1</td>\n",
              "      <td>20.833333</td>\n",
              "    </tr>\n",
              "    <tr>\n",
              "      <th>4</th>\n",
              "      <td>muilas</td>\n",
              "      <td>soap</td>\n",
              "      <td>A1</td>\n",
              "      <td>A</td>\n",
              "      <td>1461597274</td>\n",
              "      <td>1461598111</td>\n",
              "      <td>1461598700</td>\n",
              "      <td>1461599369</td>\n",
              "      <td>1461599995</td>\n",
              "      <td>1461600716</td>\n",
              "      <td>1461601249</td>\n",
              "      <td>100</td>\n",
              "      <td>soap</td>\n",
              "      <td>1</td>\n",
              "      <td>20.900000</td>\n",
              "    </tr>\n",
              "  </tbody>\n",
              "</table>\n",
              "</div>\n",
              "      <button class=\"colab-df-convert\" onclick=\"convertToInteractive('df-ee1d581c-cf76-431b-8000-48e78f06d769')\"\n",
              "              title=\"Convert this dataframe to an interactive table.\"\n",
              "              style=\"display:none;\">\n",
              "        \n",
              "  <svg xmlns=\"http://www.w3.org/2000/svg\" height=\"24px\"viewBox=\"0 0 24 24\"\n",
              "       width=\"24px\">\n",
              "    <path d=\"M0 0h24v24H0V0z\" fill=\"none\"/>\n",
              "    <path d=\"M18.56 5.44l.94 2.06.94-2.06 2.06-.94-2.06-.94-.94-2.06-.94 2.06-2.06.94zm-11 1L8.5 8.5l.94-2.06 2.06-.94-2.06-.94L8.5 2.5l-.94 2.06-2.06.94zm10 10l.94 2.06.94-2.06 2.06-.94-2.06-.94-.94-2.06-.94 2.06-2.06.94z\"/><path d=\"M17.41 7.96l-1.37-1.37c-.4-.4-.92-.59-1.43-.59-.52 0-1.04.2-1.43.59L10.3 9.45l-7.72 7.72c-.78.78-.78 2.05 0 2.83L4 21.41c.39.39.9.59 1.41.59.51 0 1.02-.2 1.41-.59l7.78-7.78 2.81-2.81c.8-.78.8-2.07 0-2.86zM5.41 20L4 18.59l7.72-7.72 1.47 1.35L5.41 20z\"/>\n",
              "  </svg>\n",
              "      </button>\n",
              "      \n",
              "  <style>\n",
              "    .colab-df-container {\n",
              "      display:flex;\n",
              "      flex-wrap:wrap;\n",
              "      gap: 12px;\n",
              "    }\n",
              "\n",
              "    .colab-df-convert {\n",
              "      background-color: #E8F0FE;\n",
              "      border: none;\n",
              "      border-radius: 50%;\n",
              "      cursor: pointer;\n",
              "      display: none;\n",
              "      fill: #1967D2;\n",
              "      height: 32px;\n",
              "      padding: 0 0 0 0;\n",
              "      width: 32px;\n",
              "    }\n",
              "\n",
              "    .colab-df-convert:hover {\n",
              "      background-color: #E2EBFA;\n",
              "      box-shadow: 0px 1px 2px rgba(60, 64, 67, 0.3), 0px 1px 3px 1px rgba(60, 64, 67, 0.15);\n",
              "      fill: #174EA6;\n",
              "    }\n",
              "\n",
              "    [theme=dark] .colab-df-convert {\n",
              "      background-color: #3B4455;\n",
              "      fill: #D2E3FC;\n",
              "    }\n",
              "\n",
              "    [theme=dark] .colab-df-convert:hover {\n",
              "      background-color: #434B5C;\n",
              "      box-shadow: 0px 1px 3px 1px rgba(0, 0, 0, 0.15);\n",
              "      filter: drop-shadow(0px 1px 2px rgba(0, 0, 0, 0.3));\n",
              "      fill: #FFFFFF;\n",
              "    }\n",
              "  </style>\n",
              "\n",
              "      <script>\n",
              "        const buttonEl =\n",
              "          document.querySelector('#df-ee1d581c-cf76-431b-8000-48e78f06d769 button.colab-df-convert');\n",
              "        buttonEl.style.display =\n",
              "          google.colab.kernel.accessAllowed ? 'block' : 'none';\n",
              "\n",
              "        async function convertToInteractive(key) {\n",
              "          const element = document.querySelector('#df-ee1d581c-cf76-431b-8000-48e78f06d769');\n",
              "          const dataTable =\n",
              "            await google.colab.kernel.invokeFunction('convertToInteractive',\n",
              "                                                     [key], {});\n",
              "          if (!dataTable) return;\n",
              "\n",
              "          const docLinkHtml = 'Like what you see? Visit the ' +\n",
              "            '<a target=\"_blank\" href=https://colab.research.google.com/notebooks/data_table.ipynb>data table notebook</a>'\n",
              "            + ' to learn more about interactive tables.';\n",
              "          element.innerHTML = '';\n",
              "          dataTable['output_type'] = 'display_data';\n",
              "          await google.colab.output.renderOutput(dataTable, element);\n",
              "          const docLink = document.createElement('div');\n",
              "          docLink.innerHTML = docLinkHtml;\n",
              "          element.appendChild(docLink);\n",
              "        }\n",
              "      </script>\n",
              "    </div>\n",
              "  </div>\n",
              "  "
            ]
          },
          "metadata": {},
          "execution_count": 5
        }
      ]
    },
    {
      "cell_type": "code",
      "source": [
        "# Use describe method in Pandas to grab count, mean, std, min 25%, 50%, 75%, max of real numbers (no strings)\n",
        "df.describe()"
      ],
      "metadata": {
        "colab": {
          "base_uri": "https://localhost:8080/",
          "height": 300
        },
        "id": "EDeqrAyuWFgY",
        "outputId": "6cc6568e-8625-49dc-ec83-f43c3ac17680"
      },
      "execution_count": null,
      "outputs": [
        {
          "output_type": "execute_result",
          "data": {
            "text/plain": [
              "       study1_start  study2_start  study3_start  study4_start  study5_start  \\\n",
              "count  8.550000e+03  8.550000e+03  8.550000e+03  8.550000e+03  8.550000e+03   \n",
              "mean   1.481107e+09  1.481108e+09  1.481109e+09  1.481109e+09  1.481110e+09   \n",
              "std    1.244130e+07  1.244130e+07  1.244131e+07  1.244130e+07  1.244130e+07   \n",
              "min    1.461597e+09  1.461598e+09  1.461599e+09  1.461599e+09  1.461600e+09   \n",
              "25%    1.471894e+09  1.471895e+09  1.471896e+09  1.471897e+09  1.471897e+09   \n",
              "50%    1.479028e+09  1.479029e+09  1.479030e+09  1.479030e+09  1.479031e+09   \n",
              "75%    1.488220e+09  1.488221e+09  1.488221e+09  1.488222e+09  1.488222e+09   \n",
              "max    1.516474e+09  1.516475e+09  1.516475e+09  1.516476e+09  1.516477e+09   \n",
              "\n",
              "          jol_start  recall_start    jol_value  recall_accuracy  \\\n",
              "count  8.550000e+03  8.550000e+03  8550.000000      8550.000000   \n",
              "mean   1.481111e+09  1.481385e+09    61.665146         0.418129   \n",
              "std    1.244149e+07  1.248592e+07    31.876645         0.493280   \n",
              "min    1.461601e+09  1.461601e+09     0.000000         0.000000   \n",
              "25%    1.471898e+09  1.472154e+09    37.000000         0.000000   \n",
              "50%    1.479032e+09  1.479421e+09    66.000000         0.000000   \n",
              "75%    1.488223e+09  1.488492e+09    91.000000         1.000000   \n",
              "max    1.516478e+09  1.516735e+09   100.000000         1.000000   \n",
              "\n",
              "       study_test_lag  \n",
              "count     8550.000000  \n",
              "mean      4583.718248  \n",
              "std       3585.115929  \n",
              "min         10.050000  \n",
              "25%       1405.112500  \n",
              "50%       4268.191666  \n",
              "75%       9983.912500  \n",
              "max      11518.816670  "
            ],
            "text/html": [
              "\n",
              "  <div id=\"df-8a7c6938-3df9-4e13-ac57-d2cf79be0fdc\">\n",
              "    <div class=\"colab-df-container\">\n",
              "      <div>\n",
              "<style scoped>\n",
              "    .dataframe tbody tr th:only-of-type {\n",
              "        vertical-align: middle;\n",
              "    }\n",
              "\n",
              "    .dataframe tbody tr th {\n",
              "        vertical-align: top;\n",
              "    }\n",
              "\n",
              "    .dataframe thead th {\n",
              "        text-align: right;\n",
              "    }\n",
              "</style>\n",
              "<table border=\"1\" class=\"dataframe\">\n",
              "  <thead>\n",
              "    <tr style=\"text-align: right;\">\n",
              "      <th></th>\n",
              "      <th>study1_start</th>\n",
              "      <th>study2_start</th>\n",
              "      <th>study3_start</th>\n",
              "      <th>study4_start</th>\n",
              "      <th>study5_start</th>\n",
              "      <th>jol_start</th>\n",
              "      <th>recall_start</th>\n",
              "      <th>jol_value</th>\n",
              "      <th>recall_accuracy</th>\n",
              "      <th>study_test_lag</th>\n",
              "    </tr>\n",
              "  </thead>\n",
              "  <tbody>\n",
              "    <tr>\n",
              "      <th>count</th>\n",
              "      <td>8.550000e+03</td>\n",
              "      <td>8.550000e+03</td>\n",
              "      <td>8.550000e+03</td>\n",
              "      <td>8.550000e+03</td>\n",
              "      <td>8.550000e+03</td>\n",
              "      <td>8.550000e+03</td>\n",
              "      <td>8.550000e+03</td>\n",
              "      <td>8550.000000</td>\n",
              "      <td>8550.000000</td>\n",
              "      <td>8550.000000</td>\n",
              "    </tr>\n",
              "    <tr>\n",
              "      <th>mean</th>\n",
              "      <td>1.481107e+09</td>\n",
              "      <td>1.481108e+09</td>\n",
              "      <td>1.481109e+09</td>\n",
              "      <td>1.481109e+09</td>\n",
              "      <td>1.481110e+09</td>\n",
              "      <td>1.481111e+09</td>\n",
              "      <td>1.481385e+09</td>\n",
              "      <td>61.665146</td>\n",
              "      <td>0.418129</td>\n",
              "      <td>4583.718248</td>\n",
              "    </tr>\n",
              "    <tr>\n",
              "      <th>std</th>\n",
              "      <td>1.244130e+07</td>\n",
              "      <td>1.244130e+07</td>\n",
              "      <td>1.244131e+07</td>\n",
              "      <td>1.244130e+07</td>\n",
              "      <td>1.244130e+07</td>\n",
              "      <td>1.244149e+07</td>\n",
              "      <td>1.248592e+07</td>\n",
              "      <td>31.876645</td>\n",
              "      <td>0.493280</td>\n",
              "      <td>3585.115929</td>\n",
              "    </tr>\n",
              "    <tr>\n",
              "      <th>min</th>\n",
              "      <td>1.461597e+09</td>\n",
              "      <td>1.461598e+09</td>\n",
              "      <td>1.461599e+09</td>\n",
              "      <td>1.461599e+09</td>\n",
              "      <td>1.461600e+09</td>\n",
              "      <td>1.461601e+09</td>\n",
              "      <td>1.461601e+09</td>\n",
              "      <td>0.000000</td>\n",
              "      <td>0.000000</td>\n",
              "      <td>10.050000</td>\n",
              "    </tr>\n",
              "    <tr>\n",
              "      <th>25%</th>\n",
              "      <td>1.471894e+09</td>\n",
              "      <td>1.471895e+09</td>\n",
              "      <td>1.471896e+09</td>\n",
              "      <td>1.471897e+09</td>\n",
              "      <td>1.471897e+09</td>\n",
              "      <td>1.471898e+09</td>\n",
              "      <td>1.472154e+09</td>\n",
              "      <td>37.000000</td>\n",
              "      <td>0.000000</td>\n",
              "      <td>1405.112500</td>\n",
              "    </tr>\n",
              "    <tr>\n",
              "      <th>50%</th>\n",
              "      <td>1.479028e+09</td>\n",
              "      <td>1.479029e+09</td>\n",
              "      <td>1.479030e+09</td>\n",
              "      <td>1.479030e+09</td>\n",
              "      <td>1.479031e+09</td>\n",
              "      <td>1.479032e+09</td>\n",
              "      <td>1.479421e+09</td>\n",
              "      <td>66.000000</td>\n",
              "      <td>0.000000</td>\n",
              "      <td>4268.191666</td>\n",
              "    </tr>\n",
              "    <tr>\n",
              "      <th>75%</th>\n",
              "      <td>1.488220e+09</td>\n",
              "      <td>1.488221e+09</td>\n",
              "      <td>1.488221e+09</td>\n",
              "      <td>1.488222e+09</td>\n",
              "      <td>1.488222e+09</td>\n",
              "      <td>1.488223e+09</td>\n",
              "      <td>1.488492e+09</td>\n",
              "      <td>91.000000</td>\n",
              "      <td>1.000000</td>\n",
              "      <td>9983.912500</td>\n",
              "    </tr>\n",
              "    <tr>\n",
              "      <th>max</th>\n",
              "      <td>1.516474e+09</td>\n",
              "      <td>1.516475e+09</td>\n",
              "      <td>1.516475e+09</td>\n",
              "      <td>1.516476e+09</td>\n",
              "      <td>1.516477e+09</td>\n",
              "      <td>1.516478e+09</td>\n",
              "      <td>1.516735e+09</td>\n",
              "      <td>100.000000</td>\n",
              "      <td>1.000000</td>\n",
              "      <td>11518.816670</td>\n",
              "    </tr>\n",
              "  </tbody>\n",
              "</table>\n",
              "</div>\n",
              "      <button class=\"colab-df-convert\" onclick=\"convertToInteractive('df-8a7c6938-3df9-4e13-ac57-d2cf79be0fdc')\"\n",
              "              title=\"Convert this dataframe to an interactive table.\"\n",
              "              style=\"display:none;\">\n",
              "        \n",
              "  <svg xmlns=\"http://www.w3.org/2000/svg\" height=\"24px\"viewBox=\"0 0 24 24\"\n",
              "       width=\"24px\">\n",
              "    <path d=\"M0 0h24v24H0V0z\" fill=\"none\"/>\n",
              "    <path d=\"M18.56 5.44l.94 2.06.94-2.06 2.06-.94-2.06-.94-.94-2.06-.94 2.06-2.06.94zm-11 1L8.5 8.5l.94-2.06 2.06-.94-2.06-.94L8.5 2.5l-.94 2.06-2.06.94zm10 10l.94 2.06.94-2.06 2.06-.94-2.06-.94-.94-2.06-.94 2.06-2.06.94z\"/><path d=\"M17.41 7.96l-1.37-1.37c-.4-.4-.92-.59-1.43-.59-.52 0-1.04.2-1.43.59L10.3 9.45l-7.72 7.72c-.78.78-.78 2.05 0 2.83L4 21.41c.39.39.9.59 1.41.59.51 0 1.02-.2 1.41-.59l7.78-7.78 2.81-2.81c.8-.78.8-2.07 0-2.86zM5.41 20L4 18.59l7.72-7.72 1.47 1.35L5.41 20z\"/>\n",
              "  </svg>\n",
              "      </button>\n",
              "      \n",
              "  <style>\n",
              "    .colab-df-container {\n",
              "      display:flex;\n",
              "      flex-wrap:wrap;\n",
              "      gap: 12px;\n",
              "    }\n",
              "\n",
              "    .colab-df-convert {\n",
              "      background-color: #E8F0FE;\n",
              "      border: none;\n",
              "      border-radius: 50%;\n",
              "      cursor: pointer;\n",
              "      display: none;\n",
              "      fill: #1967D2;\n",
              "      height: 32px;\n",
              "      padding: 0 0 0 0;\n",
              "      width: 32px;\n",
              "    }\n",
              "\n",
              "    .colab-df-convert:hover {\n",
              "      background-color: #E2EBFA;\n",
              "      box-shadow: 0px 1px 2px rgba(60, 64, 67, 0.3), 0px 1px 3px 1px rgba(60, 64, 67, 0.15);\n",
              "      fill: #174EA6;\n",
              "    }\n",
              "\n",
              "    [theme=dark] .colab-df-convert {\n",
              "      background-color: #3B4455;\n",
              "      fill: #D2E3FC;\n",
              "    }\n",
              "\n",
              "    [theme=dark] .colab-df-convert:hover {\n",
              "      background-color: #434B5C;\n",
              "      box-shadow: 0px 1px 3px 1px rgba(0, 0, 0, 0.15);\n",
              "      filter: drop-shadow(0px 1px 2px rgba(0, 0, 0, 0.3));\n",
              "      fill: #FFFFFF;\n",
              "    }\n",
              "  </style>\n",
              "\n",
              "      <script>\n",
              "        const buttonEl =\n",
              "          document.querySelector('#df-8a7c6938-3df9-4e13-ac57-d2cf79be0fdc button.colab-df-convert');\n",
              "        buttonEl.style.display =\n",
              "          google.colab.kernel.accessAllowed ? 'block' : 'none';\n",
              "\n",
              "        async function convertToInteractive(key) {\n",
              "          const element = document.querySelector('#df-8a7c6938-3df9-4e13-ac57-d2cf79be0fdc');\n",
              "          const dataTable =\n",
              "            await google.colab.kernel.invokeFunction('convertToInteractive',\n",
              "                                                     [key], {});\n",
              "          if (!dataTable) return;\n",
              "\n",
              "          const docLinkHtml = 'Like what you see? Visit the ' +\n",
              "            '<a target=\"_blank\" href=https://colab.research.google.com/notebooks/data_table.ipynb>data table notebook</a>'\n",
              "            + ' to learn more about interactive tables.';\n",
              "          element.innerHTML = '';\n",
              "          dataTable['output_type'] = 'display_data';\n",
              "          await google.colab.output.renderOutput(dataTable, element);\n",
              "          const docLink = document.createElement('div');\n",
              "          docLink.innerHTML = docLinkHtml;\n",
              "          element.appendChild(docLink);\n",
              "        }\n",
              "      </script>\n",
              "    </div>\n",
              "  </div>\n",
              "  "
            ]
          },
          "metadata": {},
          "execution_count": 6
        }
      ]
    },
    {
      "cell_type": "code",
      "source": [
        "# Limit describe method to a specific column - in this case, discrete data - # of rows, # of unique values, most recent value, frequency of most common elements\n",
        "df['participant_id'].describe()\n",
        "# n=190 unique participants w/ n=8550 trials"
      ],
      "metadata": {
        "colab": {
          "base_uri": "https://localhost:8080/"
        },
        "id": "OKQzPe6uWZCw",
        "outputId": "88c1709e-c3b7-4841-a7b3-9e1524b51922"
      },
      "execution_count": null,
      "outputs": [
        {
          "output_type": "execute_result",
          "data": {
            "text/plain": [
              "count     8550\n",
              "unique     190\n",
              "top         A1\n",
              "freq        45\n",
              "Name: participant_id, dtype: object"
            ]
          },
          "metadata": {},
          "execution_count": 7
        }
      ]
    },
    {
      "cell_type": "code",
      "source": [
        "# Frequency of delay group categories (similar to proc freq, sorted by most frequent to least frequent)\n",
        "df['delay_group'].value_counts()"
      ],
      "metadata": {
        "colab": {
          "base_uri": "https://localhost:8080/"
        },
        "id": "Qf5_P6VPqrNS",
        "outputId": "23203904-f521-4a7c-8109-bda0d45d4bc4"
      },
      "execution_count": null,
      "outputs": [
        {
          "output_type": "execute_result",
          "data": {
            "text/plain": [
              "F          2250\n",
              "C          2205\n",
              "H          2205\n",
              "PRISMAF     945\n",
              "A           900\n",
              "E            45\n",
              "Name: delay_group, dtype: int64"
            ]
          },
          "metadata": {},
          "execution_count": 37
        }
      ]
    },
    {
      "cell_type": "code",
      "source": [
        "# Mean\n",
        "df.mean()"
      ],
      "metadata": {
        "colab": {
          "base_uri": "https://localhost:8080/"
        },
        "id": "FepWi5liW7cw",
        "outputId": "03daca28-8ecf-47ec-e464-1990e3d7f3a7"
      },
      "execution_count": null,
      "outputs": [
        {
          "output_type": "stream",
          "name": "stderr",
          "text": [
            "/usr/local/lib/python3.7/dist-packages/ipykernel_launcher.py:2: FutureWarning: Dropping of nuisance columns in DataFrame reductions (with 'numeric_only=None') is deprecated; in a future version this will raise TypeError.  Select only valid columns before calling the reduction.\n",
            "  \n"
          ]
        },
        {
          "output_type": "execute_result",
          "data": {
            "text/plain": [
              "study1_start       1.481107e+09\n",
              "study2_start       1.481108e+09\n",
              "study3_start       1.481109e+09\n",
              "study4_start       1.481109e+09\n",
              "study5_start       1.481110e+09\n",
              "jol_start          1.481111e+09\n",
              "recall_start       1.481385e+09\n",
              "jol_value          6.166515e+01\n",
              "recall_accuracy    4.181287e-01\n",
              "study_test_lag     4.583718e+03\n",
              "dtype: float64"
            ]
          },
          "metadata": {},
          "execution_count": 8
        }
      ]
    },
    {
      "cell_type": "markdown",
      "source": [
        "## Measures of Central Tendency\n"
      ],
      "metadata": {
        "id": "M1zeAcR6XJAA"
      }
    },
    {
      "cell_type": "code",
      "source": [
        "# Mode - value which is most common\n",
        "df['jol_value'].mode()\n",
        "# 100 is the most common judgement of learning (JOL) rating"
      ],
      "metadata": {
        "colab": {
          "base_uri": "https://localhost:8080/"
        },
        "id": "lVaX7frvXZiH",
        "outputId": "87b9ec81-1f54-4e5b-e20a-d4bc9c6f053b"
      },
      "execution_count": null,
      "outputs": [
        {
          "output_type": "execute_result",
          "data": {
            "text/plain": [
              "0    100\n",
              "dtype: int64"
            ]
          },
          "metadata": {},
          "execution_count": 9
        }
      ]
    },
    {
      "cell_type": "code",
      "source": [
        "# Mode - how often the mode appears\n",
        "df['jol_value'].value_counts()\n",
        "# 100 appears n=1616 times"
      ],
      "metadata": {
        "colab": {
          "base_uri": "https://localhost:8080/"
        },
        "id": "vqWWvqHrXsXH",
        "outputId": "d5997d7b-d390-461a-8050-dd9e37ccb2ea"
      },
      "execution_count": null,
      "outputs": [
        {
          "output_type": "execute_result",
          "data": {
            "text/plain": [
              "100    1616\n",
              "50      370\n",
              "80      324\n",
              "90      308\n",
              "70      302\n",
              "       ... \n",
              "4        23\n",
              "3        22\n",
              "2        20\n",
              "17       20\n",
              "27       17\n",
              "Name: jol_value, Length: 101, dtype: int64"
            ]
          },
          "metadata": {},
          "execution_count": 10
        }
      ]
    },
    {
      "cell_type": "code",
      "source": [
        "# Median - 50% above this value and 50% below (exact middle)\n",
        "df['jol_value'].median()"
      ],
      "metadata": {
        "colab": {
          "base_uri": "https://localhost:8080/"
        },
        "id": "_t5R7ANcX8gp",
        "outputId": "6ce51c9b-9e3a-4d3d-b01f-1fc8af4a48bf"
      },
      "execution_count": null,
      "outputs": [
        {
          "output_type": "execute_result",
          "data": {
            "text/plain": [
              "66.0"
            ]
          },
          "metadata": {},
          "execution_count": 11
        }
      ]
    },
    {
      "cell_type": "code",
      "source": [
        "# Mean - sum up numbers and divide by number of numbers\n",
        "df['jol_value'].mean()"
      ],
      "metadata": {
        "colab": {
          "base_uri": "https://localhost:8080/"
        },
        "id": "KNs4uIBcYDt9",
        "outputId": "7caefee9-c6f0-4eec-9aae-66bd8b1bd077"
      },
      "execution_count": null,
      "outputs": [
        {
          "output_type": "execute_result",
          "data": {
            "text/plain": [
              "61.665146198830406"
            ]
          },
          "metadata": {},
          "execution_count": 14
        }
      ]
    },
    {
      "cell_type": "code",
      "source": [
        "# Mean of all columns\n",
        "pd.set_option('display.float_format', lambda x: '%.2f' % x) #Get rid of scientific notation\n",
        "df.mean()"
      ],
      "metadata": {
        "colab": {
          "base_uri": "https://localhost:8080/"
        },
        "id": "_iBD9Q6lYR06",
        "outputId": "2acc2159-198e-4f38-f1b1-17eee79b54ef"
      },
      "execution_count": null,
      "outputs": [
        {
          "output_type": "stream",
          "name": "stderr",
          "text": [
            "/usr/local/lib/python3.7/dist-packages/ipykernel_launcher.py:3: FutureWarning: Dropping of nuisance columns in DataFrame reductions (with 'numeric_only=None') is deprecated; in a future version this will raise TypeError.  Select only valid columns before calling the reduction.\n",
            "  This is separate from the ipykernel package so we can avoid doing imports until\n"
          ]
        },
        {
          "output_type": "execute_result",
          "data": {
            "text/plain": [
              "study1_start      1481107321.68\n",
              "study2_start      1481107978.37\n",
              "study3_start      1481108649.99\n",
              "study4_start      1481109331.95\n",
              "study5_start      1481109973.13\n",
              "jol_start         1481110659.59\n",
              "recall_start      1481384996.22\n",
              "jol_value                 61.67\n",
              "recall_accuracy            0.42\n",
              "study_test_lag          4583.72\n",
              "dtype: float64"
            ]
          },
          "metadata": {},
          "execution_count": 21
        }
      ]
    },
    {
      "cell_type": "markdown",
      "source": [
        "## Measures of variability\n",
        "How spread out are the data.\n",
        "Use IQR or SD."
      ],
      "metadata": {
        "id": "Uojv64ExZQBo"
      }
    },
    {
      "cell_type": "code",
      "source": [
        "# Range - biggest values minus the smallest value\n",
        "# Max\n",
        "df['jol_value'].max()"
      ],
      "metadata": {
        "colab": {
          "base_uri": "https://localhost:8080/"
        },
        "id": "XwwVWlGoZSSP",
        "outputId": "4952ab12-f23c-49c4-8528-830fc09fbc7f"
      },
      "execution_count": null,
      "outputs": [
        {
          "output_type": "execute_result",
          "data": {
            "text/plain": [
              "100"
            ]
          },
          "metadata": {},
          "execution_count": 22
        }
      ]
    },
    {
      "cell_type": "code",
      "source": [
        "# Min\n",
        "df['jol_value'].min()"
      ],
      "metadata": {
        "colab": {
          "base_uri": "https://localhost:8080/"
        },
        "id": "2MoL3Bh3Zg2_",
        "outputId": "3c07525e-ac2d-4fc1-8ac3-6ede562216fa"
      },
      "execution_count": null,
      "outputs": [
        {
          "output_type": "execute_result",
          "data": {
            "text/plain": [
              "0"
            ]
          },
          "metadata": {},
          "execution_count": 24
        }
      ]
    },
    {
      "cell_type": "code",
      "source": [
        "# Max-min or range\n",
        "range_val=df['jol_value'].max()-df['jol_value'].min()\n",
        "range_val"
      ],
      "metadata": {
        "colab": {
          "base_uri": "https://localhost:8080/"
        },
        "id": "rD8DaFf7Zlxx",
        "outputId": "201ec2c4-78c6-4fed-c9f9-e1dcdadace05"
      },
      "execution_count": null,
      "outputs": [
        {
          "output_type": "execute_result",
          "data": {
            "text/plain": [
              "100"
            ]
          },
          "metadata": {},
          "execution_count": 25
        }
      ]
    },
    {
      "cell_type": "code",
      "source": [
        "# Interquartile range (IQR) - p75-p25 or range spanned by the middle half of the data\n",
        "iqr=df['jol_value'].quantile(q=0.75)-df['jol_value'].quantile(q=0.25)\n",
        "iqr"
      ],
      "metadata": {
        "colab": {
          "base_uri": "https://localhost:8080/"
        },
        "id": "TyHjpvlzZy7K",
        "outputId": "ff45c334-b3e0-437a-d6b1-a9193aabe11f"
      },
      "execution_count": null,
      "outputs": [
        {
          "output_type": "execute_result",
          "data": {
            "text/plain": [
              "54.0"
            ]
          },
          "metadata": {},
          "execution_count": 26
        }
      ]
    },
    {
      "cell_type": "code",
      "source": [
        "# Variance - Choose a meaningful reference point (e.g. mean or median) and then report the \"typical\" deviations from that reference point\n",
        "# Prefer squared deviations over absolute deviations aka mean square deviation (average of squared deviations from the mean)\n",
        "# NOTE: Most of the time, however, you’re not terribly interested in the sample in and of itself. Rather, the sample exists to tell you something about the world. \n",
        "# If so, you’re actually starting to move away from calculating a “sample statistic”, and towards the idea of estimating a “population parameter”.\n",
        "df['jol_value'].var(ddof=0)\n"
      ],
      "metadata": {
        "colab": {
          "base_uri": "https://localhost:8080/"
        },
        "id": "QRbY1yp-aIg5",
        "outputId": "6f913803-4578-4edf-c20c-d8f08b95313a"
      },
      "execution_count": null,
      "outputs": [
        {
          "output_type": "execute_result",
          "data": {
            "text/plain": [
              "1016.0016741014402"
            ]
          },
          "metadata": {},
          "execution_count": 28
        }
      ]
    },
    {
      "cell_type": "code",
      "source": [
        "# Standard deviation (SD)\n",
        "# Take the square root of the variance, known as the standard deviation, also called the “root mean squared deviation”, or RMSD\n",
        "# Much easier to understand “a standard deviation of 18.01 points”, since it’s expressed in the original units.\n",
        "df['jol_value'].std()"
      ],
      "metadata": {
        "colab": {
          "base_uri": "https://localhost:8080/"
        },
        "id": "Ut0k87c5bNtb",
        "outputId": "385686fd-bf11-4536-d31f-8e9ba2e76e51"
      },
      "execution_count": null,
      "outputs": [
        {
          "output_type": "execute_result",
          "data": {
            "text/plain": [
              "31.876645347441134"
            ]
          },
          "metadata": {},
          "execution_count": 29
        }
      ]
    },
    {
      "cell_type": "markdown",
      "source": [
        "## Remember to visualize data\n",
        "Remember Anscombe's Quartet from visualization chapter. Plot, compute descriptive stats-->if everything seems reasonable, then consider reporting only descriptive stats in the paper except for key findings."
      ],
      "metadata": {
        "id": "NIIHagYvb4vl"
      }
    },
    {
      "cell_type": "markdown",
      "source": [
        "## Sumarizing at different levels\n",
        "Apply descriptive stats by group."
      ],
      "metadata": {
        "id": "8PBnSh2gcP49"
      }
    },
    {
      "cell_type": "code",
      "source": [
        "# Average recall accuracy (memory performance score) by delay group\n",
        "df.groupby(\"delay_group\")['recall_accuracy'].mean()\n",
        "# Chain together different commands --> 1) group by delay_group 2) Use recall_accuracy column to compute mean\n",
        "# Memory performance got worse in those groups that had a longer delay between the initial and follow-up tests (groups E and H - 48hrs or more)"
      ],
      "metadata": {
        "colab": {
          "base_uri": "https://localhost:8080/"
        },
        "id": "nbrs670EccjN",
        "outputId": "da41e88d-694a-48dd-ac54-11be65dc0a2f"
      },
      "execution_count": null,
      "outputs": [
        {
          "output_type": "execute_result",
          "data": {
            "text/plain": [
              "delay_group\n",
              "A         0.61\n",
              "C         0.52\n",
              "E         0.22\n",
              "F         0.42\n",
              "H         0.25\n",
              "PRISMAF   0.37\n",
              "Name: recall_accuracy, dtype: float64"
            ]
          },
          "metadata": {},
          "execution_count": 30
        }
      ]
    },
    {
      "cell_type": "code",
      "source": [
        "# For A group, average recall accuracy (memory performance) by LT word\n",
        "df[df['delay_group']=='A'].groupby(\"lith_word_studied\")['recall_accuracy'].mean()"
      ],
      "metadata": {
        "colab": {
          "base_uri": "https://localhost:8080/"
        },
        "id": "fZQksE0OllKR",
        "outputId": "fd62e1bc-e8e7-4ca5-c337-0e934e631266"
      },
      "execution_count": null,
      "outputs": [
        {
          "output_type": "execute_result",
          "data": {
            "text/plain": [
              "lith_word_studied\n",
              "akis        0.90\n",
              "arbata      0.95\n",
              "batas       0.70\n",
              "bugnas      0.65\n",
              "burna       0.70\n",
              "daina       0.60\n",
              "dirzas      0.50\n",
              "duona       0.65\n",
              "gelezis     0.40\n",
              "kamuolys    0.40\n",
              "karalius    0.50\n",
              "kardas      0.45\n",
              "kirvis      0.20\n",
              "knyga       0.70\n",
              "kreida      0.55\n",
              "kriaukle    0.35\n",
              "kumpis      0.55\n",
              "kunigas     0.50\n",
              "laikrodis   0.50\n",
              "laiptelis   0.45\n",
              "lietus      0.45\n",
              "lova        1.00\n",
              "masina      0.55\n",
              "mesa        0.95\n",
              "miestas     0.50\n",
              "mokykla     0.80\n",
              "muilas      0.70\n",
              "nafta       0.80\n",
              "padazas     0.20\n",
              "pastatas    0.90\n",
              "pinigine    0.30\n",
              "plyta       0.55\n",
              "pupa        0.85\n",
              "purvas      0.60\n",
              "rusys       0.75\n",
              "sausainis   0.75\n",
              "sesuo       0.90\n",
              "smegenys    0.70\n",
              "smuikas     0.25\n",
              "tiltas      0.75\n",
              "traukinys   0.90\n",
              "upe         0.85\n",
              "vaistas     0.30\n",
              "varpas      0.15\n",
              "zele        0.95\n",
              "Name: recall_accuracy, dtype: float64"
            ]
          },
          "metadata": {},
          "execution_count": 32
        }
      ]
    },
    {
      "cell_type": "code",
      "source": [
        "# Group by multiple factors (group, LT word), average recall accuracy (memory performance) by LT word\n",
        "df.groupby([\"delay_group\",\"lith_word_studied\"])['recall_accuracy'].mean()\n",
        "# Notice how output is truncated to show just the first and last categories"
      ],
      "metadata": {
        "colab": {
          "base_uri": "https://localhost:8080/"
        },
        "id": "b7O15QTvqUpA",
        "outputId": "a28b8e32-c27e-43f6-e6ab-661c94aebc1e"
      },
      "execution_count": null,
      "outputs": [
        {
          "output_type": "execute_result",
          "data": {
            "text/plain": [
              "delay_group  lith_word_studied\n",
              "A            akis                0.90\n",
              "             arbata              0.95\n",
              "             batas               0.70\n",
              "             bugnas              0.65\n",
              "             burna               0.70\n",
              "                                 ... \n",
              "PRISMAF      traukinys           0.38\n",
              "             upe                 0.38\n",
              "             vaistas             0.24\n",
              "             varpas              0.24\n",
              "             zele                0.43\n",
              "Name: recall_accuracy, Length: 270, dtype: float64"
            ]
          },
          "metadata": {},
          "execution_count": 33
        }
      ]
    },
    {
      "cell_type": "code",
      "source": [
        "# Group by multiple factors --> transposed\n",
        "df.groupby([\"delay_group\",\"lith_word_studied\"])['recall_accuracy'].mean().unstack().transpose()"
      ],
      "metadata": {
        "colab": {
          "base_uri": "https://localhost:8080/",
          "height": 1000
        },
        "id": "M6wtsEJ4rhp-",
        "outputId": "18b877fe-75d6-4357-ac90-eb76a56851fb"
      },
      "execution_count": null,
      "outputs": [
        {
          "output_type": "execute_result",
          "data": {
            "text/plain": [
              "delay_group          A    C    E    F    H  PRISMAF\n",
              "lith_word_studied                                  \n",
              "akis              0.90 0.71 0.00 0.58 0.31     0.52\n",
              "arbata            0.95 0.59 0.00 0.44 0.20     0.43\n",
              "batas             0.70 0.53 0.00 0.34 0.35     0.43\n",
              "bugnas            0.65 0.51 1.00 0.50 0.24     0.33\n",
              "burna             0.70 0.63 0.00 0.54 0.20     0.43\n",
              "daina             0.60 0.59 0.00 0.46 0.39     0.43\n",
              "dirzas            0.50 0.37 0.00 0.30 0.18     0.24\n",
              "duona             0.65 0.53 0.00 0.42 0.24     0.33\n",
              "gelezis           0.40 0.41 0.00 0.24 0.12     0.29\n",
              "kamuolys          0.40 0.37 0.00 0.20 0.06     0.19\n",
              "karalius          0.50 0.55 1.00 0.52 0.29     0.43\n",
              "kardas            0.45 0.43 1.00 0.34 0.27     0.43\n",
              "kirvis            0.20 0.41 0.00 0.26 0.20     0.19\n",
              "knyga             0.70 0.49 0.00 0.36 0.24     0.33\n",
              "kreida            0.55 0.41 1.00 0.32 0.31     0.43\n",
              "kriaukle          0.35 0.27 1.00 0.16 0.08     0.24\n",
              "kumpis            0.55 0.35 0.00 0.28 0.12     0.19\n",
              "kunigas           0.50 0.39 0.00 0.34 0.22     0.33\n",
              "laikrodis         0.50 0.27 0.00 0.18 0.14     0.19\n",
              "laiptelis         0.45 0.27 0.00 0.34 0.12     0.24\n",
              "lietus            0.45 0.33 0.00 0.42 0.12     0.29\n",
              "lova              1.00 0.86 0.00 0.70 0.49     0.52\n",
              "masina            0.55 0.45 0.00 0.44 0.14     0.38\n",
              "mesa              0.95 0.92 1.00 0.82 0.65     0.52\n",
              "miestas           0.50 0.53 0.00 0.34 0.27     0.29\n",
              "mokykla           0.80 0.69 0.00 0.60 0.39     0.67\n",
              "muilas            0.70 0.47 0.00 0.28 0.18     0.29\n",
              "nafta             0.80 0.69 1.00 0.64 0.43     0.67\n",
              "padazas           0.20 0.31 0.00 0.18 0.04     0.14\n",
              "pastatas          0.90 0.80 1.00 0.74 0.51     0.57\n",
              "pinigine          0.30 0.47 0.00 0.32 0.06     0.14\n",
              "plyta             0.55 0.37 0.00 0.26 0.16     0.24\n",
              "pupa              0.85 0.73 1.00 0.66 0.35     0.76\n",
              "purvas            0.60 0.59 0.00 0.42 0.27     0.48\n",
              "rusys             0.75 0.59 0.00 0.46 0.16     0.24\n",
              "sausainis         0.75 0.63 0.00 0.50 0.31     0.38\n",
              "sesuo             0.90 0.80 0.00 0.60 0.43     0.67\n",
              "smegenys          0.70 0.65 0.00 0.50 0.27     0.48\n",
              "smuikas           0.25 0.33 0.00 0.14 0.16     0.38\n",
              "tiltas            0.75 0.53 0.00 0.54 0.31     0.43\n",
              "traukinys         0.90 0.71 0.00 0.62 0.29     0.38\n",
              "upe               0.85 0.69 0.00 0.52 0.31     0.38\n",
              "vaistas           0.30 0.39 0.00 0.38 0.06     0.24\n",
              "varpas            0.15 0.20 1.00 0.14 0.12     0.24\n",
              "zele              0.95 0.80 0.00 0.76 0.43     0.43"
            ],
            "text/html": [
              "\n",
              "  <div id=\"df-6b2e7b43-6dbb-4415-b84a-0d759ffc0efa\">\n",
              "    <div class=\"colab-df-container\">\n",
              "      <div>\n",
              "<style scoped>\n",
              "    .dataframe tbody tr th:only-of-type {\n",
              "        vertical-align: middle;\n",
              "    }\n",
              "\n",
              "    .dataframe tbody tr th {\n",
              "        vertical-align: top;\n",
              "    }\n",
              "\n",
              "    .dataframe thead th {\n",
              "        text-align: right;\n",
              "    }\n",
              "</style>\n",
              "<table border=\"1\" class=\"dataframe\">\n",
              "  <thead>\n",
              "    <tr style=\"text-align: right;\">\n",
              "      <th>delay_group</th>\n",
              "      <th>A</th>\n",
              "      <th>C</th>\n",
              "      <th>E</th>\n",
              "      <th>F</th>\n",
              "      <th>H</th>\n",
              "      <th>PRISMAF</th>\n",
              "    </tr>\n",
              "    <tr>\n",
              "      <th>lith_word_studied</th>\n",
              "      <th></th>\n",
              "      <th></th>\n",
              "      <th></th>\n",
              "      <th></th>\n",
              "      <th></th>\n",
              "      <th></th>\n",
              "    </tr>\n",
              "  </thead>\n",
              "  <tbody>\n",
              "    <tr>\n",
              "      <th>akis</th>\n",
              "      <td>0.90</td>\n",
              "      <td>0.71</td>\n",
              "      <td>0.00</td>\n",
              "      <td>0.58</td>\n",
              "      <td>0.31</td>\n",
              "      <td>0.52</td>\n",
              "    </tr>\n",
              "    <tr>\n",
              "      <th>arbata</th>\n",
              "      <td>0.95</td>\n",
              "      <td>0.59</td>\n",
              "      <td>0.00</td>\n",
              "      <td>0.44</td>\n",
              "      <td>0.20</td>\n",
              "      <td>0.43</td>\n",
              "    </tr>\n",
              "    <tr>\n",
              "      <th>batas</th>\n",
              "      <td>0.70</td>\n",
              "      <td>0.53</td>\n",
              "      <td>0.00</td>\n",
              "      <td>0.34</td>\n",
              "      <td>0.35</td>\n",
              "      <td>0.43</td>\n",
              "    </tr>\n",
              "    <tr>\n",
              "      <th>bugnas</th>\n",
              "      <td>0.65</td>\n",
              "      <td>0.51</td>\n",
              "      <td>1.00</td>\n",
              "      <td>0.50</td>\n",
              "      <td>0.24</td>\n",
              "      <td>0.33</td>\n",
              "    </tr>\n",
              "    <tr>\n",
              "      <th>burna</th>\n",
              "      <td>0.70</td>\n",
              "      <td>0.63</td>\n",
              "      <td>0.00</td>\n",
              "      <td>0.54</td>\n",
              "      <td>0.20</td>\n",
              "      <td>0.43</td>\n",
              "    </tr>\n",
              "    <tr>\n",
              "      <th>daina</th>\n",
              "      <td>0.60</td>\n",
              "      <td>0.59</td>\n",
              "      <td>0.00</td>\n",
              "      <td>0.46</td>\n",
              "      <td>0.39</td>\n",
              "      <td>0.43</td>\n",
              "    </tr>\n",
              "    <tr>\n",
              "      <th>dirzas</th>\n",
              "      <td>0.50</td>\n",
              "      <td>0.37</td>\n",
              "      <td>0.00</td>\n",
              "      <td>0.30</td>\n",
              "      <td>0.18</td>\n",
              "      <td>0.24</td>\n",
              "    </tr>\n",
              "    <tr>\n",
              "      <th>duona</th>\n",
              "      <td>0.65</td>\n",
              "      <td>0.53</td>\n",
              "      <td>0.00</td>\n",
              "      <td>0.42</td>\n",
              "      <td>0.24</td>\n",
              "      <td>0.33</td>\n",
              "    </tr>\n",
              "    <tr>\n",
              "      <th>gelezis</th>\n",
              "      <td>0.40</td>\n",
              "      <td>0.41</td>\n",
              "      <td>0.00</td>\n",
              "      <td>0.24</td>\n",
              "      <td>0.12</td>\n",
              "      <td>0.29</td>\n",
              "    </tr>\n",
              "    <tr>\n",
              "      <th>kamuolys</th>\n",
              "      <td>0.40</td>\n",
              "      <td>0.37</td>\n",
              "      <td>0.00</td>\n",
              "      <td>0.20</td>\n",
              "      <td>0.06</td>\n",
              "      <td>0.19</td>\n",
              "    </tr>\n",
              "    <tr>\n",
              "      <th>karalius</th>\n",
              "      <td>0.50</td>\n",
              "      <td>0.55</td>\n",
              "      <td>1.00</td>\n",
              "      <td>0.52</td>\n",
              "      <td>0.29</td>\n",
              "      <td>0.43</td>\n",
              "    </tr>\n",
              "    <tr>\n",
              "      <th>kardas</th>\n",
              "      <td>0.45</td>\n",
              "      <td>0.43</td>\n",
              "      <td>1.00</td>\n",
              "      <td>0.34</td>\n",
              "      <td>0.27</td>\n",
              "      <td>0.43</td>\n",
              "    </tr>\n",
              "    <tr>\n",
              "      <th>kirvis</th>\n",
              "      <td>0.20</td>\n",
              "      <td>0.41</td>\n",
              "      <td>0.00</td>\n",
              "      <td>0.26</td>\n",
              "      <td>0.20</td>\n",
              "      <td>0.19</td>\n",
              "    </tr>\n",
              "    <tr>\n",
              "      <th>knyga</th>\n",
              "      <td>0.70</td>\n",
              "      <td>0.49</td>\n",
              "      <td>0.00</td>\n",
              "      <td>0.36</td>\n",
              "      <td>0.24</td>\n",
              "      <td>0.33</td>\n",
              "    </tr>\n",
              "    <tr>\n",
              "      <th>kreida</th>\n",
              "      <td>0.55</td>\n",
              "      <td>0.41</td>\n",
              "      <td>1.00</td>\n",
              "      <td>0.32</td>\n",
              "      <td>0.31</td>\n",
              "      <td>0.43</td>\n",
              "    </tr>\n",
              "    <tr>\n",
              "      <th>kriaukle</th>\n",
              "      <td>0.35</td>\n",
              "      <td>0.27</td>\n",
              "      <td>1.00</td>\n",
              "      <td>0.16</td>\n",
              "      <td>0.08</td>\n",
              "      <td>0.24</td>\n",
              "    </tr>\n",
              "    <tr>\n",
              "      <th>kumpis</th>\n",
              "      <td>0.55</td>\n",
              "      <td>0.35</td>\n",
              "      <td>0.00</td>\n",
              "      <td>0.28</td>\n",
              "      <td>0.12</td>\n",
              "      <td>0.19</td>\n",
              "    </tr>\n",
              "    <tr>\n",
              "      <th>kunigas</th>\n",
              "      <td>0.50</td>\n",
              "      <td>0.39</td>\n",
              "      <td>0.00</td>\n",
              "      <td>0.34</td>\n",
              "      <td>0.22</td>\n",
              "      <td>0.33</td>\n",
              "    </tr>\n",
              "    <tr>\n",
              "      <th>laikrodis</th>\n",
              "      <td>0.50</td>\n",
              "      <td>0.27</td>\n",
              "      <td>0.00</td>\n",
              "      <td>0.18</td>\n",
              "      <td>0.14</td>\n",
              "      <td>0.19</td>\n",
              "    </tr>\n",
              "    <tr>\n",
              "      <th>laiptelis</th>\n",
              "      <td>0.45</td>\n",
              "      <td>0.27</td>\n",
              "      <td>0.00</td>\n",
              "      <td>0.34</td>\n",
              "      <td>0.12</td>\n",
              "      <td>0.24</td>\n",
              "    </tr>\n",
              "    <tr>\n",
              "      <th>lietus</th>\n",
              "      <td>0.45</td>\n",
              "      <td>0.33</td>\n",
              "      <td>0.00</td>\n",
              "      <td>0.42</td>\n",
              "      <td>0.12</td>\n",
              "      <td>0.29</td>\n",
              "    </tr>\n",
              "    <tr>\n",
              "      <th>lova</th>\n",
              "      <td>1.00</td>\n",
              "      <td>0.86</td>\n",
              "      <td>0.00</td>\n",
              "      <td>0.70</td>\n",
              "      <td>0.49</td>\n",
              "      <td>0.52</td>\n",
              "    </tr>\n",
              "    <tr>\n",
              "      <th>masina</th>\n",
              "      <td>0.55</td>\n",
              "      <td>0.45</td>\n",
              "      <td>0.00</td>\n",
              "      <td>0.44</td>\n",
              "      <td>0.14</td>\n",
              "      <td>0.38</td>\n",
              "    </tr>\n",
              "    <tr>\n",
              "      <th>mesa</th>\n",
              "      <td>0.95</td>\n",
              "      <td>0.92</td>\n",
              "      <td>1.00</td>\n",
              "      <td>0.82</td>\n",
              "      <td>0.65</td>\n",
              "      <td>0.52</td>\n",
              "    </tr>\n",
              "    <tr>\n",
              "      <th>miestas</th>\n",
              "      <td>0.50</td>\n",
              "      <td>0.53</td>\n",
              "      <td>0.00</td>\n",
              "      <td>0.34</td>\n",
              "      <td>0.27</td>\n",
              "      <td>0.29</td>\n",
              "    </tr>\n",
              "    <tr>\n",
              "      <th>mokykla</th>\n",
              "      <td>0.80</td>\n",
              "      <td>0.69</td>\n",
              "      <td>0.00</td>\n",
              "      <td>0.60</td>\n",
              "      <td>0.39</td>\n",
              "      <td>0.67</td>\n",
              "    </tr>\n",
              "    <tr>\n",
              "      <th>muilas</th>\n",
              "      <td>0.70</td>\n",
              "      <td>0.47</td>\n",
              "      <td>0.00</td>\n",
              "      <td>0.28</td>\n",
              "      <td>0.18</td>\n",
              "      <td>0.29</td>\n",
              "    </tr>\n",
              "    <tr>\n",
              "      <th>nafta</th>\n",
              "      <td>0.80</td>\n",
              "      <td>0.69</td>\n",
              "      <td>1.00</td>\n",
              "      <td>0.64</td>\n",
              "      <td>0.43</td>\n",
              "      <td>0.67</td>\n",
              "    </tr>\n",
              "    <tr>\n",
              "      <th>padazas</th>\n",
              "      <td>0.20</td>\n",
              "      <td>0.31</td>\n",
              "      <td>0.00</td>\n",
              "      <td>0.18</td>\n",
              "      <td>0.04</td>\n",
              "      <td>0.14</td>\n",
              "    </tr>\n",
              "    <tr>\n",
              "      <th>pastatas</th>\n",
              "      <td>0.90</td>\n",
              "      <td>0.80</td>\n",
              "      <td>1.00</td>\n",
              "      <td>0.74</td>\n",
              "      <td>0.51</td>\n",
              "      <td>0.57</td>\n",
              "    </tr>\n",
              "    <tr>\n",
              "      <th>pinigine</th>\n",
              "      <td>0.30</td>\n",
              "      <td>0.47</td>\n",
              "      <td>0.00</td>\n",
              "      <td>0.32</td>\n",
              "      <td>0.06</td>\n",
              "      <td>0.14</td>\n",
              "    </tr>\n",
              "    <tr>\n",
              "      <th>plyta</th>\n",
              "      <td>0.55</td>\n",
              "      <td>0.37</td>\n",
              "      <td>0.00</td>\n",
              "      <td>0.26</td>\n",
              "      <td>0.16</td>\n",
              "      <td>0.24</td>\n",
              "    </tr>\n",
              "    <tr>\n",
              "      <th>pupa</th>\n",
              "      <td>0.85</td>\n",
              "      <td>0.73</td>\n",
              "      <td>1.00</td>\n",
              "      <td>0.66</td>\n",
              "      <td>0.35</td>\n",
              "      <td>0.76</td>\n",
              "    </tr>\n",
              "    <tr>\n",
              "      <th>purvas</th>\n",
              "      <td>0.60</td>\n",
              "      <td>0.59</td>\n",
              "      <td>0.00</td>\n",
              "      <td>0.42</td>\n",
              "      <td>0.27</td>\n",
              "      <td>0.48</td>\n",
              "    </tr>\n",
              "    <tr>\n",
              "      <th>rusys</th>\n",
              "      <td>0.75</td>\n",
              "      <td>0.59</td>\n",
              "      <td>0.00</td>\n",
              "      <td>0.46</td>\n",
              "      <td>0.16</td>\n",
              "      <td>0.24</td>\n",
              "    </tr>\n",
              "    <tr>\n",
              "      <th>sausainis</th>\n",
              "      <td>0.75</td>\n",
              "      <td>0.63</td>\n",
              "      <td>0.00</td>\n",
              "      <td>0.50</td>\n",
              "      <td>0.31</td>\n",
              "      <td>0.38</td>\n",
              "    </tr>\n",
              "    <tr>\n",
              "      <th>sesuo</th>\n",
              "      <td>0.90</td>\n",
              "      <td>0.80</td>\n",
              "      <td>0.00</td>\n",
              "      <td>0.60</td>\n",
              "      <td>0.43</td>\n",
              "      <td>0.67</td>\n",
              "    </tr>\n",
              "    <tr>\n",
              "      <th>smegenys</th>\n",
              "      <td>0.70</td>\n",
              "      <td>0.65</td>\n",
              "      <td>0.00</td>\n",
              "      <td>0.50</td>\n",
              "      <td>0.27</td>\n",
              "      <td>0.48</td>\n",
              "    </tr>\n",
              "    <tr>\n",
              "      <th>smuikas</th>\n",
              "      <td>0.25</td>\n",
              "      <td>0.33</td>\n",
              "      <td>0.00</td>\n",
              "      <td>0.14</td>\n",
              "      <td>0.16</td>\n",
              "      <td>0.38</td>\n",
              "    </tr>\n",
              "    <tr>\n",
              "      <th>tiltas</th>\n",
              "      <td>0.75</td>\n",
              "      <td>0.53</td>\n",
              "      <td>0.00</td>\n",
              "      <td>0.54</td>\n",
              "      <td>0.31</td>\n",
              "      <td>0.43</td>\n",
              "    </tr>\n",
              "    <tr>\n",
              "      <th>traukinys</th>\n",
              "      <td>0.90</td>\n",
              "      <td>0.71</td>\n",
              "      <td>0.00</td>\n",
              "      <td>0.62</td>\n",
              "      <td>0.29</td>\n",
              "      <td>0.38</td>\n",
              "    </tr>\n",
              "    <tr>\n",
              "      <th>upe</th>\n",
              "      <td>0.85</td>\n",
              "      <td>0.69</td>\n",
              "      <td>0.00</td>\n",
              "      <td>0.52</td>\n",
              "      <td>0.31</td>\n",
              "      <td>0.38</td>\n",
              "    </tr>\n",
              "    <tr>\n",
              "      <th>vaistas</th>\n",
              "      <td>0.30</td>\n",
              "      <td>0.39</td>\n",
              "      <td>0.00</td>\n",
              "      <td>0.38</td>\n",
              "      <td>0.06</td>\n",
              "      <td>0.24</td>\n",
              "    </tr>\n",
              "    <tr>\n",
              "      <th>varpas</th>\n",
              "      <td>0.15</td>\n",
              "      <td>0.20</td>\n",
              "      <td>1.00</td>\n",
              "      <td>0.14</td>\n",
              "      <td>0.12</td>\n",
              "      <td>0.24</td>\n",
              "    </tr>\n",
              "    <tr>\n",
              "      <th>zele</th>\n",
              "      <td>0.95</td>\n",
              "      <td>0.80</td>\n",
              "      <td>0.00</td>\n",
              "      <td>0.76</td>\n",
              "      <td>0.43</td>\n",
              "      <td>0.43</td>\n",
              "    </tr>\n",
              "  </tbody>\n",
              "</table>\n",
              "</div>\n",
              "      <button class=\"colab-df-convert\" onclick=\"convertToInteractive('df-6b2e7b43-6dbb-4415-b84a-0d759ffc0efa')\"\n",
              "              title=\"Convert this dataframe to an interactive table.\"\n",
              "              style=\"display:none;\">\n",
              "        \n",
              "  <svg xmlns=\"http://www.w3.org/2000/svg\" height=\"24px\"viewBox=\"0 0 24 24\"\n",
              "       width=\"24px\">\n",
              "    <path d=\"M0 0h24v24H0V0z\" fill=\"none\"/>\n",
              "    <path d=\"M18.56 5.44l.94 2.06.94-2.06 2.06-.94-2.06-.94-.94-2.06-.94 2.06-2.06.94zm-11 1L8.5 8.5l.94-2.06 2.06-.94-2.06-.94L8.5 2.5l-.94 2.06-2.06.94zm10 10l.94 2.06.94-2.06 2.06-.94-2.06-.94-.94-2.06-.94 2.06-2.06.94z\"/><path d=\"M17.41 7.96l-1.37-1.37c-.4-.4-.92-.59-1.43-.59-.52 0-1.04.2-1.43.59L10.3 9.45l-7.72 7.72c-.78.78-.78 2.05 0 2.83L4 21.41c.39.39.9.59 1.41.59.51 0 1.02-.2 1.41-.59l7.78-7.78 2.81-2.81c.8-.78.8-2.07 0-2.86zM5.41 20L4 18.59l7.72-7.72 1.47 1.35L5.41 20z\"/>\n",
              "  </svg>\n",
              "      </button>\n",
              "      \n",
              "  <style>\n",
              "    .colab-df-container {\n",
              "      display:flex;\n",
              "      flex-wrap:wrap;\n",
              "      gap: 12px;\n",
              "    }\n",
              "\n",
              "    .colab-df-convert {\n",
              "      background-color: #E8F0FE;\n",
              "      border: none;\n",
              "      border-radius: 50%;\n",
              "      cursor: pointer;\n",
              "      display: none;\n",
              "      fill: #1967D2;\n",
              "      height: 32px;\n",
              "      padding: 0 0 0 0;\n",
              "      width: 32px;\n",
              "    }\n",
              "\n",
              "    .colab-df-convert:hover {\n",
              "      background-color: #E2EBFA;\n",
              "      box-shadow: 0px 1px 2px rgba(60, 64, 67, 0.3), 0px 1px 3px 1px rgba(60, 64, 67, 0.15);\n",
              "      fill: #174EA6;\n",
              "    }\n",
              "\n",
              "    [theme=dark] .colab-df-convert {\n",
              "      background-color: #3B4455;\n",
              "      fill: #D2E3FC;\n",
              "    }\n",
              "\n",
              "    [theme=dark] .colab-df-convert:hover {\n",
              "      background-color: #434B5C;\n",
              "      box-shadow: 0px 1px 3px 1px rgba(0, 0, 0, 0.15);\n",
              "      filter: drop-shadow(0px 1px 2px rgba(0, 0, 0, 0.3));\n",
              "      fill: #FFFFFF;\n",
              "    }\n",
              "  </style>\n",
              "\n",
              "      <script>\n",
              "        const buttonEl =\n",
              "          document.querySelector('#df-6b2e7b43-6dbb-4415-b84a-0d759ffc0efa button.colab-df-convert');\n",
              "        buttonEl.style.display =\n",
              "          google.colab.kernel.accessAllowed ? 'block' : 'none';\n",
              "\n",
              "        async function convertToInteractive(key) {\n",
              "          const element = document.querySelector('#df-6b2e7b43-6dbb-4415-b84a-0d759ffc0efa');\n",
              "          const dataTable =\n",
              "            await google.colab.kernel.invokeFunction('convertToInteractive',\n",
              "                                                     [key], {});\n",
              "          if (!dataTable) return;\n",
              "\n",
              "          const docLinkHtml = 'Like what you see? Visit the ' +\n",
              "            '<a target=\"_blank\" href=https://colab.research.google.com/notebooks/data_table.ipynb>data table notebook</a>'\n",
              "            + ' to learn more about interactive tables.';\n",
              "          element.innerHTML = '';\n",
              "          dataTable['output_type'] = 'display_data';\n",
              "          await google.colab.output.renderOutput(dataTable, element);\n",
              "          const docLink = document.createElement('div');\n",
              "          docLink.innerHTML = docLinkHtml;\n",
              "          element.appendChild(docLink);\n",
              "        }\n",
              "      </script>\n",
              "    </div>\n",
              "  </div>\n",
              "  "
            ]
          },
          "metadata": {},
          "execution_count": 38
        }
      ]
    },
    {
      "cell_type": "code",
      "source": [
        "# Aggregation - average recall accuracy (memory performance) by participant\n",
        "df.groupby(\"participant_id\").agg(delay_group=pd.NamedAgg(column='delay_group', aggfunc='first'),\n",
        "                                 recall_accuracy=pd.NamedAgg(column='recall_accuracy', aggfunc='mean')).reset_index()\n"
      ],
      "metadata": {
        "colab": {
          "base_uri": "https://localhost:8080/",
          "height": 424
        },
        "id": "XdFmA8ZBrzUE",
        "outputId": "a1481f06-ca77-46c0-e89c-c6f2c6294f59"
      },
      "execution_count": null,
      "outputs": [
        {
          "output_type": "execute_result",
          "data": {
            "text/plain": [
              "    participant_id delay_group  recall_accuracy\n",
              "0               A1           A             0.64\n",
              "1              A10           A             0.56\n",
              "2              A11           A             0.44\n",
              "3              A12           A             0.96\n",
              "4              A13           A             0.40\n",
              "..             ...         ...              ...\n",
              "185      PRISMAF28     PRISMAF             0.24\n",
              "186      PRISMAF29     PRISMAF             0.64\n",
              "187      PRISMAF30     PRISMAF             0.87\n",
              "188      PRISMAF31     PRISMAF             0.51\n",
              "189      PRISMAF32     PRISMAF             0.22\n",
              "\n",
              "[190 rows x 3 columns]"
            ],
            "text/html": [
              "\n",
              "  <div id=\"df-be55bb56-fb75-4c02-b951-f2e59bcb7999\">\n",
              "    <div class=\"colab-df-container\">\n",
              "      <div>\n",
              "<style scoped>\n",
              "    .dataframe tbody tr th:only-of-type {\n",
              "        vertical-align: middle;\n",
              "    }\n",
              "\n",
              "    .dataframe tbody tr th {\n",
              "        vertical-align: top;\n",
              "    }\n",
              "\n",
              "    .dataframe thead th {\n",
              "        text-align: right;\n",
              "    }\n",
              "</style>\n",
              "<table border=\"1\" class=\"dataframe\">\n",
              "  <thead>\n",
              "    <tr style=\"text-align: right;\">\n",
              "      <th></th>\n",
              "      <th>participant_id</th>\n",
              "      <th>delay_group</th>\n",
              "      <th>recall_accuracy</th>\n",
              "    </tr>\n",
              "  </thead>\n",
              "  <tbody>\n",
              "    <tr>\n",
              "      <th>0</th>\n",
              "      <td>A1</td>\n",
              "      <td>A</td>\n",
              "      <td>0.64</td>\n",
              "    </tr>\n",
              "    <tr>\n",
              "      <th>1</th>\n",
              "      <td>A10</td>\n",
              "      <td>A</td>\n",
              "      <td>0.56</td>\n",
              "    </tr>\n",
              "    <tr>\n",
              "      <th>2</th>\n",
              "      <td>A11</td>\n",
              "      <td>A</td>\n",
              "      <td>0.44</td>\n",
              "    </tr>\n",
              "    <tr>\n",
              "      <th>3</th>\n",
              "      <td>A12</td>\n",
              "      <td>A</td>\n",
              "      <td>0.96</td>\n",
              "    </tr>\n",
              "    <tr>\n",
              "      <th>4</th>\n",
              "      <td>A13</td>\n",
              "      <td>A</td>\n",
              "      <td>0.40</td>\n",
              "    </tr>\n",
              "    <tr>\n",
              "      <th>...</th>\n",
              "      <td>...</td>\n",
              "      <td>...</td>\n",
              "      <td>...</td>\n",
              "    </tr>\n",
              "    <tr>\n",
              "      <th>185</th>\n",
              "      <td>PRISMAF28</td>\n",
              "      <td>PRISMAF</td>\n",
              "      <td>0.24</td>\n",
              "    </tr>\n",
              "    <tr>\n",
              "      <th>186</th>\n",
              "      <td>PRISMAF29</td>\n",
              "      <td>PRISMAF</td>\n",
              "      <td>0.64</td>\n",
              "    </tr>\n",
              "    <tr>\n",
              "      <th>187</th>\n",
              "      <td>PRISMAF30</td>\n",
              "      <td>PRISMAF</td>\n",
              "      <td>0.87</td>\n",
              "    </tr>\n",
              "    <tr>\n",
              "      <th>188</th>\n",
              "      <td>PRISMAF31</td>\n",
              "      <td>PRISMAF</td>\n",
              "      <td>0.51</td>\n",
              "    </tr>\n",
              "    <tr>\n",
              "      <th>189</th>\n",
              "      <td>PRISMAF32</td>\n",
              "      <td>PRISMAF</td>\n",
              "      <td>0.22</td>\n",
              "    </tr>\n",
              "  </tbody>\n",
              "</table>\n",
              "<p>190 rows × 3 columns</p>\n",
              "</div>\n",
              "      <button class=\"colab-df-convert\" onclick=\"convertToInteractive('df-be55bb56-fb75-4c02-b951-f2e59bcb7999')\"\n",
              "              title=\"Convert this dataframe to an interactive table.\"\n",
              "              style=\"display:none;\">\n",
              "        \n",
              "  <svg xmlns=\"http://www.w3.org/2000/svg\" height=\"24px\"viewBox=\"0 0 24 24\"\n",
              "       width=\"24px\">\n",
              "    <path d=\"M0 0h24v24H0V0z\" fill=\"none\"/>\n",
              "    <path d=\"M18.56 5.44l.94 2.06.94-2.06 2.06-.94-2.06-.94-.94-2.06-.94 2.06-2.06.94zm-11 1L8.5 8.5l.94-2.06 2.06-.94-2.06-.94L8.5 2.5l-.94 2.06-2.06.94zm10 10l.94 2.06.94-2.06 2.06-.94-2.06-.94-.94-2.06-.94 2.06-2.06.94z\"/><path d=\"M17.41 7.96l-1.37-1.37c-.4-.4-.92-.59-1.43-.59-.52 0-1.04.2-1.43.59L10.3 9.45l-7.72 7.72c-.78.78-.78 2.05 0 2.83L4 21.41c.39.39.9.59 1.41.59.51 0 1.02-.2 1.41-.59l7.78-7.78 2.81-2.81c.8-.78.8-2.07 0-2.86zM5.41 20L4 18.59l7.72-7.72 1.47 1.35L5.41 20z\"/>\n",
              "  </svg>\n",
              "      </button>\n",
              "      \n",
              "  <style>\n",
              "    .colab-df-container {\n",
              "      display:flex;\n",
              "      flex-wrap:wrap;\n",
              "      gap: 12px;\n",
              "    }\n",
              "\n",
              "    .colab-df-convert {\n",
              "      background-color: #E8F0FE;\n",
              "      border: none;\n",
              "      border-radius: 50%;\n",
              "      cursor: pointer;\n",
              "      display: none;\n",
              "      fill: #1967D2;\n",
              "      height: 32px;\n",
              "      padding: 0 0 0 0;\n",
              "      width: 32px;\n",
              "    }\n",
              "\n",
              "    .colab-df-convert:hover {\n",
              "      background-color: #E2EBFA;\n",
              "      box-shadow: 0px 1px 2px rgba(60, 64, 67, 0.3), 0px 1px 3px 1px rgba(60, 64, 67, 0.15);\n",
              "      fill: #174EA6;\n",
              "    }\n",
              "\n",
              "    [theme=dark] .colab-df-convert {\n",
              "      background-color: #3B4455;\n",
              "      fill: #D2E3FC;\n",
              "    }\n",
              "\n",
              "    [theme=dark] .colab-df-convert:hover {\n",
              "      background-color: #434B5C;\n",
              "      box-shadow: 0px 1px 3px 1px rgba(0, 0, 0, 0.15);\n",
              "      filter: drop-shadow(0px 1px 2px rgba(0, 0, 0, 0.3));\n",
              "      fill: #FFFFFF;\n",
              "    }\n",
              "  </style>\n",
              "\n",
              "      <script>\n",
              "        const buttonEl =\n",
              "          document.querySelector('#df-be55bb56-fb75-4c02-b951-f2e59bcb7999 button.colab-df-convert');\n",
              "        buttonEl.style.display =\n",
              "          google.colab.kernel.accessAllowed ? 'block' : 'none';\n",
              "\n",
              "        async function convertToInteractive(key) {\n",
              "          const element = document.querySelector('#df-be55bb56-fb75-4c02-b951-f2e59bcb7999');\n",
              "          const dataTable =\n",
              "            await google.colab.kernel.invokeFunction('convertToInteractive',\n",
              "                                                     [key], {});\n",
              "          if (!dataTable) return;\n",
              "\n",
              "          const docLinkHtml = 'Like what you see? Visit the ' +\n",
              "            '<a target=\"_blank\" href=https://colab.research.google.com/notebooks/data_table.ipynb>data table notebook</a>'\n",
              "            + ' to learn more about interactive tables.';\n",
              "          element.innerHTML = '';\n",
              "          dataTable['output_type'] = 'display_data';\n",
              "          await google.colab.output.renderOutput(dataTable, element);\n",
              "          const docLink = document.createElement('div');\n",
              "          docLink.innerHTML = docLinkHtml;\n",
              "          element.appendChild(docLink);\n",
              "        }\n",
              "      </script>\n",
              "    </div>\n",
              "  </div>\n",
              "  "
            ]
          },
          "metadata": {},
          "execution_count": 39
        }
      ]
    },
    {
      "cell_type": "markdown",
      "source": [
        "## Custom descriptive statistics"
      ],
      "metadata": {
        "id": "wPWvMZaJtQHE"
      }
    },
    {
      "cell_type": "code",
      "source": [
        "# Mean absolute deviation\n",
        "# Similar to mean squared deviation used in the normal variance but instead of squaring the numbers we take their absolute value.\n",
        "def mean_abs_deviation(x):\n",
        "  return np.mean(np.abs(x-x.mean()))\n",
        "df.groupby('participant_id')['jol_value'].apply(mean_abs_deviation)"
      ],
      "metadata": {
        "colab": {
          "base_uri": "https://localhost:8080/"
        },
        "id": "LZMtkRlItV05",
        "outputId": "a735871a-ebec-4d1a-ac19-7dea79a449b4"
      },
      "execution_count": null,
      "outputs": [
        {
          "output_type": "execute_result",
          "data": {
            "text/plain": [
              "participant_id\n",
              "A1          13.56\n",
              "A10         25.72\n",
              "A11         16.19\n",
              "A12          4.93\n",
              "A13         20.85\n",
              "             ... \n",
              "PRISMAF28   23.78\n",
              "PRISMAF29   18.27\n",
              "PRISMAF30   21.90\n",
              "PRISMAF31   10.64\n",
              "PRISMAF32   23.98\n",
              "Name: jol_value, Length: 190, dtype: float64"
            ]
          },
          "metadata": {},
          "execution_count": 42
        }
      ]
    },
    {
      "cell_type": "markdown",
      "source": [
        "## Correlations and Covariance\n",
        "Describe relationship between two variables (instead of just summarizing the properties of a single var).\n",
        "\n",
        "## Strength and direction of a relationship"
      ],
      "metadata": {
        "id": "V4vjIJrZua2S"
      }
    },
    {
      "cell_type": "code",
      "source": [
        "# Create average JOL and average recall accuracy for each word - store in new df\n",
        "corr_df = df.groupby(\"lith_word_studied\")[['jol_value','recall_accuracy']].mean().reset_index()"
      ],
      "metadata": {
        "id": "8rXpGeADu2uJ"
      },
      "execution_count": null,
      "outputs": []
    },
    {
      "cell_type": "code",
      "source": [
        "# Plot\n",
        "sns.scatterplot(x='jol_value', y='recall_accuracy', data=corr_df)\n",
        "# Average JOL rating associated with recall accuracy (higher JOL values given to words more accurately remembered)"
      ],
      "metadata": {
        "colab": {
          "base_uri": "https://localhost:8080/",
          "height": 297
        },
        "id": "R1Q61WbcvQya",
        "outputId": "5ae99cf7-c73d-48b0-d956-fd8522965600"
      },
      "execution_count": null,
      "outputs": [
        {
          "output_type": "execute_result",
          "data": {
            "text/plain": [
              "<matplotlib.axes._subplots.AxesSubplot at 0x7f6f5a8ec6d0>"
            ]
          },
          "metadata": {},
          "execution_count": 69
        },
        {
          "output_type": "display_data",
          "data": {
            "text/plain": [
              "<Figure size 432x288 with 1 Axes>"
            ],
            "image/png": "[encoded data removed]"
          },
          "metadata": {
            "needs_background": "light"
          }
        }
      ]
    },
    {
      "cell_type": "markdown",
      "source": [
        "## Correlation coefficient\n",
        "Traditionally denoted by 𝑟 (to get these characters in Jupyter notebook, type \"/alpha\").\n",
        "\n",
        "-1-->perfect negative relationship between vars (think of a 45 degree line)\n",
        "\n",
        "1-->perfect positive relationship (think of a 45 degree line)\n",
        "\n",
        "0-->no relationship (think of a scatterplot with no clear pattern)\n",
        "\n",
        "Interpretation of a correlation depends a lot on the context."
      ],
      "metadata": {
        "id": "XPoHDwp02D7W"
      }
    },
    {
      "cell_type": "markdown",
      "source": [
        "## Calculating correlations in Python\n",
        "Can use Scipy, Numpy, or Pandas."
      ],
      "metadata": {
        "id": "wfetd9g23Epk"
      }
    },
    {
      "cell_type": "code",
      "source": [
        "# Pearson correlation coefficient using Scipy\n",
        "# Measure of the extent to which the data all tend to fall on a single, perfectly straight line\n",
        "import scipy.stats as stats\n",
        "stats.pearsonr( x = corr_df['jol_value'], y = corr_df['recall_accuracy'] )"
      ],
      "metadata": {
        "colab": {
          "base_uri": "https://localhost:8080/"
        },
        "id": "b3u5O8mI2Cq_",
        "outputId": "f7915ce9-8353-4301-94a8-a03835e67fa2"
      },
      "execution_count": null,
      "outputs": [
        {
          "output_type": "execute_result",
          "data": {
            "text/plain": [
              "(0.9274668603778027, 5.528157257418477e-20)"
            ]
          },
          "metadata": {},
          "execution_count": 70
        }
      ]
    },
    {
      "cell_type": "code",
      "source": [
        "# Pearson correlation coefficient using Pandas (correlation matrix)\n",
        "corr_df.corr()"
      ],
      "metadata": {
        "colab": {
          "base_uri": "https://localhost:8080/",
          "height": 112
        },
        "id": "_yz6r4Im3UhA",
        "outputId": "779456ec-7607-4d28-bc33-2c8b754a3a42"
      },
      "execution_count": null,
      "outputs": [
        {
          "output_type": "execute_result",
          "data": {
            "text/plain": [
              "                 jol_value  recall_accuracy\n",
              "jol_value             1.00             0.93\n",
              "recall_accuracy       0.93             1.00"
            ],
            "text/html": [
              "\n",
              "  <div id=\"df-7623d473-79e8-4ae9-98a3-e3c8be44945c\">\n",
              "    <div class=\"colab-df-container\">\n",
              "      <div>\n",
              "<style scoped>\n",
              "    .dataframe tbody tr th:only-of-type {\n",
              "        vertical-align: middle;\n",
              "    }\n",
              "\n",
              "    .dataframe tbody tr th {\n",
              "        vertical-align: top;\n",
              "    }\n",
              "\n",
              "    .dataframe thead th {\n",
              "        text-align: right;\n",
              "    }\n",
              "</style>\n",
              "<table border=\"1\" class=\"dataframe\">\n",
              "  <thead>\n",
              "    <tr style=\"text-align: right;\">\n",
              "      <th></th>\n",
              "      <th>jol_value</th>\n",
              "      <th>recall_accuracy</th>\n",
              "    </tr>\n",
              "  </thead>\n",
              "  <tbody>\n",
              "    <tr>\n",
              "      <th>jol_value</th>\n",
              "      <td>1.00</td>\n",
              "      <td>0.93</td>\n",
              "    </tr>\n",
              "    <tr>\n",
              "      <th>recall_accuracy</th>\n",
              "      <td>0.93</td>\n",
              "      <td>1.00</td>\n",
              "    </tr>\n",
              "  </tbody>\n",
              "</table>\n",
              "</div>\n",
              "      <button class=\"colab-df-convert\" onclick=\"convertToInteractive('df-7623d473-79e8-4ae9-98a3-e3c8be44945c')\"\n",
              "              title=\"Convert this dataframe to an interactive table.\"\n",
              "              style=\"display:none;\">\n",
              "        \n",
              "  <svg xmlns=\"http://www.w3.org/2000/svg\" height=\"24px\"viewBox=\"0 0 24 24\"\n",
              "       width=\"24px\">\n",
              "    <path d=\"M0 0h24v24H0V0z\" fill=\"none\"/>\n",
              "    <path d=\"M18.56 5.44l.94 2.06.94-2.06 2.06-.94-2.06-.94-.94-2.06-.94 2.06-2.06.94zm-11 1L8.5 8.5l.94-2.06 2.06-.94-2.06-.94L8.5 2.5l-.94 2.06-2.06.94zm10 10l.94 2.06.94-2.06 2.06-.94-2.06-.94-.94-2.06-.94 2.06-2.06.94z\"/><path d=\"M17.41 7.96l-1.37-1.37c-.4-.4-.92-.59-1.43-.59-.52 0-1.04.2-1.43.59L10.3 9.45l-7.72 7.72c-.78.78-.78 2.05 0 2.83L4 21.41c.39.39.9.59 1.41.59.51 0 1.02-.2 1.41-.59l7.78-7.78 2.81-2.81c.8-.78.8-2.07 0-2.86zM5.41 20L4 18.59l7.72-7.72 1.47 1.35L5.41 20z\"/>\n",
              "  </svg>\n",
              "      </button>\n",
              "      \n",
              "  <style>\n",
              "    .colab-df-container {\n",
              "      display:flex;\n",
              "      flex-wrap:wrap;\n",
              "      gap: 12px;\n",
              "    }\n",
              "\n",
              "    .colab-df-convert {\n",
              "      background-color: #E8F0FE;\n",
              "      border: none;\n",
              "      border-radius: 50%;\n",
              "      cursor: pointer;\n",
              "      display: none;\n",
              "      fill: #1967D2;\n",
              "      height: 32px;\n",
              "      padding: 0 0 0 0;\n",
              "      width: 32px;\n",
              "    }\n",
              "\n",
              "    .colab-df-convert:hover {\n",
              "      background-color: #E2EBFA;\n",
              "      box-shadow: 0px 1px 2px rgba(60, 64, 67, 0.3), 0px 1px 3px 1px rgba(60, 64, 67, 0.15);\n",
              "      fill: #174EA6;\n",
              "    }\n",
              "\n",
              "    [theme=dark] .colab-df-convert {\n",
              "      background-color: #3B4455;\n",
              "      fill: #D2E3FC;\n",
              "    }\n",
              "\n",
              "    [theme=dark] .colab-df-convert:hover {\n",
              "      background-color: #434B5C;\n",
              "      box-shadow: 0px 1px 3px 1px rgba(0, 0, 0, 0.15);\n",
              "      filter: drop-shadow(0px 1px 2px rgba(0, 0, 0, 0.3));\n",
              "      fill: #FFFFFF;\n",
              "    }\n",
              "  </style>\n",
              "\n",
              "      <script>\n",
              "        const buttonEl =\n",
              "          document.querySelector('#df-7623d473-79e8-4ae9-98a3-e3c8be44945c button.colab-df-convert');\n",
              "        buttonEl.style.display =\n",
              "          google.colab.kernel.accessAllowed ? 'block' : 'none';\n",
              "\n",
              "        async function convertToInteractive(key) {\n",
              "          const element = document.querySelector('#df-7623d473-79e8-4ae9-98a3-e3c8be44945c');\n",
              "          const dataTable =\n",
              "            await google.colab.kernel.invokeFunction('convertToInteractive',\n",
              "                                                     [key], {});\n",
              "          if (!dataTable) return;\n",
              "\n",
              "          const docLinkHtml = 'Like what you see? Visit the ' +\n",
              "            '<a target=\"_blank\" href=https://colab.research.google.com/notebooks/data_table.ipynb>data table notebook</a>'\n",
              "            + ' to learn more about interactive tables.';\n",
              "          element.innerHTML = '';\n",
              "          dataTable['output_type'] = 'display_data';\n",
              "          await google.colab.output.renderOutput(dataTable, element);\n",
              "          const docLink = document.createElement('div');\n",
              "          docLink.innerHTML = docLinkHtml;\n",
              "          element.appendChild(docLink);\n",
              "        }\n",
              "      </script>\n",
              "    </div>\n",
              "  </div>\n",
              "  "
            ]
          },
          "metadata": {},
          "execution_count": 71
        }
      ]
    },
    {
      "cell_type": "code",
      "source": [
        "# Spearmans rank correlations\n",
        "# Non-linear\n",
        "# Relationship between hours worked and grade\n",
        "# Upload grades csv (1. Copy and paste into Google sheets 2. Download as .csv. 3. Import into sample_data/)\n",
        "grades_df = pd.read_csv('sample_data/grades.csv')\n",
        "grades_df"
      ],
      "metadata": {
        "colab": {
          "base_uri": "https://localhost:8080/",
          "height": 363
        },
        "id": "ZS6CN8iX3xoR",
        "outputId": "a1fbfc2d-6296-4454-f5bf-fc38ecbbf517"
      },
      "execution_count": 76,
      "outputs": [
        {
          "output_type": "execute_result",
          "data": {
            "text/plain": [
              "   id  hours  grade\n",
              "0   0      2     13\n",
              "1   1     76     91\n",
              "2   2     40     79\n",
              "3   3      6     14\n",
              "4   4     16     21\n",
              "5   5     28     74\n",
              "6   6     27     47\n",
              "7   7     59     85\n",
              "8   8     46     84\n",
              "9   9     68     88"
            ],
            "text/html": [
              "\n",
              "  <div id=\"df-9f6ba66a-2348-4358-9914-b4493ba063ec\">\n",
              "    <div class=\"colab-df-container\">\n",
              "      <div>\n",
              "<style scoped>\n",
              "    .dataframe tbody tr th:only-of-type {\n",
              "        vertical-align: middle;\n",
              "    }\n",
              "\n",
              "    .dataframe tbody tr th {\n",
              "        vertical-align: top;\n",
              "    }\n",
              "\n",
              "    .dataframe thead th {\n",
              "        text-align: right;\n",
              "    }\n",
              "</style>\n",
              "<table border=\"1\" class=\"dataframe\">\n",
              "  <thead>\n",
              "    <tr style=\"text-align: right;\">\n",
              "      <th></th>\n",
              "      <th>id</th>\n",
              "      <th>hours</th>\n",
              "      <th>grade</th>\n",
              "    </tr>\n",
              "  </thead>\n",
              "  <tbody>\n",
              "    <tr>\n",
              "      <th>0</th>\n",
              "      <td>0</td>\n",
              "      <td>2</td>\n",
              "      <td>13</td>\n",
              "    </tr>\n",
              "    <tr>\n",
              "      <th>1</th>\n",
              "      <td>1</td>\n",
              "      <td>76</td>\n",
              "      <td>91</td>\n",
              "    </tr>\n",
              "    <tr>\n",
              "      <th>2</th>\n",
              "      <td>2</td>\n",
              "      <td>40</td>\n",
              "      <td>79</td>\n",
              "    </tr>\n",
              "    <tr>\n",
              "      <th>3</th>\n",
              "      <td>3</td>\n",
              "      <td>6</td>\n",
              "      <td>14</td>\n",
              "    </tr>\n",
              "    <tr>\n",
              "      <th>4</th>\n",
              "      <td>4</td>\n",
              "      <td>16</td>\n",
              "      <td>21</td>\n",
              "    </tr>\n",
              "    <tr>\n",
              "      <th>5</th>\n",
              "      <td>5</td>\n",
              "      <td>28</td>\n",
              "      <td>74</td>\n",
              "    </tr>\n",
              "    <tr>\n",
              "      <th>6</th>\n",
              "      <td>6</td>\n",
              "      <td>27</td>\n",
              "      <td>47</td>\n",
              "    </tr>\n",
              "    <tr>\n",
              "      <th>7</th>\n",
              "      <td>7</td>\n",
              "      <td>59</td>\n",
              "      <td>85</td>\n",
              "    </tr>\n",
              "    <tr>\n",
              "      <th>8</th>\n",
              "      <td>8</td>\n",
              "      <td>46</td>\n",
              "      <td>84</td>\n",
              "    </tr>\n",
              "    <tr>\n",
              "      <th>9</th>\n",
              "      <td>9</td>\n",
              "      <td>68</td>\n",
              "      <td>88</td>\n",
              "    </tr>\n",
              "  </tbody>\n",
              "</table>\n",
              "</div>\n",
              "      <button class=\"colab-df-convert\" onclick=\"convertToInteractive('df-9f6ba66a-2348-4358-9914-b4493ba063ec')\"\n",
              "              title=\"Convert this dataframe to an interactive table.\"\n",
              "              style=\"display:none;\">\n",
              "        \n",
              "  <svg xmlns=\"http://www.w3.org/2000/svg\" height=\"24px\"viewBox=\"0 0 24 24\"\n",
              "       width=\"24px\">\n",
              "    <path d=\"M0 0h24v24H0V0z\" fill=\"none\"/>\n",
              "    <path d=\"M18.56 5.44l.94 2.06.94-2.06 2.06-.94-2.06-.94-.94-2.06-.94 2.06-2.06.94zm-11 1L8.5 8.5l.94-2.06 2.06-.94-2.06-.94L8.5 2.5l-.94 2.06-2.06.94zm10 10l.94 2.06.94-2.06 2.06-.94-2.06-.94-.94-2.06-.94 2.06-2.06.94z\"/><path d=\"M17.41 7.96l-1.37-1.37c-.4-.4-.92-.59-1.43-.59-.52 0-1.04.2-1.43.59L10.3 9.45l-7.72 7.72c-.78.78-.78 2.05 0 2.83L4 21.41c.39.39.9.59 1.41.59.51 0 1.02-.2 1.41-.59l7.78-7.78 2.81-2.81c.8-.78.8-2.07 0-2.86zM5.41 20L4 18.59l7.72-7.72 1.47 1.35L5.41 20z\"/>\n",
              "  </svg>\n",
              "      </button>\n",
              "      \n",
              "  <style>\n",
              "    .colab-df-container {\n",
              "      display:flex;\n",
              "      flex-wrap:wrap;\n",
              "      gap: 12px;\n",
              "    }\n",
              "\n",
              "    .colab-df-convert {\n",
              "      background-color: #E8F0FE;\n",
              "      border: none;\n",
              "      border-radius: 50%;\n",
              "      cursor: pointer;\n",
              "      display: none;\n",
              "      fill: #1967D2;\n",
              "      height: 32px;\n",
              "      padding: 0 0 0 0;\n",
              "      width: 32px;\n",
              "    }\n",
              "\n",
              "    .colab-df-convert:hover {\n",
              "      background-color: #E2EBFA;\n",
              "      box-shadow: 0px 1px 2px rgba(60, 64, 67, 0.3), 0px 1px 3px 1px rgba(60, 64, 67, 0.15);\n",
              "      fill: #174EA6;\n",
              "    }\n",
              "\n",
              "    [theme=dark] .colab-df-convert {\n",
              "      background-color: #3B4455;\n",
              "      fill: #D2E3FC;\n",
              "    }\n",
              "\n",
              "    [theme=dark] .colab-df-convert:hover {\n",
              "      background-color: #434B5C;\n",
              "      box-shadow: 0px 1px 3px 1px rgba(0, 0, 0, 0.15);\n",
              "      filter: drop-shadow(0px 1px 2px rgba(0, 0, 0, 0.3));\n",
              "      fill: #FFFFFF;\n",
              "    }\n",
              "  </style>\n",
              "\n",
              "      <script>\n",
              "        const buttonEl =\n",
              "          document.querySelector('#df-9f6ba66a-2348-4358-9914-b4493ba063ec button.colab-df-convert');\n",
              "        buttonEl.style.display =\n",
              "          google.colab.kernel.accessAllowed ? 'block' : 'none';\n",
              "\n",
              "        async function convertToInteractive(key) {\n",
              "          const element = document.querySelector('#df-9f6ba66a-2348-4358-9914-b4493ba063ec');\n",
              "          const dataTable =\n",
              "            await google.colab.kernel.invokeFunction('convertToInteractive',\n",
              "                                                     [key], {});\n",
              "          if (!dataTable) return;\n",
              "\n",
              "          const docLinkHtml = 'Like what you see? Visit the ' +\n",
              "            '<a target=\"_blank\" href=https://colab.research.google.com/notebooks/data_table.ipynb>data table notebook</a>'\n",
              "            + ' to learn more about interactive tables.';\n",
              "          element.innerHTML = '';\n",
              "          dataTable['output_type'] = 'display_data';\n",
              "          await google.colab.output.renderOutput(dataTable, element);\n",
              "          const docLink = document.createElement('div');\n",
              "          docLink.innerHTML = docLinkHtml;\n",
              "          element.appendChild(docLink);\n",
              "        }\n",
              "      </script>\n",
              "    </div>\n",
              "  </div>\n",
              "  "
            ]
          },
          "metadata": {},
          "execution_count": 76
        }
      ]
    },
    {
      "cell_type": "code",
      "source": [
        "# Pearson correlation\n",
        "stats.pearsonr( x = grades_df['hours'], y = grades_df['grade'] )\n",
        "# Doesn't capture that increasing hours always increases grade"
      ],
      "metadata": {
        "colab": {
          "base_uri": "https://localhost:8080/"
        },
        "id": "bYzqKz_p5qbx",
        "outputId": "023f7dfc-b1ee-489b-ec96-89d048dd8710"
      },
      "execution_count": 77,
      "outputs": [
        {
          "output_type": "execute_result",
          "data": {
            "text/plain": [
              "(0.9094019658612522, 0.00026389907289258666)"
            ]
          },
          "metadata": {},
          "execution_count": 77
        }
      ]
    },
    {
      "cell_type": "code",
      "source": [
        "# Spearman rank correlation\n",
        "# Rank students from least to most - Student 0 did least amount of work (2 study hours) - rank=1\n",
        "# Use Pandas’ .rank() method to rank each column and assign it to a new column of the data frame.\n",
        "grades_df['rank_grade']=grades_df['grade'].rank()\n",
        "grades_df['rank_hours']=grades_df['hours'].rank()\n",
        "grades_df"
      ],
      "metadata": {
        "colab": {
          "base_uri": "https://localhost:8080/",
          "height": 363
        },
        "id": "-MKu5MRa6Biv",
        "outputId": "c27ae634-1295-4901-db2e-01e01ccaaaa1"
      },
      "execution_count": 78,
      "outputs": [
        {
          "output_type": "execute_result",
          "data": {
            "text/plain": [
              "   id  hours  grade  rank_grade  rank_hours\n",
              "0   0      2     13        1.00        1.00\n",
              "1   1     76     91       10.00       10.00\n",
              "2   2     40     79        6.00        6.00\n",
              "3   3      6     14        2.00        2.00\n",
              "4   4     16     21        3.00        3.00\n",
              "5   5     28     74        5.00        5.00\n",
              "6   6     27     47        4.00        4.00\n",
              "7   7     59     85        8.00        8.00\n",
              "8   8     46     84        7.00        7.00\n",
              "9   9     68     88        9.00        9.00"
            ],
            "text/html": [
              "\n",
              "  <div id=\"df-ff8f53c2-458a-4678-beb3-8e8c72cae781\">\n",
              "    <div class=\"colab-df-container\">\n",
              "      <div>\n",
              "<style scoped>\n",
              "    .dataframe tbody tr th:only-of-type {\n",
              "        vertical-align: middle;\n",
              "    }\n",
              "\n",
              "    .dataframe tbody tr th {\n",
              "        vertical-align: top;\n",
              "    }\n",
              "\n",
              "    .dataframe thead th {\n",
              "        text-align: right;\n",
              "    }\n",
              "</style>\n",
              "<table border=\"1\" class=\"dataframe\">\n",
              "  <thead>\n",
              "    <tr style=\"text-align: right;\">\n",
              "      <th></th>\n",
              "      <th>id</th>\n",
              "      <th>hours</th>\n",
              "      <th>grade</th>\n",
              "      <th>rank_grade</th>\n",
              "      <th>rank_hours</th>\n",
              "    </tr>\n",
              "  </thead>\n",
              "  <tbody>\n",
              "    <tr>\n",
              "      <th>0</th>\n",
              "      <td>0</td>\n",
              "      <td>2</td>\n",
              "      <td>13</td>\n",
              "      <td>1.00</td>\n",
              "      <td>1.00</td>\n",
              "    </tr>\n",
              "    <tr>\n",
              "      <th>1</th>\n",
              "      <td>1</td>\n",
              "      <td>76</td>\n",
              "      <td>91</td>\n",
              "      <td>10.00</td>\n",
              "      <td>10.00</td>\n",
              "    </tr>\n",
              "    <tr>\n",
              "      <th>2</th>\n",
              "      <td>2</td>\n",
              "      <td>40</td>\n",
              "      <td>79</td>\n",
              "      <td>6.00</td>\n",
              "      <td>6.00</td>\n",
              "    </tr>\n",
              "    <tr>\n",
              "      <th>3</th>\n",
              "      <td>3</td>\n",
              "      <td>6</td>\n",
              "      <td>14</td>\n",
              "      <td>2.00</td>\n",
              "      <td>2.00</td>\n",
              "    </tr>\n",
              "    <tr>\n",
              "      <th>4</th>\n",
              "      <td>4</td>\n",
              "      <td>16</td>\n",
              "      <td>21</td>\n",
              "      <td>3.00</td>\n",
              "      <td>3.00</td>\n",
              "    </tr>\n",
              "    <tr>\n",
              "      <th>5</th>\n",
              "      <td>5</td>\n",
              "      <td>28</td>\n",
              "      <td>74</td>\n",
              "      <td>5.00</td>\n",
              "      <td>5.00</td>\n",
              "    </tr>\n",
              "    <tr>\n",
              "      <th>6</th>\n",
              "      <td>6</td>\n",
              "      <td>27</td>\n",
              "      <td>47</td>\n",
              "      <td>4.00</td>\n",
              "      <td>4.00</td>\n",
              "    </tr>\n",
              "    <tr>\n",
              "      <th>7</th>\n",
              "      <td>7</td>\n",
              "      <td>59</td>\n",
              "      <td>85</td>\n",
              "      <td>8.00</td>\n",
              "      <td>8.00</td>\n",
              "    </tr>\n",
              "    <tr>\n",
              "      <th>8</th>\n",
              "      <td>8</td>\n",
              "      <td>46</td>\n",
              "      <td>84</td>\n",
              "      <td>7.00</td>\n",
              "      <td>7.00</td>\n",
              "    </tr>\n",
              "    <tr>\n",
              "      <th>9</th>\n",
              "      <td>9</td>\n",
              "      <td>68</td>\n",
              "      <td>88</td>\n",
              "      <td>9.00</td>\n",
              "      <td>9.00</td>\n",
              "    </tr>\n",
              "  </tbody>\n",
              "</table>\n",
              "</div>\n",
              "      <button class=\"colab-df-convert\" onclick=\"convertToInteractive('df-ff8f53c2-458a-4678-beb3-8e8c72cae781')\"\n",
              "              title=\"Convert this dataframe to an interactive table.\"\n",
              "              style=\"display:none;\">\n",
              "        \n",
              "  <svg xmlns=\"http://www.w3.org/2000/svg\" height=\"24px\"viewBox=\"0 0 24 24\"\n",
              "       width=\"24px\">\n",
              "    <path d=\"M0 0h24v24H0V0z\" fill=\"none\"/>\n",
              "    <path d=\"M18.56 5.44l.94 2.06.94-2.06 2.06-.94-2.06-.94-.94-2.06-.94 2.06-2.06.94zm-11 1L8.5 8.5l.94-2.06 2.06-.94-2.06-.94L8.5 2.5l-.94 2.06-2.06.94zm10 10l.94 2.06.94-2.06 2.06-.94-2.06-.94-.94-2.06-.94 2.06-2.06.94z\"/><path d=\"M17.41 7.96l-1.37-1.37c-.4-.4-.92-.59-1.43-.59-.52 0-1.04.2-1.43.59L10.3 9.45l-7.72 7.72c-.78.78-.78 2.05 0 2.83L4 21.41c.39.39.9.59 1.41.59.51 0 1.02-.2 1.41-.59l7.78-7.78 2.81-2.81c.8-.78.8-2.07 0-2.86zM5.41 20L4 18.59l7.72-7.72 1.47 1.35L5.41 20z\"/>\n",
              "  </svg>\n",
              "      </button>\n",
              "      \n",
              "  <style>\n",
              "    .colab-df-container {\n",
              "      display:flex;\n",
              "      flex-wrap:wrap;\n",
              "      gap: 12px;\n",
              "    }\n",
              "\n",
              "    .colab-df-convert {\n",
              "      background-color: #E8F0FE;\n",
              "      border: none;\n",
              "      border-radius: 50%;\n",
              "      cursor: pointer;\n",
              "      display: none;\n",
              "      fill: #1967D2;\n",
              "      height: 32px;\n",
              "      padding: 0 0 0 0;\n",
              "      width: 32px;\n",
              "    }\n",
              "\n",
              "    .colab-df-convert:hover {\n",
              "      background-color: #E2EBFA;\n",
              "      box-shadow: 0px 1px 2px rgba(60, 64, 67, 0.3), 0px 1px 3px 1px rgba(60, 64, 67, 0.15);\n",
              "      fill: #174EA6;\n",
              "    }\n",
              "\n",
              "    [theme=dark] .colab-df-convert {\n",
              "      background-color: #3B4455;\n",
              "      fill: #D2E3FC;\n",
              "    }\n",
              "\n",
              "    [theme=dark] .colab-df-convert:hover {\n",
              "      background-color: #434B5C;\n",
              "      box-shadow: 0px 1px 3px 1px rgba(0, 0, 0, 0.15);\n",
              "      filter: drop-shadow(0px 1px 2px rgba(0, 0, 0, 0.3));\n",
              "      fill: #FFFFFF;\n",
              "    }\n",
              "  </style>\n",
              "\n",
              "      <script>\n",
              "        const buttonEl =\n",
              "          document.querySelector('#df-ff8f53c2-458a-4678-beb3-8e8c72cae781 button.colab-df-convert');\n",
              "        buttonEl.style.display =\n",
              "          google.colab.kernel.accessAllowed ? 'block' : 'none';\n",
              "\n",
              "        async function convertToInteractive(key) {\n",
              "          const element = document.querySelector('#df-ff8f53c2-458a-4678-beb3-8e8c72cae781');\n",
              "          const dataTable =\n",
              "            await google.colab.kernel.invokeFunction('convertToInteractive',\n",
              "                                                     [key], {});\n",
              "          if (!dataTable) return;\n",
              "\n",
              "          const docLinkHtml = 'Like what you see? Visit the ' +\n",
              "            '<a target=\"_blank\" href=https://colab.research.google.com/notebooks/data_table.ipynb>data table notebook</a>'\n",
              "            + ' to learn more about interactive tables.';\n",
              "          element.innerHTML = '';\n",
              "          dataTable['output_type'] = 'display_data';\n",
              "          await google.colab.output.renderOutput(dataTable, element);\n",
              "          const docLink = document.createElement('div');\n",
              "          docLink.innerHTML = docLinkHtml;\n",
              "          element.appendChild(docLink);\n",
              "        }\n",
              "      </script>\n",
              "    </div>\n",
              "  </div>\n",
              "  "
            ]
          },
          "metadata": {},
          "execution_count": 78
        }
      ]
    },
    {
      "cell_type": "code",
      "source": [
        "# Pearson correlation of ranked hours and grades\n",
        "stats.pearsonr( x = grades_df['rank_hours'], y = grades_df['rank_grade'] )\n",
        "# Perfect relationship"
      ],
      "metadata": {
        "colab": {
          "base_uri": "https://localhost:8080/"
        },
        "id": "zIwt84OK6k6X",
        "outputId": "d72b0e26-445d-4f44-c125-e3b11a768718"
      },
      "execution_count": 84,
      "outputs": [
        {
          "output_type": "execute_result",
          "data": {
            "text/plain": [
              "(1.0, 0.0)"
            ]
          },
          "metadata": {},
          "execution_count": 84
        }
      ]
    },
    {
      "cell_type": "code",
      "source": [
        "# Spearman correlation (same as above - slightly different line of code)\n",
        "print(\"r =\", stats.spearmanr(grades_df['rank_hours'], grades_df['rank_grade'])[0])"
      ],
      "metadata": {
        "colab": {
          "base_uri": "https://localhost:8080/"
        },
        "id": "o6TtHSQM6yEF",
        "outputId": "ecb30686-0ea4-4a05-e780-65f6bc40b3df"
      },
      "execution_count": 86,
      "outputs": [
        {
          "output_type": "stream",
          "name": "stdout",
          "text": [
            "r = 0.9999999999999999\n"
          ]
        }
      ]
    }
  ]
}