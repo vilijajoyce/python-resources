{
  "nbformat": 4,
  "nbformat_minor": 0,
  "metadata": {
    "colab": {
      "name": "python_lake_009_sampling.ipynb",
      "provenance": [],
      "authorship_tag": "ABX9TyN2jYNrHJNH1JmkJOxkzXYZ",
      "include_colab_link": true
    },
    "kernelspec": {
      "name": "python3",
      "display_name": "Python 3"
    },
    "language_info": {
      "name": "python"
    }
  },
  "cells": [
    {
      "cell_type": "markdown",
      "metadata": {
        "id": "view-in-github",
        "colab_type": "text"
      },
      "source": [
        "<a href=\"https://colab.research.google.com/github/vilijajoyce/python-resources/blob/main/python_lake_009_sampling.ipynb\" target=\"_parent\"><img src=\"https://colab.research.google.com/assets/colab-badge.svg\" alt=\"Open In Colab\"/></a>"
      ]
    },
    {
      "cell_type": "markdown",
      "source": [
        "## Samples, populations, and sampling\n",
        "Inferential stats - learn what we do not know from what we do.\n",
        "\n",
        "Estimation and hypothesis testing.\n",
        "\n",
        "Sampling theory - draw inferences from the sample and draw inferences about the population. What do we have available to us as researchers? A sample of data (finite...incomplete). Impossible to include everyone in the world in our clinical trial.\n",
        "\n",
        "## Defining a population\n",
        "Population - all possible people or observations what you want to draw conclusions about.\n",
        "\n",
        "## Simple random samples\n",
        "Sample - subset of the population. Use our knowledge of the sample to draw inferences about the properties of the population.\n",
        "\n",
        "Sampling method - procedure by which the sample was selected.\n",
        "\n",
        "Simple random sample - procedure in which every member of the population has the same chance of being selected.\n",
        "\n",
        "W/ or W/O replacement\n",
        "\n",
        "## Most samples are not simple random samples\n",
        "Stratified sampling - run study at several different sites - collect a random sample from each site or strata. Oversampling - over-represent rare groups.\n",
        "\n",
        "Snowball sampling - e.g. ask participants w/ rare dx to participate and then ask them to provide contact details for other people who might want to participate. Highly non-random. \"Social networks are complex things, and just because you can use them to get data doesn’t always mean you should.\"\n",
        "\n",
        "Convenience sampling - convenient to researcher - not random.\n",
        "\n",
        "## How much does it matter if you don't have a simple random sample?\n",
        "We only need it to be random with respect to the phenomenon of interest.\n",
        "\n",
        "Think about what population you care about.\n",
        "\n",
        "## W.E.I.R.D samples in psych research\n",
        "Psychologists working in universities depending on convenience samples end up with Western, educated, industrialized, rich, democratic (W.E.I.R.D) societies. Conclusions drawn may not generalize to the rest of the world.\n",
        "\n",
        "Diversity-->more cross-cultural and Internet samples\n",
        "\n",
        "## Sampling stimulii\n",
        "## Random sampling of extraneous experiment details (e.g. font size)\n",
        "Skipped.\n",
        "\n",
        "##Population parameters and sample stats\n",
        "![picture](https://cims.nyu.edu/~brenden/courses/labincp/_images/navIQ.png) \n",
        "\n",
        "Ex. IQ tests are designed so that average IQ is 100 and SD is 15 and distribution is normal (bell-shaped).\n",
        "Population parameters - characteristics of entire population. Population mean = 100 and population SD = 15. \n",
        "\n",
        "Sample statistics - calculate from your dataset. n=100 people sampled at random will produce much more crude histogram than n=10,000. mean 98.5 (SD 15.9) - close, but not the same.\n",
        "\n",
        "Population parameters - things you want to learn about.\n",
        "\n",
        "##Law of large numbers\n",
        "As sample gets larger, sample mean tends to get closer to true population mean. Eg. sample of 100 vs sample of 10,000 --> see histograms above.\n",
        "\n",
        "Collecting more and more data leads us to the truth aka true population parameters.\n",
        "\n",
        "Simulate experiment w/ 10,000 people sampled using numpy.\n"
      ],
      "metadata": {
        "id": "ulztPlvG8EsV"
      }
    },
    {
      "cell_type": "code",
      "execution_count": 7,
      "metadata": {
        "id": "3NZ4gdV18EUf"
      },
      "outputs": [],
      "source": [
        "import numpy as np\n",
        "import numpy.random as npr\n",
        "import matplotlib.pyplot as plt"
      ]
    },
    {
      "cell_type": "code",
      "source": [
        "# Generate 10,000 fake IQ scores\n",
        "IQ = npr.normal(loc=100,scale=15,size=10000) # generate iq scores\n",
        "IQ = np.round(IQ, decimals=0)"
      ],
      "metadata": {
        "id": "pdgufVBIOuZ0"
      },
      "execution_count": 3,
      "outputs": []
    },
    {
      "cell_type": "code",
      "source": [
        "# View first 100 rows\n",
        "print(IQ[1:100])"
      ],
      "metadata": {
        "colab": {
          "base_uri": "https://localhost:8080/"
        },
        "id": "6ccaIGH2O3Et",
        "outputId": "7c0bff46-721a-478f-f59d-e6e662bfc626"
      },
      "execution_count": 4,
      "outputs": [
        {
          "output_type": "stream",
          "name": "stdout",
          "text": [
            "[ 89. 113.  76.  89.  89. 118. 104.  88.  95.  99.  90. 115.  99. 105.\n",
            " 114. 112.  97.  99. 109. 109.  97.  94. 100. 114.  76. 118.  76. 116.\n",
            " 103. 113. 104.  74.  93. 102.  58.  95. 106. 107. 103. 118. 116.  53.\n",
            "  97. 130.  71.  93.  64.  71. 103.  99.  81.  85.  88. 113. 124. 112.\n",
            " 102.  80. 108.  90. 101. 106.  91.  92. 129. 125.  84. 102. 104.  89.\n",
            "  84.  99.  92.  99. 105. 117.  97. 110. 104. 111.  49.  99. 107.  89.\n",
            " 127. 108. 129. 105.  98. 115. 104. 121.  95.  71.  96. 124.  99. 121.\n",
            "  84.]\n"
          ]
        }
      ]
    },
    {
      "cell_type": "code",
      "source": [
        "# Compute mean (SD) IQ and draw a histogram\n",
        "print(np.mean(IQ))\n",
        "print(np.std(IQ))\n",
        "n, bins, patches = plt.hist(IQ, 50, density=True, facecolor='b', alpha=0.75)\n",
        "# Larger sample = better approximation to the true population distribution than the n=100 sample. mean=99.9 (SD 14.9). \n",
        "# Values are close to true population."
      ],
      "metadata": {
        "colab": {
          "base_uri": "https://localhost:8080/",
          "height": 300
        },
        "id": "Vk8mMrocPA_-",
        "outputId": "b97f5c3f-b51b-430f-b304-d69b9f8e49a6"
      },
      "execution_count": 8,
      "outputs": [
        {
          "output_type": "stream",
          "name": "stdout",
          "text": [
            "99.9104\n",
            "14.889451697090797\n"
          ]
        },
        {
          "output_type": "display_data",
          "data": {
            "text/plain": [
              "<Figure size 432x288 with 1 Axes>"
            ],
            "image/png": "[encoded data removed]"
          },
          "metadata": {
            "needs_background": "light"
          }
        }
      ]
    },
    {
      "cell_type": "markdown",
      "source": [
        "## Estimating aspects of the population\n",
        "We are interested in estimation of parameters (different aspects) of the population.\n",
        "\n",
        "Statistical estimation = best guess. Sample mean as the best guess of a population mean.\n",
        "\n",
        "Sample statistic = description of our data. \n",
        "\n",
        "Estimate = guess about the population.\n",
        "\n",
        "## Estimating SD of population\n",
        "Sample SD is a biased estimator of the population SD."
      ],
      "metadata": {
        "id": "c3FesX6wQZ6v"
      }
    }
  ]
}